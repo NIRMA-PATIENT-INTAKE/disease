{
 "cells": [
  {
   "cell_type": "code",
   "execution_count": 227,
   "outputs": [
    {
     "name": "stdout",
     "output_type": "stream",
     "text": [
      "Requirement already satisfied: pymorphy2 in /home/dmitrypogrebnoy/Desktop/disease/venv/lib/python3.9/site-packages (0.9.1)\r\n",
      "Requirement already satisfied: pymorphy2-dicts-ru<3.0,>=2.4 in /home/dmitrypogrebnoy/Desktop/disease/venv/lib/python3.9/site-packages (from pymorphy2) (2.4.417127.4579844)\r\n",
      "Requirement already satisfied: dawg-python>=0.7.1 in /home/dmitrypogrebnoy/Desktop/disease/venv/lib/python3.9/site-packages (from pymorphy2) (0.7.2)\r\n",
      "Requirement already satisfied: docopt>=0.6 in /home/dmitrypogrebnoy/Desktop/disease/venv/lib/python3.9/site-packages (from pymorphy2) (0.6.2)\r\n",
      "\r\n",
      "\u001B[1m[\u001B[0m\u001B[34;49mnotice\u001B[0m\u001B[1;39;49m]\u001B[0m\u001B[39;49m A new release of pip available: \u001B[0m\u001B[31;49m22.3.1\u001B[0m\u001B[39;49m -> \u001B[0m\u001B[32;49m23.1.2\u001B[0m\r\n",
      "\u001B[1m[\u001B[0m\u001B[34;49mnotice\u001B[0m\u001B[1;39;49m]\u001B[0m\u001B[39;49m To update, run: \u001B[0m\u001B[32;49mpip install --upgrade pip\u001B[0m\r\n",
      "Requirement already satisfied: distool in /home/dmitrypogrebnoy/Desktop/disease/venv/lib/python3.9/site-packages (0.1.6)\r\n",
      "Requirement already satisfied: negspacy in /home/dmitrypogrebnoy/Desktop/disease/venv/lib/python3.9/site-packages (from distool) (1.0.3)\r\n",
      "Requirement already satisfied: numpy in /home/dmitrypogrebnoy/Desktop/disease/venv/lib/python3.9/site-packages (from distool) (1.24.1)\r\n",
      "Requirement already satisfied: beautifulsoup4 in /home/dmitrypogrebnoy/Desktop/disease/venv/lib/python3.9/site-packages (from distool) (4.11.1)\r\n",
      "Requirement already satisfied: attrs in /home/dmitrypogrebnoy/Desktop/disease/venv/lib/python3.9/site-packages (from distool) (22.2.0)\r\n",
      "Requirement already satisfied: scikit-learn in /home/dmitrypogrebnoy/Desktop/disease/venv/lib/python3.9/site-packages (from distool) (1.2.1)\r\n",
      "Requirement already satisfied: spacy in /home/dmitrypogrebnoy/Desktop/disease/venv/lib/python3.9/site-packages (from distool) (3.5.0)\r\n",
      "Requirement already satisfied: soupsieve>1.2 in /home/dmitrypogrebnoy/Desktop/disease/venv/lib/python3.9/site-packages (from beautifulsoup4->distool) (2.3.2.post1)\r\n",
      "Requirement already satisfied: requests<3.0.0,>=2.13.0 in /home/dmitrypogrebnoy/Desktop/disease/venv/lib/python3.9/site-packages (from spacy->distool) (2.28.2)\r\n",
      "Requirement already satisfied: jinja2 in /home/dmitrypogrebnoy/Desktop/disease/venv/lib/python3.9/site-packages (from spacy->distool) (3.1.2)\r\n",
      "Requirement already satisfied: tqdm<5.0.0,>=4.38.0 in /home/dmitrypogrebnoy/Desktop/disease/venv/lib/python3.9/site-packages (from spacy->distool) (4.64.1)\r\n",
      "Requirement already satisfied: srsly<3.0.0,>=2.4.3 in /home/dmitrypogrebnoy/Desktop/disease/venv/lib/python3.9/site-packages (from spacy->distool) (2.4.5)\r\n",
      "Requirement already satisfied: spacy-legacy<3.1.0,>=3.0.11 in /home/dmitrypogrebnoy/Desktop/disease/venv/lib/python3.9/site-packages (from spacy->distool) (3.0.12)\r\n",
      "Requirement already satisfied: pathy>=0.10.0 in /home/dmitrypogrebnoy/Desktop/disease/venv/lib/python3.9/site-packages (from spacy->distool) (0.10.1)\r\n",
      "Requirement already satisfied: langcodes<4.0.0,>=3.2.0 in /home/dmitrypogrebnoy/Desktop/disease/venv/lib/python3.9/site-packages (from spacy->distool) (3.3.0)\r\n",
      "Requirement already satisfied: smart-open<7.0.0,>=5.2.1 in /home/dmitrypogrebnoy/Desktop/disease/venv/lib/python3.9/site-packages (from spacy->distool) (6.3.0)\r\n",
      "Requirement already satisfied: spacy-loggers<2.0.0,>=1.0.0 in /home/dmitrypogrebnoy/Desktop/disease/venv/lib/python3.9/site-packages (from spacy->distool) (1.0.4)\r\n",
      "Requirement already satisfied: pydantic!=1.8,!=1.8.1,<1.11.0,>=1.7.4 in /home/dmitrypogrebnoy/Desktop/disease/venv/lib/python3.9/site-packages (from spacy->distool) (1.10.4)\r\n",
      "Requirement already satisfied: cymem<2.1.0,>=2.0.2 in /home/dmitrypogrebnoy/Desktop/disease/venv/lib/python3.9/site-packages (from spacy->distool) (2.0.7)\r\n",
      "Requirement already satisfied: typer<0.8.0,>=0.3.0 in /home/dmitrypogrebnoy/Desktop/disease/venv/lib/python3.9/site-packages (from spacy->distool) (0.7.0)\r\n",
      "Requirement already satisfied: preshed<3.1.0,>=3.0.2 in /home/dmitrypogrebnoy/Desktop/disease/venv/lib/python3.9/site-packages (from spacy->distool) (3.0.8)\r\n",
      "Requirement already satisfied: setuptools in /home/dmitrypogrebnoy/Desktop/disease/venv/lib/python3.9/site-packages (from spacy->distool) (65.5.1)\r\n",
      "Requirement already satisfied: packaging>=20.0 in /home/dmitrypogrebnoy/Desktop/disease/venv/lib/python3.9/site-packages (from spacy->distool) (23.0)\r\n",
      "Requirement already satisfied: wasabi<1.2.0,>=0.9.1 in /home/dmitrypogrebnoy/Desktop/disease/venv/lib/python3.9/site-packages (from spacy->distool) (1.1.1)\r\n",
      "Requirement already satisfied: catalogue<2.1.0,>=2.0.6 in /home/dmitrypogrebnoy/Desktop/disease/venv/lib/python3.9/site-packages (from spacy->distool) (2.0.8)\r\n",
      "Requirement already satisfied: murmurhash<1.1.0,>=0.28.0 in /home/dmitrypogrebnoy/Desktop/disease/venv/lib/python3.9/site-packages (from spacy->distool) (1.0.9)\r\n",
      "Requirement already satisfied: thinc<8.2.0,>=8.1.0 in /home/dmitrypogrebnoy/Desktop/disease/venv/lib/python3.9/site-packages (from spacy->distool) (8.1.7)\r\n",
      "Requirement already satisfied: threadpoolctl>=2.0.0 in /home/dmitrypogrebnoy/Desktop/disease/venv/lib/python3.9/site-packages (from scikit-learn->distool) (3.1.0)\r\n",
      "Requirement already satisfied: scipy>=1.3.2 in /home/dmitrypogrebnoy/Desktop/disease/venv/lib/python3.9/site-packages (from scikit-learn->distool) (1.10.1)\r\n",
      "Requirement already satisfied: joblib>=1.1.1 in /home/dmitrypogrebnoy/Desktop/disease/venv/lib/python3.9/site-packages (from scikit-learn->distool) (1.2.0)\r\n",
      "Requirement already satisfied: typing-extensions>=4.2.0 in /home/dmitrypogrebnoy/Desktop/disease/venv/lib/python3.9/site-packages (from pydantic!=1.8,!=1.8.1,<1.11.0,>=1.7.4->spacy->distool) (4.4.0)\r\n",
      "Requirement already satisfied: urllib3<1.27,>=1.21.1 in /home/dmitrypogrebnoy/Desktop/disease/venv/lib/python3.9/site-packages (from requests<3.0.0,>=2.13.0->spacy->distool) (1.26.14)\r\n",
      "Requirement already satisfied: charset-normalizer<4,>=2 in /home/dmitrypogrebnoy/Desktop/disease/venv/lib/python3.9/site-packages (from requests<3.0.0,>=2.13.0->spacy->distool) (3.0.1)\r\n",
      "Requirement already satisfied: certifi>=2017.4.17 in /home/dmitrypogrebnoy/Desktop/disease/venv/lib/python3.9/site-packages (from requests<3.0.0,>=2.13.0->spacy->distool) (2022.12.7)\r\n",
      "Requirement already satisfied: idna<4,>=2.5 in /home/dmitrypogrebnoy/Desktop/disease/venv/lib/python3.9/site-packages (from requests<3.0.0,>=2.13.0->spacy->distool) (3.4)\r\n",
      "Requirement already satisfied: blis<0.8.0,>=0.7.8 in /home/dmitrypogrebnoy/Desktop/disease/venv/lib/python3.9/site-packages (from thinc<8.2.0,>=8.1.0->spacy->distool) (0.7.9)\r\n",
      "Requirement already satisfied: confection<1.0.0,>=0.0.1 in /home/dmitrypogrebnoy/Desktop/disease/venv/lib/python3.9/site-packages (from thinc<8.2.0,>=8.1.0->spacy->distool) (0.0.4)\r\n",
      "Requirement already satisfied: click<9.0.0,>=7.1.1 in /home/dmitrypogrebnoy/Desktop/disease/venv/lib/python3.9/site-packages (from typer<0.8.0,>=0.3.0->spacy->distool) (8.1.3)\r\n",
      "Requirement already satisfied: MarkupSafe>=2.0 in /home/dmitrypogrebnoy/Desktop/disease/venv/lib/python3.9/site-packages (from jinja2->spacy->distool) (2.1.2)\r\n",
      "\r\n",
      "\u001B[1m[\u001B[0m\u001B[34;49mnotice\u001B[0m\u001B[1;39;49m]\u001B[0m\u001B[39;49m A new release of pip available: \u001B[0m\u001B[31;49m22.3.1\u001B[0m\u001B[39;49m -> \u001B[0m\u001B[32;49m23.1.2\u001B[0m\r\n",
      "\u001B[1m[\u001B[0m\u001B[34;49mnotice\u001B[0m\u001B[1;39;49m]\u001B[0m\u001B[39;49m To update, run: \u001B[0m\u001B[32;49mpip install --upgrade pip\u001B[0m\r\n",
      "Collecting ru-core-news-md==3.5.0\r\n",
      "  Downloading https://github.com/explosion/spacy-models/releases/download/ru_core_news_md-3.5.0/ru_core_news_md-3.5.0-py3-none-any.whl (41.9 MB)\r\n",
      "\u001B[2K     \u001B[90m━━━━━━━━━━━━━━━━━━━━━━━━━━━━━━━━━━━━━━━━\u001B[0m \u001B[32m41.9/41.9 MB\u001B[0m \u001B[31m10.6 MB/s\u001B[0m eta \u001B[36m0:00:00\u001B[0m00:01\u001B[0m00:01\u001B[0m\r\n",
      "\u001B[?25hRequirement already satisfied: spacy<3.6.0,>=3.5.0 in /home/dmitrypogrebnoy/Desktop/disease/venv/lib/python3.9/site-packages (from ru-core-news-md==3.5.0) (3.5.0)\r\n",
      "Requirement already satisfied: pymorphy3>=1.0.0 in /home/dmitrypogrebnoy/Desktop/disease/venv/lib/python3.9/site-packages (from ru-core-news-md==3.5.0) (1.2.0)\r\n",
      "Requirement already satisfied: docopt>=0.6 in /home/dmitrypogrebnoy/Desktop/disease/venv/lib/python3.9/site-packages (from pymorphy3>=1.0.0->ru-core-news-md==3.5.0) (0.6.2)\r\n",
      "Requirement already satisfied: dawg-python>=0.7.1 in /home/dmitrypogrebnoy/Desktop/disease/venv/lib/python3.9/site-packages (from pymorphy3>=1.0.0->ru-core-news-md==3.5.0) (0.7.2)\r\n",
      "Requirement already satisfied: pymorphy3-dicts-ru in /home/dmitrypogrebnoy/Desktop/disease/venv/lib/python3.9/site-packages (from pymorphy3>=1.0.0->ru-core-news-md==3.5.0) (2.4.417150.4580142)\r\n",
      "Requirement already satisfied: pydantic!=1.8,!=1.8.1,<1.11.0,>=1.7.4 in /home/dmitrypogrebnoy/Desktop/disease/venv/lib/python3.9/site-packages (from spacy<3.6.0,>=3.5.0->ru-core-news-md==3.5.0) (1.10.4)\r\n",
      "Requirement already satisfied: wasabi<1.2.0,>=0.9.1 in /home/dmitrypogrebnoy/Desktop/disease/venv/lib/python3.9/site-packages (from spacy<3.6.0,>=3.5.0->ru-core-news-md==3.5.0) (1.1.1)\r\n",
      "Requirement already satisfied: pathy>=0.10.0 in /home/dmitrypogrebnoy/Desktop/disease/venv/lib/python3.9/site-packages (from spacy<3.6.0,>=3.5.0->ru-core-news-md==3.5.0) (0.10.1)\r\n",
      "Requirement already satisfied: preshed<3.1.0,>=3.0.2 in /home/dmitrypogrebnoy/Desktop/disease/venv/lib/python3.9/site-packages (from spacy<3.6.0,>=3.5.0->ru-core-news-md==3.5.0) (3.0.8)\r\n",
      "Requirement already satisfied: catalogue<2.1.0,>=2.0.6 in /home/dmitrypogrebnoy/Desktop/disease/venv/lib/python3.9/site-packages (from spacy<3.6.0,>=3.5.0->ru-core-news-md==3.5.0) (2.0.8)\r\n",
      "Requirement already satisfied: requests<3.0.0,>=2.13.0 in /home/dmitrypogrebnoy/Desktop/disease/venv/lib/python3.9/site-packages (from spacy<3.6.0,>=3.5.0->ru-core-news-md==3.5.0) (2.28.2)\r\n",
      "Requirement already satisfied: packaging>=20.0 in /home/dmitrypogrebnoy/Desktop/disease/venv/lib/python3.9/site-packages (from spacy<3.6.0,>=3.5.0->ru-core-news-md==3.5.0) (23.0)\r\n",
      "Requirement already satisfied: typer<0.8.0,>=0.3.0 in /home/dmitrypogrebnoy/Desktop/disease/venv/lib/python3.9/site-packages (from spacy<3.6.0,>=3.5.0->ru-core-news-md==3.5.0) (0.7.0)\r\n",
      "Requirement already satisfied: spacy-loggers<2.0.0,>=1.0.0 in /home/dmitrypogrebnoy/Desktop/disease/venv/lib/python3.9/site-packages (from spacy<3.6.0,>=3.5.0->ru-core-news-md==3.5.0) (1.0.4)\r\n",
      "Requirement already satisfied: thinc<8.2.0,>=8.1.0 in /home/dmitrypogrebnoy/Desktop/disease/venv/lib/python3.9/site-packages (from spacy<3.6.0,>=3.5.0->ru-core-news-md==3.5.0) (8.1.7)\r\n",
      "Requirement already satisfied: smart-open<7.0.0,>=5.2.1 in /home/dmitrypogrebnoy/Desktop/disease/venv/lib/python3.9/site-packages (from spacy<3.6.0,>=3.5.0->ru-core-news-md==3.5.0) (6.3.0)\r\n",
      "Requirement already satisfied: spacy-legacy<3.1.0,>=3.0.11 in /home/dmitrypogrebnoy/Desktop/disease/venv/lib/python3.9/site-packages (from spacy<3.6.0,>=3.5.0->ru-core-news-md==3.5.0) (3.0.12)\r\n",
      "Requirement already satisfied: langcodes<4.0.0,>=3.2.0 in /home/dmitrypogrebnoy/Desktop/disease/venv/lib/python3.9/site-packages (from spacy<3.6.0,>=3.5.0->ru-core-news-md==3.5.0) (3.3.0)\r\n",
      "Requirement already satisfied: jinja2 in /home/dmitrypogrebnoy/Desktop/disease/venv/lib/python3.9/site-packages (from spacy<3.6.0,>=3.5.0->ru-core-news-md==3.5.0) (3.1.2)\r\n",
      "Requirement already satisfied: setuptools in /home/dmitrypogrebnoy/Desktop/disease/venv/lib/python3.9/site-packages (from spacy<3.6.0,>=3.5.0->ru-core-news-md==3.5.0) (65.5.1)\r\n",
      "Requirement already satisfied: cymem<2.1.0,>=2.0.2 in /home/dmitrypogrebnoy/Desktop/disease/venv/lib/python3.9/site-packages (from spacy<3.6.0,>=3.5.0->ru-core-news-md==3.5.0) (2.0.7)\r\n",
      "Requirement already satisfied: numpy>=1.15.0 in /home/dmitrypogrebnoy/Desktop/disease/venv/lib/python3.9/site-packages (from spacy<3.6.0,>=3.5.0->ru-core-news-md==3.5.0) (1.24.1)\r\n",
      "Requirement already satisfied: murmurhash<1.1.0,>=0.28.0 in /home/dmitrypogrebnoy/Desktop/disease/venv/lib/python3.9/site-packages (from spacy<3.6.0,>=3.5.0->ru-core-news-md==3.5.0) (1.0.9)\r\n",
      "Requirement already satisfied: tqdm<5.0.0,>=4.38.0 in /home/dmitrypogrebnoy/Desktop/disease/venv/lib/python3.9/site-packages (from spacy<3.6.0,>=3.5.0->ru-core-news-md==3.5.0) (4.64.1)\r\n",
      "Requirement already satisfied: srsly<3.0.0,>=2.4.3 in /home/dmitrypogrebnoy/Desktop/disease/venv/lib/python3.9/site-packages (from spacy<3.6.0,>=3.5.0->ru-core-news-md==3.5.0) (2.4.5)\r\n",
      "Requirement already satisfied: typing-extensions>=4.2.0 in /home/dmitrypogrebnoy/Desktop/disease/venv/lib/python3.9/site-packages (from pydantic!=1.8,!=1.8.1,<1.11.0,>=1.7.4->spacy<3.6.0,>=3.5.0->ru-core-news-md==3.5.0) (4.4.0)\r\n",
      "Requirement already satisfied: certifi>=2017.4.17 in /home/dmitrypogrebnoy/Desktop/disease/venv/lib/python3.9/site-packages (from requests<3.0.0,>=2.13.0->spacy<3.6.0,>=3.5.0->ru-core-news-md==3.5.0) (2022.12.7)\r\n",
      "Requirement already satisfied: idna<4,>=2.5 in /home/dmitrypogrebnoy/Desktop/disease/venv/lib/python3.9/site-packages (from requests<3.0.0,>=2.13.0->spacy<3.6.0,>=3.5.0->ru-core-news-md==3.5.0) (3.4)\r\n",
      "Requirement already satisfied: charset-normalizer<4,>=2 in /home/dmitrypogrebnoy/Desktop/disease/venv/lib/python3.9/site-packages (from requests<3.0.0,>=2.13.0->spacy<3.6.0,>=3.5.0->ru-core-news-md==3.5.0) (3.0.1)\r\n",
      "Requirement already satisfied: urllib3<1.27,>=1.21.1 in /home/dmitrypogrebnoy/Desktop/disease/venv/lib/python3.9/site-packages (from requests<3.0.0,>=2.13.0->spacy<3.6.0,>=3.5.0->ru-core-news-md==3.5.0) (1.26.14)\r\n",
      "Requirement already satisfied: confection<1.0.0,>=0.0.1 in /home/dmitrypogrebnoy/Desktop/disease/venv/lib/python3.9/site-packages (from thinc<8.2.0,>=8.1.0->spacy<3.6.0,>=3.5.0->ru-core-news-md==3.5.0) (0.0.4)\r\n",
      "Requirement already satisfied: blis<0.8.0,>=0.7.8 in /home/dmitrypogrebnoy/Desktop/disease/venv/lib/python3.9/site-packages (from thinc<8.2.0,>=8.1.0->spacy<3.6.0,>=3.5.0->ru-core-news-md==3.5.0) (0.7.9)\r\n",
      "Requirement already satisfied: click<9.0.0,>=7.1.1 in /home/dmitrypogrebnoy/Desktop/disease/venv/lib/python3.9/site-packages (from typer<0.8.0,>=0.3.0->spacy<3.6.0,>=3.5.0->ru-core-news-md==3.5.0) (8.1.3)\r\n",
      "Requirement already satisfied: MarkupSafe>=2.0 in /home/dmitrypogrebnoy/Desktop/disease/venv/lib/python3.9/site-packages (from jinja2->spacy<3.6.0,>=3.5.0->ru-core-news-md==3.5.0) (2.1.2)\r\n",
      "\r\n",
      "\u001B[1m[\u001B[0m\u001B[34;49mnotice\u001B[0m\u001B[1;39;49m]\u001B[0m\u001B[39;49m A new release of pip available: \u001B[0m\u001B[31;49m22.3.1\u001B[0m\u001B[39;49m -> \u001B[0m\u001B[32;49m23.1.2\u001B[0m\r\n",
      "\u001B[1m[\u001B[0m\u001B[34;49mnotice\u001B[0m\u001B[1;39;49m]\u001B[0m\u001B[39;49m To update, run: \u001B[0m\u001B[32;49mpip install --upgrade pip\u001B[0m\r\n",
      "\u001B[38;5;2m✔ Download and installation successful\u001B[0m\r\n",
      "You can now load the package via spacy.load('ru_core_news_md')\r\n"
     ]
    }
   ],
   "source": [
    "import numpy as np\n",
    "!pip install pymorphy2\n",
    "!pip install distool\n",
    "!python -m spacy download ru_core_news_md"
   ],
   "metadata": {
    "collapsed": false,
    "ExecuteTime": {
     "start_time": "2023-04-28T22:20:59.657009Z",
     "end_time": "2023-04-28T22:21:10.511287Z"
    }
   }
  },
  {
   "cell_type": "code",
   "execution_count": 228,
   "outputs": [],
   "source": [
    "import re\n",
    "\n",
    "from collections import defaultdict\n",
    "from tqdm.notebook import tqdm\n",
    "from pathlib import Path\n",
    "import numpy as np\n",
    "from distool.feature_extraction.symptom_collection import SymptomCollection\n",
    "from distool.feature_extraction import SymptomExtractor\n",
    "from distool.feature_extraction.anamnesis import Anamnesis\n",
    "from distool.feature_extraction.symptom_status import SymptomStatus\n",
    "import pymorphy2\n",
    "\n",
    "import pandas as pd\n",
    "\n",
    "# tqdm.pandas()"
   ],
   "metadata": {
    "collapsed": false,
    "ExecuteTime": {
     "start_time": "2023-04-28T22:21:10.516313Z",
     "end_time": "2023-04-28T22:21:10.519029Z"
    }
   }
  },
  {
   "cell_type": "code",
   "execution_count": 229,
   "outputs": [
    {
     "data": {
      "text/plain": "                                                       Кардиология  \\\nИдентификатор                                                        \nb13c995673fb409fb66b5f81c180642b                          слабость   \n29ceffdca8bf494f9d21b55b4bc2995c                      боль в груди   \n2c75d3c2b87c400098f12aa710b3dde9  повышенное артериальное давление   \nd1129e9686df442b9dee566985735dba            учащенное сердцебиение   \n091ae4f1b0d14c82885ccdcdd81af6e3             хроническая усталость   \n\n                                  Unnamed: 2  \\\nИдентификатор                                  \nb13c995673fb409fb66b5f81c180642b           1   \n29ceffdca8bf494f9d21b55b4bc2995c           1   \n2c75d3c2b87c400098f12aa710b3dde9           1   \nd1129e9686df442b9dee566985735dba           1   \n091ae4f1b0d14c82885ccdcdd81af6e3           1   \n\n                                                        Unnamed: 3  \\\nИдентификатор                                                        \nb13c995673fb409fb66b5f81c180642b  повышенное артериальное давление   \n29ceffdca8bf494f9d21b55b4bc2995c                               NaN   \n2c75d3c2b87c400098f12aa710b3dde9                               NaN   \nd1129e9686df442b9dee566985735dba                      интоксикация   \n091ae4f1b0d14c82885ccdcdd81af6e3                      боль в груди   \n\n                                  Unnamed: 4      Unnamed: 5  Unnamed: 6  \\\nИдентификатор                                                              \nb13c995673fb409fb66b5f81c180642b         1.0  бледность кожи         1.0   \n29ceffdca8bf494f9d21b55b4bc2995c         NaN             NaN         NaN   \n2c75d3c2b87c400098f12aa710b3dde9         NaN             NaN         NaN   \nd1129e9686df442b9dee566985735dba         1.0    боль в груди         1.0   \n091ae4f1b0d14c82885ccdcdd81af6e3         1.0           отеки         1.0   \n\n                                          Unnamed: 7  Unnamed: 8  \\\nИдентификатор                                                      \nb13c995673fb409fb66b5f81c180642b  повышение аппетита         1.0   \n29ceffdca8bf494f9d21b55b4bc2995c                 NaN         NaN   \n2c75d3c2b87c400098f12aa710b3dde9                 NaN         NaN   \nd1129e9686df442b9dee566985735dba        слабый пульс         1.0   \n091ae4f1b0d14c82885ccdcdd81af6e3   поверхностный сон         1.0   \n\n                                                        Unnamed: 9  \\\nИдентификатор                                                        \nb13c995673fb409fb66b5f81c180642b                 снижение аппетита   \n29ceffdca8bf494f9d21b55b4bc2995c                               NaN   \n2c75d3c2b87c400098f12aa710b3dde9                               NaN   \nd1129e9686df442b9dee566985735dba                               NaN   \n091ae4f1b0d14c82885ccdcdd81af6e3  повышенное артериальное давление   \n\n                                  Unnamed: 10  ... Unnamed: 17  Unnamed: 18  \\\nИдентификатор                                  ...                            \nb13c995673fb409fb66b5f81c180642b          1.0  ...         NaN          NaN   \n29ceffdca8bf494f9d21b55b4bc2995c          NaN  ...         NaN          NaN   \n2c75d3c2b87c400098f12aa710b3dde9          NaN  ...         NaN          NaN   \nd1129e9686df442b9dee566985735dba          NaN  ...         NaN          NaN   \n091ae4f1b0d14c82885ccdcdd81af6e3          1.0  ...         NaN          NaN   \n\n                                 Unnamed: 19  Unnamed: 20 Unnamed: 21  \\\nИдентификатор                                                           \nb13c995673fb409fb66b5f81c180642b         NaN          NaN         NaN   \n29ceffdca8bf494f9d21b55b4bc2995c         NaN          NaN         NaN   \n2c75d3c2b87c400098f12aa710b3dde9         NaN          NaN         NaN   \nd1129e9686df442b9dee566985735dba         NaN          NaN         NaN   \n091ae4f1b0d14c82885ccdcdd81af6e3         NaN          NaN         NaN   \n\n                                  Unnamed: 22 Unnamed: 23  Unnamed: 24  \\\nИдентификатор                                                            \nb13c995673fb409fb66b5f81c180642b          NaN         NaN          NaN   \n29ceffdca8bf494f9d21b55b4bc2995c          NaN         NaN          NaN   \n2c75d3c2b87c400098f12aa710b3dde9          NaN         NaN          NaN   \nd1129e9686df442b9dee566985735dba          NaN         NaN          NaN   \n091ae4f1b0d14c82885ccdcdd81af6e3          NaN         NaN          NaN   \n\n                                 Unnamed: 25  Unnamed: 26  \nИдентификатор                                              \nb13c995673fb409fb66b5f81c180642b         NaN          NaN  \n29ceffdca8bf494f9d21b55b4bc2995c         NaN          NaN  \n2c75d3c2b87c400098f12aa710b3dde9         NaN          NaN  \nd1129e9686df442b9dee566985735dba         NaN          NaN  \n091ae4f1b0d14c82885ccdcdd81af6e3         NaN          NaN  \n\n[5 rows x 26 columns]",
      "text/html": "<div>\n<style scoped>\n    .dataframe tbody tr th:only-of-type {\n        vertical-align: middle;\n    }\n\n    .dataframe tbody tr th {\n        vertical-align: top;\n    }\n\n    .dataframe thead th {\n        text-align: right;\n    }\n</style>\n<table border=\"1\" class=\"dataframe\">\n  <thead>\n    <tr style=\"text-align: right;\">\n      <th></th>\n      <th>Кардиология</th>\n      <th>Unnamed: 2</th>\n      <th>Unnamed: 3</th>\n      <th>Unnamed: 4</th>\n      <th>Unnamed: 5</th>\n      <th>Unnamed: 6</th>\n      <th>Unnamed: 7</th>\n      <th>Unnamed: 8</th>\n      <th>Unnamed: 9</th>\n      <th>Unnamed: 10</th>\n      <th>...</th>\n      <th>Unnamed: 17</th>\n      <th>Unnamed: 18</th>\n      <th>Unnamed: 19</th>\n      <th>Unnamed: 20</th>\n      <th>Unnamed: 21</th>\n      <th>Unnamed: 22</th>\n      <th>Unnamed: 23</th>\n      <th>Unnamed: 24</th>\n      <th>Unnamed: 25</th>\n      <th>Unnamed: 26</th>\n    </tr>\n    <tr>\n      <th>Идентификатор</th>\n      <th></th>\n      <th></th>\n      <th></th>\n      <th></th>\n      <th></th>\n      <th></th>\n      <th></th>\n      <th></th>\n      <th></th>\n      <th></th>\n      <th></th>\n      <th></th>\n      <th></th>\n      <th></th>\n      <th></th>\n      <th></th>\n      <th></th>\n      <th></th>\n      <th></th>\n      <th></th>\n      <th></th>\n    </tr>\n  </thead>\n  <tbody>\n    <tr>\n      <th>b13c995673fb409fb66b5f81c180642b</th>\n      <td>слабость</td>\n      <td>1</td>\n      <td>повышенное артериальное давление</td>\n      <td>1.0</td>\n      <td>бледность кожи</td>\n      <td>1.0</td>\n      <td>повышение аппетита</td>\n      <td>1.0</td>\n      <td>снижение аппетита</td>\n      <td>1.0</td>\n      <td>...</td>\n      <td>NaN</td>\n      <td>NaN</td>\n      <td>NaN</td>\n      <td>NaN</td>\n      <td>NaN</td>\n      <td>NaN</td>\n      <td>NaN</td>\n      <td>NaN</td>\n      <td>NaN</td>\n      <td>NaN</td>\n    </tr>\n    <tr>\n      <th>29ceffdca8bf494f9d21b55b4bc2995c</th>\n      <td>боль в груди</td>\n      <td>1</td>\n      <td>NaN</td>\n      <td>NaN</td>\n      <td>NaN</td>\n      <td>NaN</td>\n      <td>NaN</td>\n      <td>NaN</td>\n      <td>NaN</td>\n      <td>NaN</td>\n      <td>...</td>\n      <td>NaN</td>\n      <td>NaN</td>\n      <td>NaN</td>\n      <td>NaN</td>\n      <td>NaN</td>\n      <td>NaN</td>\n      <td>NaN</td>\n      <td>NaN</td>\n      <td>NaN</td>\n      <td>NaN</td>\n    </tr>\n    <tr>\n      <th>2c75d3c2b87c400098f12aa710b3dde9</th>\n      <td>повышенное артериальное давление</td>\n      <td>1</td>\n      <td>NaN</td>\n      <td>NaN</td>\n      <td>NaN</td>\n      <td>NaN</td>\n      <td>NaN</td>\n      <td>NaN</td>\n      <td>NaN</td>\n      <td>NaN</td>\n      <td>...</td>\n      <td>NaN</td>\n      <td>NaN</td>\n      <td>NaN</td>\n      <td>NaN</td>\n      <td>NaN</td>\n      <td>NaN</td>\n      <td>NaN</td>\n      <td>NaN</td>\n      <td>NaN</td>\n      <td>NaN</td>\n    </tr>\n    <tr>\n      <th>d1129e9686df442b9dee566985735dba</th>\n      <td>учащенное сердцебиение</td>\n      <td>1</td>\n      <td>интоксикация</td>\n      <td>1.0</td>\n      <td>боль в груди</td>\n      <td>1.0</td>\n      <td>слабый пульс</td>\n      <td>1.0</td>\n      <td>NaN</td>\n      <td>NaN</td>\n      <td>...</td>\n      <td>NaN</td>\n      <td>NaN</td>\n      <td>NaN</td>\n      <td>NaN</td>\n      <td>NaN</td>\n      <td>NaN</td>\n      <td>NaN</td>\n      <td>NaN</td>\n      <td>NaN</td>\n      <td>NaN</td>\n    </tr>\n    <tr>\n      <th>091ae4f1b0d14c82885ccdcdd81af6e3</th>\n      <td>хроническая усталость</td>\n      <td>1</td>\n      <td>боль в груди</td>\n      <td>1.0</td>\n      <td>отеки</td>\n      <td>1.0</td>\n      <td>поверхностный сон</td>\n      <td>1.0</td>\n      <td>повышенное артериальное давление</td>\n      <td>1.0</td>\n      <td>...</td>\n      <td>NaN</td>\n      <td>NaN</td>\n      <td>NaN</td>\n      <td>NaN</td>\n      <td>NaN</td>\n      <td>NaN</td>\n      <td>NaN</td>\n      <td>NaN</td>\n      <td>NaN</td>\n      <td>NaN</td>\n    </tr>\n  </tbody>\n</table>\n<p>5 rows × 26 columns</p>\n</div>"
     },
     "execution_count": 229,
     "metadata": {},
     "output_type": "execute_result"
    }
   ],
   "source": [
    "marked_df = pd.read_csv(\"../data/patients_symptoms_marked.csv\").set_index(\"Идентификатор\")\n",
    "marked_df.head()"
   ],
   "metadata": {
    "collapsed": false,
    "ExecuteTime": {
     "start_time": "2023-04-28T22:21:10.522217Z",
     "end_time": "2023-04-28T22:21:10.580550Z"
    }
   }
  },
  {
   "cell_type": "code",
   "execution_count": 230,
   "outputs": [
    {
     "data": {
      "text/plain": "17"
     },
     "execution_count": 230,
     "metadata": {},
     "output_type": "execute_result"
    }
   ],
   "source": [
    "len(marked_df)"
   ],
   "metadata": {
    "collapsed": false,
    "ExecuteTime": {
     "start_time": "2023-04-28T22:21:10.574548Z",
     "end_time": "2023-04-28T22:21:10.580849Z"
    }
   }
  },
  {
   "cell_type": "code",
   "execution_count": 231,
   "outputs": [],
   "source": [
    "morph = pymorphy2.MorphAnalyzer()\n",
    "\n",
    "def lemmatize(text):\n",
    "    words = text.split() # разбиваем текст на слова\n",
    "    res = list()\n",
    "    for word in words:\n",
    "        p = morph.parse(word)[0]\n",
    "        res.append(p.normal_form)\n",
    "\n",
    "    return res\n",
    "\n",
    "def try_to_transform_symptom_to_id(symptom_str):\n",
    "    symptom_id = symptom_str.lower()\n",
    "    symptom_id = re.sub(r'(\\<(/?[^>]+)>)', ' ', symptom_id)\n",
    "    symptom_id = symptom_id.replace('[^\\w\\s]',' ')\n",
    "    symptom_id = re.sub(r'\\d+', ' ', symptom_id)\n",
    "    symptom_id = lemmatize(symptom_id)\n",
    "    symptom_id = ' '.join(symptom_id)\n",
    "    return symptom_id"
   ],
   "metadata": {
    "collapsed": false,
    "ExecuteTime": {
     "start_time": "2023-04-28T22:21:10.618123Z",
     "end_time": "2023-04-28T22:21:10.811063Z"
    }
   }
  },
  {
   "cell_type": "markdown",
   "source": [
    "# Find unknown symptoms\n"
   ],
   "metadata": {
    "collapsed": false
   }
  },
  {
   "cell_type": "code",
   "execution_count": 232,
   "outputs": [
    {
     "data": {
      "text/plain": "[Symptom(id_name='боль в горло', patterns=[[{'LEMMA': 'боль'}, {'LEMMA': 'в'}, {'LEMMA': 'горло'}]]),\n Symptom(id_name='температура', patterns=[[{'LEMMA': 'температура'}]]),\n Symptom(id_name='вялость', patterns=[[{'LEMMA': 'вялость'}]]),\n Symptom(id_name='головной боль', patterns=[[{'LEMMA': 'головной'}, {'LEMMA': 'боль'}]]),\n Symptom(id_name='увеличить лимфатический узел', patterns=[[{'LEMMA': 'увеличить'}, {'LEMMA': 'лимфатический'}, {'LEMMA': 'узел'}]]),\n Symptom(id_name='снижение аппетит', patterns=[[{'LEMMA': 'снижение'}, {'LEMMA': 'аппетит'}]]),\n Symptom(id_name='повышенный слюнотечение', patterns=[[{'LEMMA': 'повышенный'}, {'LEMMA': 'слюнотечение'}]]),\n Symptom(id_name='боль в ушах', patterns=[[{'LEMMA': 'боль'}, {'LEMMA': 'в'}, {'LEMMA': 'ушах'}]]),\n Symptom(id_name='увеличить миндалина', patterns=[[{'LEMMA': 'увеличить'}, {'LEMMA': 'миндалина'}]]),\n Symptom(id_name='белый налёт на миндалинах', patterns=[[{'LEMMA': 'белый'}, {'LEMMA': 'налёт'}, {'LEMMA': 'на'}, {'LEMMA': 'миндалинах'}]]),\n Symptom(id_name='боль в грудь', patterns=[[{'LEMMA': 'боль'}, {'LEMMA': 'в'}, {'LEMMA': 'грудь'}]]),\n Symptom(id_name='нарушение прохождение пища', patterns=[[{'LEMMA': 'нарушение'}, {'LEMMA': 'прохождение'}, {'LEMMA': 'пища'}]]),\n Symptom(id_name='дискомфорт в время еда', patterns=[[{'LEMMA': 'дискомфорт'}, {'LEMMA': 'в'}, {'LEMMA': 'время'}, {'LEMMA': 'еда'}]]),\n Symptom(id_name='кашель', patterns=[[{'LEMMA': 'кашель'}]]),\n Symptom(id_name='осиплость голос', patterns=[[{'LEMMA': 'осиплость'}, {'LEMMA': 'голос'}]]),\n Symptom(id_name='боль в спина', patterns=[[{'LEMMA': 'боль'}, {'LEMMA': 'в'}, {'LEMMA': 'спина'}]]),\n Symptom(id_name='боль в нога', patterns=[[{'LEMMA': 'боль'}, {'LEMMA': 'в'}, {'LEMMA': 'нога'}]]),\n Symptom(id_name='боль вокруг пупок', patterns=[[{'LEMMA': 'боль'}, {'LEMMA': 'вокруг'}, {'LEMMA': 'пупок'}]]),\n Symptom(id_name='тахикардия', patterns=[[{'LEMMA': 'тахикардия'}]]),\n Symptom(id_name='головокружение', patterns=[[{'LEMMA': 'головокружение'}]]),\n Symptom(id_name='одышка', patterns=[[{'LEMMA': 'одышка'}]]),\n Symptom(id_name='учащённый дыхание', patterns=[[{'LEMMA': 'учащённый'}, {'LEMMA': 'дыхание'}]]),\n Symptom(id_name='обморок', patterns=[[{'LEMMA': 'обморок'}]]),\n Symptom(id_name='потеря сознание', patterns=[[{'LEMMA': 'потеря'}, {'LEMMA': 'сознание'}]]),\n Symptom(id_name='инфаркт', patterns=[[{'LEMMA': 'инфаркт'}]]),\n Symptom(id_name='рассеянность внимание', patterns=[[{'LEMMA': 'рассеянность'}, {'LEMMA': 'внимание'}]]),\n Symptom(id_name='снижение работоспособность', patterns=[[{'LEMMA': 'снижение'}, {'LEMMA': 'работоспособность'}]]),\n Symptom(id_name='нарушение память', patterns=[[{'LEMMA': 'нарушение'}, {'LEMMA': 'память'}]]),\n Symptom(id_name='утомляемость', patterns=[[{'LEMMA': 'утомляемость'}]]),\n Symptom(id_name='нарушение сон', patterns=[[{'LEMMA': 'нарушение'}, {'LEMMA': 'сон'}]]),\n Symptom(id_name='снижение интеллект', patterns=[[{'LEMMA': 'снижение'}, {'LEMMA': 'интеллект'}]]),\n Symptom(id_name='наружение мозговой кровообращение', patterns=[[{'LEMMA': 'наружение'}, {'LEMMA': 'мозговой'}, {'LEMMA': 'кровообращение'}]]),\n Symptom(id_name='инсульт', patterns=[[{'LEMMA': 'инсульт'}]]),\n Symptom(id_name='тромбоз', patterns=[[{'LEMMA': 'тромбоз'}]]),\n Symptom(id_name='хромота', patterns=[[{'LEMMA': 'хромота'}]]),\n Symptom(id_name='похолодание конечность', patterns=[[{'LEMMA': 'похолодание'}, {'LEMMA': 'конечность'}]]),\n Symptom(id_name='слабый пульс', patterns=[[{'LEMMA': 'слабый'}, {'LEMMA': 'пульс'}]]),\n Symptom(id_name='синюшность', patterns=[[{'LEMMA': 'синюшность'}]]),\n Symptom(id_name='поверхностный сон', patterns=[[{'LEMMA': 'поверхностный'}, {'LEMMA': 'сон'}]]),\n Symptom(id_name='малый длительность сон', patterns=[[{'LEMMA': 'малый'}, {'LEMMA': 'длительность'}, {'LEMMA': 'сон'}]]),\n Symptom(id_name='сонливость', patterns=[[{'LEMMA': 'сонливость'}]]),\n Symptom(id_name='эмоциональный расстройство', patterns=[[{'LEMMA': 'эмоциональный'}, {'LEMMA': 'расстройство'}]]),\n Symptom(id_name='зуд в глаз', patterns=[[{'LEMMA': 'зуд'}, {'LEMMA': 'в'}, {'LEMMA': 'глаз'}]]),\n Symptom(id_name='ощущение тяжесть веко', patterns=[[{'LEMMA': 'ощущение'}, {'LEMMA': 'тяжесть'}, {'LEMMA': 'веко'}]]),\n Symptom(id_name='переутомление глаз', patterns=[[{'LEMMA': 'переутомление'}, {'LEMMA': 'глаз'}]]),\n Symptom(id_name='светобоязнь', patterns=[[{'LEMMA': 'светобоязнь'}]]),\n Symptom(id_name='отёчность веко', patterns=[[{'LEMMA': 'отёчность'}, {'LEMMA': 'веко'}]]),\n Symptom(id_name='чешуйка на кожа веко', patterns=[[{'LEMMA': 'чешуйка'}, {'LEMMA': 'на'}, {'LEMMA': 'кожа'}, {'LEMMA': 'веко'}]]),\n Symptom(id_name='выпадение ресница', patterns=[[{'LEMMA': 'выпадение'}, {'LEMMA': 'ресница'}]]),\n Symptom(id_name='неправильный рост ресница', patterns=[[{'LEMMA': 'неправильный'}, {'LEMMA': 'рост'}, {'LEMMA': 'ресница'}]]),\n Symptom(id_name='боль в печень', patterns=[[{'LEMMA': 'боль'}, {'LEMMA': 'в'}, {'LEMMA': 'печень'}]]),\n Symptom(id_name='боль в сердце', patterns=[[{'LEMMA': 'боль'}, {'LEMMA': 'в'}, {'LEMMA': 'сердце'}]]),\n Symptom(id_name='отёк нога', patterns=[[{'LEMMA': 'отёк'}, {'LEMMA': 'нога'}]]),\n Symptom(id_name='депрессия', patterns=[[{'LEMMA': 'депрессия'}]]),\n Symptom(id_name='беспокойство', patterns=[[{'LEMMA': 'беспокойство'}]]),\n Symptom(id_name='дезориентация', patterns=[[{'LEMMA': 'дезориентация'}]]),\n Symptom(id_name='апатия', patterns=[[{'LEMMA': 'апатия'}]]),\n Symptom(id_name='галлюцинация', patterns=[[{'LEMMA': 'галлюцинация'}]]),\n Symptom(id_name='бредовый расстройство', patterns=[[{'LEMMA': 'бредовый'}, {'LEMMA': 'расстройство'}]]),\n Symptom(id_name='прозопагнозия', patterns=[[{'LEMMA': 'прозопагнозия'}]]),\n Symptom(id_name='нарушение координация движение', patterns=[[{'LEMMA': 'нарушение'}, {'LEMMA': 'координация'}, {'LEMMA': 'движение'}]]),\n Symptom(id_name='шаркать походка', patterns=[[{'LEMMA': 'шаркать'}, {'LEMMA': 'походка'}]]),\n Symptom(id_name='судорога', patterns=[[{'LEMMA': 'судорога'}]]),\n Symptom(id_name='повысить тонус мышца', patterns=[[{'LEMMA': 'повысить'}, {'LEMMA': 'тонус'}, {'LEMMA': 'мышца'}]]),\n Symptom(id_name='дрожь', patterns=[[{'LEMMA': 'дрожь'}]]),\n Symptom(id_name='потеря равновесие', patterns=[[{'LEMMA': 'потеря'}, {'LEMMA': 'равновесие'}]]),\n Symptom(id_name='нарушение осанка', patterns=[[{'LEMMA': 'нарушение'}, {'LEMMA': 'осанка'}]]),\n Symptom(id_name='запор', patterns=[[{'LEMMA': 'запор'}]]),\n Symptom(id_name='бессоница', patterns=[[{'LEMMA': 'бессоница'}]]),\n Symptom(id_name='нарушение обоняние', patterns=[[{'LEMMA': 'нарушение'}, {'LEMMA': 'обоняние'}]]),\n Symptom(id_name='пониженный артериальный давление', patterns=[[{'LEMMA': 'пониженный'}, {'LEMMA': 'артериальный'}, {'LEMMA': 'давление'}]]),\n Symptom(id_name='дирузия', patterns=[[{'LEMMA': 'дирузия'}]]),\n Symptom(id_name='снижение либидо', patterns=[[{'LEMMA': 'снижение'}, {'LEMMA': 'либидо'}]]),\n Symptom(id_name='деменция', patterns=[[{'LEMMA': 'деменция'}]]),\n Symptom(id_name='нарушение слух', patterns=[[{'LEMMA': 'нарушение'}, {'LEMMA': 'слух'}]]),\n Symptom(id_name='шум в ушах', patterns=[[{'LEMMA': 'шум'}, {'LEMMA': 'в'}, {'LEMMA': 'ушах'}]]),\n Symptom(id_name='нарушение зрение', patterns=[[{'LEMMA': 'нарушение'}, {'LEMMA': 'зрение'}]]),\n Symptom(id_name='нарушение кооржинации движение', patterns=[[{'LEMMA': 'нарушение'}, {'LEMMA': 'кооржинации'}, {'LEMMA': 'движение'}]]),\n Symptom(id_name='раздражительность', patterns=[[{'LEMMA': 'раздражительность'}]]),\n Symptom(id_name='двоение зрение', patterns=[[{'LEMMA': 'двоение'}, {'LEMMA': 'зрение'}]]),\n Symptom(id_name='тяжёлый голова', patterns=[[{'LEMMA': 'тяжёлый'}, {'LEMMA': 'голова'}]]),\n Symptom(id_name='тошнота', patterns=[[{'LEMMA': 'тошнота'}]]),\n Symptom(id_name='рвота', patterns=[[{'LEMMA': 'рвота'}]]),\n Symptom(id_name='учащённый сердцебиение', patterns=[[{'LEMMA': 'учащённый'}, {'LEMMA': 'сердцебиение'}]]),\n Symptom(id_name='повысить потливость', patterns=[[{'LEMMA': 'повысить'}, {'LEMMA': 'потливость'}]]),\n Symptom(id_name='расширить вена под глаз', patterns=[[{'LEMMA': 'расширить'}, {'LEMMA': 'вена'}, {'LEMMA': 'под'}, {'LEMMA': 'глаз'}]]),\n Symptom(id_name='недоношенность', patterns=[[{'LEMMA': 'недоношенность'}]]),\n Symptom(id_name='увеличить печень', patterns=[[{'LEMMA': 'увеличить'}, {'LEMMA': 'печень'}]]),\n Symptom(id_name='увеличить селезёнка', patterns=[[{'LEMMA': 'увеличить'}, {'LEMMA': 'селезёнка'}]]),\n Symptom(id_name='хориоретинит', patterns=[[{'LEMMA': 'хориоретинит'}]]),\n Symptom(id_name='пневмония', patterns=[[{'LEMMA': 'пневмония'}]]),\n Symptom(id_name='задержка психомоторный развитие', patterns=[[{'LEMMA': 'задержка'}, {'LEMMA': 'психомоторный'}, {'LEMMA': 'развитие'}]]),\n Symptom(id_name='тугоухость', patterns=[[{'LEMMA': 'тугоухость'}]]),\n Symptom(id_name='наружение зрение', patterns=[[{'LEMMA': 'наружение'}, {'LEMMA': 'зрение'}]]),\n Symptom(id_name='аномании зуб', patterns=[[{'LEMMA': 'аномании'}, {'LEMMA': 'зуб'}]]),\n Symptom(id_name='слизисто - водянистый выделение из нос', patterns=[[{'LEMMA': 'слизисто'}, {'LEMMA': '-'}, {'LEMMA': 'водянистый'}, {'LEMMA': 'выделение'}, {'LEMMA': 'из'}, {'LEMMA': 'нос'}]]),\n Symptom(id_name='желто - зелёный выделение из нос', patterns=[[{'LEMMA': 'желто'}, {'LEMMA': '-'}, {'LEMMA': 'зелёный'}, {'LEMMA': 'выделение'}, {'LEMMA': 'из'}, {'LEMMA': 'нос'}]]),\n Symptom(id_name='боль в область пазух', patterns=[[{'LEMMA': 'боль'}, {'LEMMA': 'в'}, {'LEMMA': 'область'}, {'LEMMA': 'пазух'}]]),\n Symptom(id_name='влажный кашель', patterns=[[{'LEMMA': 'влажный'}, {'LEMMA': 'кашель'}]]),\n Symptom(id_name='зубной боль', patterns=[[{'LEMMA': 'зубной'}, {'LEMMA': 'боль'}]]),\n Symptom(id_name='боль в глаз', patterns=[[{'LEMMA': 'боль'}, {'LEMMA': 'в'}, {'LEMMA': 'глаз'}]]),\n Symptom(id_name='покраснение вокруг глаз', patterns=[[{'LEMMA': 'покраснение'}, {'LEMMA': 'вокруг'}, {'LEMMA': 'глаз'}]]),\n Symptom(id_name='затуманенность зрение', patterns=[[{'LEMMA': 'затуманенность'}, {'LEMMA': 'зрение'}]]),\n Symptom(id_name='гало', patterns=[[{'LEMMA': 'гало'}]]),\n Symptom(id_name='боль в надбровный область', patterns=[[{'LEMMA': 'боль'}, {'LEMMA': 'в'}, {'LEMMA': 'надбровный'}, {'LEMMA': 'область'}]]),\n Symptom(id_name='повышенный давление в глаз', patterns=[[{'LEMMA': 'повышенный'}, {'LEMMA': 'давление'}, {'LEMMA': 'в'}, {'LEMMA': 'глаз'}]]),\n Symptom(id_name='боль в височный область', patterns=[[{'LEMMA': 'боль'}, {'LEMMA': 'в'}, {'LEMMA': 'височный'}, {'LEMMA': 'область'}]]),\n Symptom(id_name='иллюзия движение', patterns=[[{'LEMMA': 'иллюзия'}, {'LEMMA': 'движение'}]]),\n Symptom(id_name='звон в ушах', patterns=[[{'LEMMA': 'звон'}, {'LEMMA': 'в'}, {'LEMMA': 'ушах'}]]),\n Symptom(id_name='иллюзия верчение', patterns=[[{'LEMMA': 'иллюзия'}, {'LEMMA': 'верчение'}]]),\n Symptom(id_name='поражение бронх', patterns=[[{'LEMMA': 'поражение'}, {'LEMMA': 'бронх'}]]),\n Symptom(id_name='поражение лёгкое', patterns=[[{'LEMMA': 'поражение'}, {'LEMMA': 'лёгкое'}]]),\n Symptom(id_name='поражение почка', patterns=[[{'LEMMA': 'поражение'}, {'LEMMA': 'почка'}]]),\n Symptom(id_name='сухость слизистый нос', patterns=[[{'LEMMA': 'сухость'}, {'LEMMA': 'слизистый'}, {'LEMMA': 'нос'}]]),\n Symptom(id_name='заложенность нос', patterns=[[{'LEMMA': 'заложенность'}, {'LEMMA': 'нос'}]]),\n Symptom(id_name='носовой кровотечение', patterns=[[{'LEMMA': 'носовой'}, {'LEMMA': 'кровотечение'}]]),\n Symptom(id_name='сухость в горло', patterns=[[{'LEMMA': 'сухость'}, {'LEMMA': 'в'}, {'LEMMA': 'горло'}]]),\n Symptom(id_name='сухой кашель', patterns=[[{'LEMMA': 'сухой'}, {'LEMMA': 'кашель'}]]),\n Symptom(id_name='гнойный отит', patterns=[[{'LEMMA': 'гнойный'}, {'LEMMA': 'отит'}]]),\n Symptom(id_name='лихорадка', patterns=[[{'LEMMA': 'лихорадка'}]]),\n Symptom(id_name='недомогание', patterns=[[{'LEMMA': 'недомогание'}]]),\n Symptom(id_name='боль в коленный сустав', patterns=[[{'LEMMA': 'боль'}, {'LEMMA': 'в'}, {'LEMMA': 'коленный'}, {'LEMMA': 'сустав'}]]),\n Symptom(id_name='артрит', patterns=[[{'LEMMA': 'артрит'}]]),\n Symptom(id_name='шишка', patterns=[[{'LEMMA': 'шишка'}]]),\n Symptom(id_name='боль в голеностопный сустав', patterns=[[{'LEMMA': 'боль'}, {'LEMMA': 'в'}, {'LEMMA': 'голеностопный'}, {'LEMMA': 'сустав'}]]),\n Symptom(id_name='кровотечение', patterns=[[{'LEMMA': 'кровотечение'}]]),\n Symptom(id_name='диарея', patterns=[[{'LEMMA': 'диарея'}]]),\n Symptom(id_name='боль в живот', patterns=[[{'LEMMA': 'боль'}, {'LEMMA': 'в'}, {'LEMMA': 'живот'}]]),\n Symptom(id_name='непереносимость холод', patterns=[[{'LEMMA': 'непереносимость'}, {'LEMMA': 'холод'}]]),\n Symptom(id_name='зябкость', patterns=[[{'LEMMA': 'зябкость'}]]),\n Symptom(id_name='онемение', patterns=[[{'LEMMA': 'онемение'}]]),\n Symptom(id_name='ощущение покалывание', patterns=[[{'LEMMA': 'ощущение'}, {'LEMMA': 'покалывание'}]]),\n Symptom(id_name='перемежаться хромота', patterns=[[{'LEMMA': 'перемежаться'}, {'LEMMA': 'хромота'}]]),\n Symptom(id_name='трофический нарушение ткань нога', patterns=[[{'LEMMA': 'трофический'}, {'LEMMA': 'нарушение'}, {'LEMMA': 'ткань'}, {'LEMMA': 'нога'}]]),\n Symptom(id_name='язва', patterns=[[{'LEMMA': 'язва'}]]),\n Symptom(id_name='сухость кожа', patterns=[[{'LEMMA': 'сухость'}, {'LEMMA': 'кожа'}]]),\n Symptom(id_name='изчезновение волос с нога', patterns=[[{'LEMMA': 'изчезновение'}, {'LEMMA': 'волос'}, {'LEMMA': 'с'}, {'LEMMA': 'нога'}]]),\n Symptom(id_name='изчезновение подкожный жир в нога', patterns=[[{'LEMMA': 'изчезновение'}, {'LEMMA': 'подкожный'}, {'LEMMA': 'жир'}, {'LEMMA': 'в'}, {'LEMMA': 'нога'}]]),\n Symptom(id_name='утолщение ногтей', patterns=[[{'LEMMA': 'утолщение'}, {'LEMMA': 'ногтей'}]]),\n Symptom(id_name='некроз', patterns=[[{'LEMMA': 'некроз'}]]),\n Symptom(id_name='боль в наружный ухо', patterns=[[{'LEMMA': 'боль'}, {'LEMMA': 'в'}, {'LEMMA': 'наружный'}, {'LEMMA': 'ухо'}]]),\n Symptom(id_name='снижение слух', patterns=[[{'LEMMA': 'снижение'}, {'LEMMA': 'слух'}]]),\n Symptom(id_name='выделение жидкость из ухо', patterns=[[{'LEMMA': 'выделение'}, {'LEMMA': 'жидкость'}, {'LEMMA': 'из'}, {'LEMMA': 'ухо'}]]),\n Symptom(id_name='покраснение и опухание наружный ухо', patterns=[[{'LEMMA': 'покраснение'}, {'LEMMA': 'и'}, {'LEMMA': 'опухание'}, {'LEMMA': 'наружный'}, {'LEMMA': 'ухо'}]]),\n Symptom(id_name='персеверация', patterns=[[{'LEMMA': 'персеверация'}]]),\n Symptom(id_name='возникновение гримаса', patterns=[[{'LEMMA': 'возникновение'}, {'LEMMA': 'гримаса'}]]),\n Symptom(id_name='нервный тик', patterns=[[{'LEMMA': 'нервный'}, {'LEMMA': 'тик'}]]),\n Symptom(id_name='сильный волнение', patterns=[[{'LEMMA': 'сильный'}, {'LEMMA': 'волнение'}]]),\n Symptom(id_name='напряжённость', patterns=[[{'LEMMA': 'напряжённость'}]]),\n Symptom(id_name='протягивание определённый звук', patterns=[[{'LEMMA': 'протягивание'}, {'LEMMA': 'определённый'}, {'LEMMA': 'звук'}]]),\n Symptom(id_name='паралич', patterns=[[{'LEMMA': 'паралич'}]]),\n Symptom(id_name='нарушение речь', patterns=[[{'LEMMA': 'нарушение'}, {'LEMMA': 'речь'}]]),\n Symptom(id_name='ишемический приступ', patterns=[[{'LEMMA': 'ишемический'}, {'LEMMA': 'приступ'}]]),\n Symptom(id_name='нарушение походка', patterns=[[{'LEMMA': 'нарушение'}, {'LEMMA': 'походка'}]]),\n Symptom(id_name='боль в область сердце', patterns=[[{'LEMMA': 'боль'}, {'LEMMA': 'в'}, {'LEMMA': 'область'}, {'LEMMA': 'сердце'}]]),\n Symptom(id_name='бледность кожа', patterns=[[{'LEMMA': 'бледность'}, {'LEMMA': 'кожа'}]]),\n Symptom(id_name='затрудненное дыхание', patterns=[[{'LEMMA': 'затрудненное'}, {'LEMMA': 'дыхание'}]]),\n Symptom(id_name='расплывчатость изображение', patterns=[[{'LEMMA': 'расплывчатость'}, {'LEMMA': 'изображение'}]]),\n Symptom(id_name='близорукость', patterns=[[{'LEMMA': 'близорукость'}]]),\n Symptom(id_name='вспышка в глаз', patterns=[[{'LEMMA': 'вспышка'}, {'LEMMA': 'в'}, {'LEMMA': 'глаз'}]]),\n Symptom(id_name='обильный слезотечение', patterns=[[{'LEMMA': 'обильный'}, {'LEMMA': 'слезотечение'}]]),\n Symptom(id_name='покраснение глаз', patterns=[[{'LEMMA': 'покраснение'}, {'LEMMA': 'глаз'}]]),\n Symptom(id_name='гнойный истечение', patterns=[[{'LEMMA': 'гнойный'}, {'LEMMA': 'истечение'}]]),\n Symptom(id_name='отёк коньюнктивы', patterns=[[{'LEMMA': 'отёк'}, {'LEMMA': 'коньюнктивы'}]]),\n Symptom(id_name='зуд', patterns=[[{'LEMMA': 'зуд'}]]),\n Symptom(id_name='отёк век', patterns=[[{'LEMMA': 'отёк'}, {'LEMMA': 'век'}]]),\n Symptom(id_name='смещение глазной яблоко от нормальный ось', patterns=[[{'LEMMA': 'смещение'}, {'LEMMA': 'глазной'}, {'LEMMA': 'яблоко'}, {'LEMMA': 'от'}, {'LEMMA': 'нормальный'}, {'LEMMA': 'ось'}]]),\n Symptom(id_name='диплопия', patterns=[[{'LEMMA': 'диплопия'}]]),\n Symptom(id_name='расфокусировка зрение', patterns=[[{'LEMMA': 'расфокусировка'}, {'LEMMA': 'зрение'}]]),\n Symptom(id_name='холодный пот', patterns=[[{'LEMMA': 'холодный'}, {'LEMMA': 'пот'}]]),\n Symptom(id_name='спутанность сознание', patterns=[[{'LEMMA': 'спутанность'}, {'LEMMA': 'сознание'}]]),\n Symptom(id_name='вздутие живот', patterns=[[{'LEMMA': 'вздутие'}, {'LEMMA': 'живот'}]]),\n Symptom(id_name='кровь при дефекация', patterns=[[{'LEMMA': 'кровь'}, {'LEMMA': 'при'}, {'LEMMA': 'дефекация'}]]),\n Symptom(id_name='кровь в моча', patterns=[[{'LEMMA': 'кровь'}, {'LEMMA': 'в'}, {'LEMMA': 'моча'}]]),\n Symptom(id_name='вагинальный кровотечение', patterns=[[{'LEMMA': 'вагинальный'}, {'LEMMA': 'кровотечение'}]]),\n Symptom(id_name='кровь в рвотный масса', patterns=[[{'LEMMA': 'кровь'}, {'LEMMA': 'в'}, {'LEMMA': 'рвотный'}, {'LEMMA': 'масса'}]]),\n Symptom(id_name='боль при глотание', patterns=[[{'LEMMA': 'боль'}, {'LEMMA': 'при'}, {'LEMMA': 'глотание'}]]),\n Symptom(id_name='затруденное дыхание', patterns=[[{'LEMMA': 'затруденное'}, {'LEMMA': 'дыхание'}]]),\n Symptom(id_name='першение в горло', patterns=[[{'LEMMA': 'першение'}, {'LEMMA': 'в'}, {'LEMMA': 'горло'}]]),\n Symptom(id_name='снижение вес', patterns=[[{'LEMMA': 'снижение'}, {'LEMMA': 'вес'}]]),\n Symptom(id_name='боль в молочный железах', patterns=[[{'LEMMA': 'боль'}, {'LEMMA': 'в'}, {'LEMMA': 'молочный'}, {'LEMMA': 'железах'}]]),\n Symptom(id_name='новообразование молочный железа', patterns=[[{'LEMMA': 'новообразование'}, {'LEMMA': 'молочный'}, {'LEMMA': 'железа'}]]),\n Symptom(id_name='новообразование на кожа', patterns=[[{'LEMMA': 'новообразование'}, {'LEMMA': 'на'}, {'LEMMA': 'кожа'}]]),\n Symptom(id_name='ассиметричная форма новообразование', patterns=[[{'LEMMA': 'ассиметричная'}, {'LEMMA': 'форма'}, {'LEMMA': 'новообразование'}]]),\n Symptom(id_name='боль в кость', patterns=[[{'LEMMA': 'боль'}, {'LEMMA': 'в'}, {'LEMMA': 'кость'}]]),\n Symptom(id_name='снижение чувствительность кожа', patterns=[[{'LEMMA': 'снижение'}, {'LEMMA': 'чувствительность'}, {'LEMMA': 'кожа'}]]),\n Symptom(id_name='вегетативный расстройство', patterns=[[{'LEMMA': 'вегетативный'}, {'LEMMA': 'расстройство'}]]),\n Symptom(id_name='синюшность кожа', patterns=[[{'LEMMA': 'синюшность'}, {'LEMMA': 'кожа'}]]),\n Symptom(id_name='отёк', patterns=[[{'LEMMA': 'отёк'}]]),\n Symptom(id_name='боль за ухом', patterns=[[{'LEMMA': 'боль'}, {'LEMMA': 'за'}, {'LEMMA': 'ухом'}]]),\n Symptom(id_name='нарушение подвижность сустав', patterns=[[{'LEMMA': 'нарушение'}, {'LEMMA': 'подвижность'}, {'LEMMA': 'сустав'}]]),\n Symptom(id_name='боль в шея', patterns=[[{'LEMMA': 'боль'}, {'LEMMA': 'в'}, {'LEMMA': 'шея'}]]),\n Symptom(id_name='напряжённость мыщц шея', patterns=[[{'LEMMA': 'напряжённость'}, {'LEMMA': 'мыщц'}, {'LEMMA': 'шея'}]]),\n Symptom(id_name='ограниченный движение шея', patterns=[[{'LEMMA': 'ограниченный'}, {'LEMMA': 'движение'}, {'LEMMA': 'шея'}]]),\n Symptom(id_name='воспаление ткань плечевой сустав', patterns=[[{'LEMMA': 'воспаление'}, {'LEMMA': 'ткань'}, {'LEMMA': 'плечевой'}, {'LEMMA': 'сустав'}]]),\n Symptom(id_name='боль в плечо', patterns=[[{'LEMMA': 'боль'}, {'LEMMA': 'в'}, {'LEMMA': 'плечо'}]]),\n Symptom(id_name='нарушение кровообращение', patterns=[[{'LEMMA': 'нарушение'}, {'LEMMA': 'кровообращение'}]]),\n Symptom(id_name='боль в затылке', patterns=[[{'LEMMA': 'боль'}, {'LEMMA': 'в'}, {'LEMMA': 'затылке'}]]),\n Symptom(id_name='боль между лопаток', patterns=[[{'LEMMA': 'боль'}, {'LEMMA': 'между'}, {'LEMMA': 'лопаток'}]]),\n Symptom(id_name='боль в поясница', patterns=[[{'LEMMA': 'боль'}, {'LEMMA': 'в'}, {'LEMMA': 'поясница'}]]),\n Symptom(id_name='парез', patterns=[[{'LEMMA': 'парез'}]]),\n Symptom(id_name='изгибание поясница', patterns=[[{'LEMMA': 'изгибание'}, {'LEMMA': 'поясница'}]]),\n Symptom(id_name='боль в подзатылочной область', patterns=[[{'LEMMA': 'боль'}, {'LEMMA': 'в'}, {'LEMMA': 'подзатылочной'}, {'LEMMA': 'область'}]]),\n Symptom(id_name='тенденция к образование синяк', patterns=[[{'LEMMA': 'тенденция'}, {'LEMMA': 'к'}, {'LEMMA': 'образование'}, {'LEMMA': 'синяк'}]]),\n Symptom(id_name='красный пятно на кожа', patterns=[[{'LEMMA': 'красный'}, {'LEMMA': 'пятно'}, {'LEMMA': 'на'}, {'LEMMA': 'кожа'}]]),\n Symptom(id_name='боль в сустав', patterns=[[{'LEMMA': 'боль'}, {'LEMMA': 'в'}, {'LEMMA': 'сустав'}]]),\n Symptom(id_name='увеличить голеностопный сустав', patterns=[[{'LEMMA': 'увеличить'}, {'LEMMA': 'голеностопный'}, {'LEMMA': 'сустав'}]]),\n Symptom(id_name='подкожный узелки', patterns=[[{'LEMMA': 'подкожный'}, {'LEMMA': 'узелки'}]]),\n Symptom(id_name='сыпь', patterns=[[{'LEMMA': 'сыпь'}]]),\n Symptom(id_name='мышечный судорога', patterns=[[{'LEMMA': 'мышечный'}, {'LEMMA': 'судорога'}]]),\n Symptom(id_name='озноб', patterns=[[{'LEMMA': 'озноб'}]]),\n Symptom(id_name='повысить слюноотделение', patterns=[[{'LEMMA': 'повысить'}, {'LEMMA': 'слюноотделение'}]]),\n Symptom(id_name='оцепенение', patterns=[[{'LEMMA': 'оцепенение'}]]),\n Symptom(id_name='двоение в глаз', patterns=[[{'LEMMA': 'двоение'}, {'LEMMA': 'в'}, {'LEMMA': 'глаз'}]]),\n Symptom(id_name='деформация кость', patterns=[[{'LEMMA': 'деформация'}, {'LEMMA': 'кость'}]]),\n Symptom(id_name='боль при движение', patterns=[[{'LEMMA': 'боль'}, {'LEMMA': 'при'}, {'LEMMA': 'движение'}]]),\n Symptom(id_name='ограниченность движение', patterns=[[{'LEMMA': 'ограниченность'}, {'LEMMA': 'движение'}]]),\n Symptom(id_name='боль при наклон вперёд', patterns=[[{'LEMMA': 'боль'}, {'LEMMA': 'при'}, {'LEMMA': 'наклон'}, {'LEMMA': 'вперёд'}]]),\n Symptom(id_name='напряжённость мыщц спина', patterns=[[{'LEMMA': 'напряжённость'}, {'LEMMA': 'мыщц'}, {'LEMMA': 'спина'}]]),\n Symptom(id_name='обморочный состояние', patterns=[[{'LEMMA': 'обморочный'}, {'LEMMA': 'состояние'}]]),\n Symptom(id_name='сердечный недостаточность', patterns=[[{'LEMMA': 'сердечный'}, {'LEMMA': 'недостаточность'}]]),\n Symptom(id_name='чувство нехватка воздух', patterns=[[{'LEMMA': 'чувство'}, {'LEMMA': 'нехватка'}, {'LEMMA': 'воздух'}]]),\n Symptom(id_name='чувство частый сердцебиение', patterns=[[{'LEMMA': 'чувство'}, {'LEMMA': 'частый'}, {'LEMMA': 'сердцебиение'}]]),\n Symptom(id_name='чувство редкий сердцебиение', patterns=[[{'LEMMA': 'чувство'}, {'LEMMA': 'редкий'}, {'LEMMA': 'сердцебиение'}]]),\n Symptom(id_name='боль в мыщцах', patterns=[[{'LEMMA': 'боль'}, {'LEMMA': 'в'}, {'LEMMA': 'мыщцах'}]]),\n Symptom(id_name='насморк', patterns=[[{'LEMMA': 'насморк'}]]),\n Symptom(id_name='кровотечение из нос', patterns=[[{'LEMMA': 'кровотечение'}, {'LEMMA': 'из'}, {'LEMMA': 'нос'}]]),\n Symptom(id_name='кровотечение из десна', patterns=[[{'LEMMA': 'кровотечение'}, {'LEMMA': 'из'}, {'LEMMA': 'десна'}]]),\n Symptom(id_name='покалывание', patterns=[[{'LEMMA': 'покалывание'}]]),\n Symptom(id_name='напряжённость мыщц поясница', patterns=[[{'LEMMA': 'напряжённость'}, {'LEMMA': 'мыщц'}, {'LEMMA': 'поясница'}]]),\n Symptom(id_name='снижение тонус мыщц нога', patterns=[[{'LEMMA': 'снижение'}, {'LEMMA': 'тонус'}, {'LEMMA': 'мыщц'}, {'LEMMA': 'нога'}]]),\n Symptom(id_name='атрофия мыщц', patterns=[[{'LEMMA': 'атрофия'}, {'LEMMA': 'мыщц'}]]),\n Symptom(id_name='напряжение мыщц шея', patterns=[[{'LEMMA': 'напряжение'}, {'LEMMA': 'мыщц'}, {'LEMMA': 'шея'}]]),\n Symptom(id_name='снижение тонус мыщц', patterns=[[{'LEMMA': 'снижение'}, {'LEMMA': 'тонус'}, {'LEMMA': 'мыщц'}]]),\n Symptom(id_name='боль в рука', patterns=[[{'LEMMA': 'боль'}, {'LEMMA': 'в'}, {'LEMMA': 'рука'}]]),\n Symptom(id_name='частый мочеиспускание', patterns=[[{'LEMMA': 'частый'}, {'LEMMA': 'мочеиспускание'}]]),\n Symptom(id_name='боль в промежность', patterns=[[{'LEMMA': 'боль'}, {'LEMMA': 'в'}, {'LEMMA': 'промежность'}]]),\n Symptom(id_name='обль в кость', patterns=[[{'LEMMA': 'обль'}, {'LEMMA': 'в'}, {'LEMMA': 'кость'}]]),\n Symptom(id_name='интоксикация', patterns=[[{'LEMMA': 'интоксикация'}]]),\n Symptom(id_name='снижение масса тело', patterns=[[{'LEMMA': 'снижение'}, {'LEMMA': 'масса'}, {'LEMMA': 'тело'}]]),\n Symptom(id_name='кровь в сперма', patterns=[[{'LEMMA': 'кровь'}, {'LEMMA': 'в'}, {'LEMMA': 'сперма'}]]),\n Symptom(id_name='отрыжка', patterns=[[{'LEMMA': 'отрыжка'}]]),\n Symptom(id_name='поверхностный эрозия', patterns=[[{'LEMMA': 'поверхностный'}, {'LEMMA': 'эрозия'}]]),\n Symptom(id_name='бляшка', patterns=[[{'LEMMA': 'бляшка'}]]),\n Symptom(id_name='кровохаркание', patterns=[[{'LEMMA': 'кровохаркание'}]]),\n Symptom(id_name='узел в молочный железа', patterns=[[{'LEMMA': 'узел'}, {'LEMMA': 'в'}, {'LEMMA': 'молочный'}, {'LEMMA': 'железа'}]]),\n Symptom(id_name='изменение форма молочный железа', patterns=[[{'LEMMA': 'изменение'}, {'LEMMA': 'форма'}, {'LEMMA': 'молочный'}, {'LEMMA': 'железа'}]]),\n Symptom(id_name='сморщивание кожа молочный железа', patterns=[[{'LEMMA': 'сморщивание'}, {'LEMMA': 'кожа'}, {'LEMMA': 'молочный'}, {'LEMMA': 'железа'}]]),\n Symptom(id_name='ощущение боль в молочный железа', patterns=[[{'LEMMA': 'ощущение'}, {'LEMMA': 'боль'}, {'LEMMA': 'в'}, {'LEMMA': 'молочный'}, {'LEMMA': 'железа'}]]),\n Symptom(id_name='припухность на соска', patterns=[[{'LEMMA': 'припухность'}, {'LEMMA': 'на'}, {'LEMMA': 'соска'}]]),\n Symptom(id_name='втяжение сосок', patterns=[[{'LEMMA': 'втяжение'}, {'LEMMA': 'сосок'}]]),\n Symptom(id_name='кровянистый выделение из сосок', patterns=[[{'LEMMA': 'кровянистый'}, {'LEMMA': 'выделение'}, {'LEMMA': 'из'}, {'LEMMA': 'сосок'}]]),\n Symptom(id_name='раздражение мучевого пузырь', patterns=[[{'LEMMA': 'раздражение'}, {'LEMMA': 'мучевого'}, {'LEMMA': 'пузырь'}]]),\n Symptom(id_name='ложный позыв к мочеиспускание', patterns=[[{'LEMMA': 'ложный'}, {'LEMMA': 'позыв'}, {'LEMMA': 'к'}, {'LEMMA': 'мочеиспускание'}]]),\n Symptom(id_name='боль в малый таз', patterns=[[{'LEMMA': 'боль'}, {'LEMMA': 'в'}, {'LEMMA': 'малый'}, {'LEMMA': 'таз'}]]),\n Symptom(id_name='боль в боковой отдел живот', patterns=[[{'LEMMA': 'боль'}, {'LEMMA': 'в'}, {'LEMMA': 'боковой'}, {'LEMMA': 'отдел'}, {'LEMMA': 'живот'}]]),\n Symptom(id_name='варикоцеле', patterns=[[{'LEMMA': 'варикоцеле'}]]),\n Symptom(id_name='припухлость в поясничный область', patterns=[[{'LEMMA': 'припухлость'}, {'LEMMA': 'в'}, {'LEMMA': 'поясничный'}, {'LEMMA': 'область'}]]),\n Symptom(id_name='анемия', patterns=[[{'LEMMA': 'анемия'}]]),\n Symptom(id_name='кровотечение из прямой кишка', patterns=[[{'LEMMA': 'кровотечение'}, {'LEMMA': 'из'}, {'LEMMA': 'прямой'}, {'LEMMA': 'кишка'}]]),\n Symptom(id_name='метеоризм', patterns=[[{'LEMMA': 'метеоризм'}]]),\n Symptom(id_name='тенезм', patterns=[[{'LEMMA': 'тенезм'}]]),\n Symptom(id_name='боль в область прямой кишка', patterns=[[{'LEMMA': 'боль'}, {'LEMMA': 'в'}, {'LEMMA': 'область'}, {'LEMMA': 'прямой'}, {'LEMMA': 'кишка'}]]),\n Symptom(id_name='кишечный непроходимость', patterns=[[{'LEMMA': 'кишечный'}, {'LEMMA': 'непроходимость'}]]),\n Symptom(id_name='кровянистый выделение из половой путь', patterns=[[{'LEMMA': 'кровянистый'}, {'LEMMA': 'выделение'}, {'LEMMA': 'из'}, {'LEMMA': 'половой'}, {'LEMMA': 'путь'}]]),\n Symptom(id_name='обильный влагалищный выделение', patterns=[[{'LEMMA': 'обильный'}, {'LEMMA': 'влагалищный'}, {'LEMMA': 'выделение'}]]),\n Symptom(id_name='боль в нижний часть живот', patterns=[[{'LEMMA': 'боль'}, {'LEMMA': 'в'}, {'LEMMA': 'нижний'}, {'LEMMA': 'часть'}, {'LEMMA': 'живот'}]]),\n Symptom(id_name='боль внизу живот', patterns=[[{'LEMMA': 'боль'}, {'LEMMA': 'внизу'}, {'LEMMA': 'живот'}]]),\n Symptom(id_name='нерегулярность менструация', patterns=[[{'LEMMA': 'нерегулярность'}, {'LEMMA': 'менструация'}]]),\n Symptom(id_name='потеря способность двигаться', patterns=[[{'LEMMA': 'потеря'}, {'LEMMA': 'способность'}, {'LEMMA': 'двигаться'}]]),\n Symptom(id_name='замедленность речь', patterns=[[{'LEMMA': 'замедленность'}, {'LEMMA': 'речь'}]]),\n Symptom(id_name='снижение зрение', patterns=[[{'LEMMA': 'снижение'}, {'LEMMA': 'зрение'}]]),\n Symptom(id_name='опухоль на место растяжение', patterns=[[{'LEMMA': 'опухоль'}, {'LEMMA': 'на'}, {'LEMMA': 'место'}, {'LEMMA': 'растяжение'}]]),\n Symptom(id_name='появление шрам', patterns=[[{'LEMMA': 'появление'}, {'LEMMA': 'шрам'}]]),\n Symptom(id_name='потеря эластичность мышца', patterns=[[{'LEMMA': 'потеря'}, {'LEMMA': 'эластичность'}, {'LEMMA': 'мышца'}]]),\n Symptom(id_name='припухлость кожа', patterns=[[{'LEMMA': 'припухлость'}, {'LEMMA': 'кожа'}]]),\n Symptom(id_name='деформация сустав', patterns=[[{'LEMMA': 'деформация'}, {'LEMMA': 'сустав'}]]),\n Symptom(id_name='покраснение кожа', patterns=[[{'LEMMA': 'покраснение'}, {'LEMMA': 'кожа'}]]),\n Symptom(id_name='обложить язык', patterns=[[{'LEMMA': 'обложить'}, {'LEMMA': 'язык'}]]),\n Symptom(id_name='обезвоживание', patterns=[[{'LEMMA': 'обезвоживание'}]]),\n Symptom(id_name='синяк под глаз', patterns=[[{'LEMMA': 'синяк'}, {'LEMMA': 'под'}, {'LEMMA': 'глаз'}]]),\n Symptom(id_name='заострить черта лицо', patterns=[[{'LEMMA': 'заострить'}, {'LEMMA': 'черта'}, {'LEMMA': 'лицо'}]]),\n Symptom(id_name='недержание при мочеиспускание', patterns=[[{'LEMMA': 'недержание'}, {'LEMMA': 'при'}, {'LEMMA': 'мочеиспускание'}]]),\n Symptom(id_name='боль под правый ребром', patterns=[[{'LEMMA': 'боль'}, {'LEMMA': 'под'}, {'LEMMA': 'правый'}, {'LEMMA': 'ребром'}]]),\n Symptom(id_name='боль в область желудок', patterns=[[{'LEMMA': 'боль'}, {'LEMMA': 'в'}, {'LEMMA': 'область'}, {'LEMMA': 'желудок'}]]),\n Symptom(id_name='волдырь', patterns=[[{'LEMMA': 'волдырь'}]]),\n Symptom(id_name='чихание', patterns=[[{'LEMMA': 'чихание'}]]),\n Symptom(id_name='повысить артериальный давление', patterns=[[{'LEMMA': 'повысить'}, {'LEMMA': 'артериальный'}, {'LEMMA': 'давление'}]]),\n Symptom(id_name='нарушение эндокринный система', patterns=[[{'LEMMA': 'нарушение'}, {'LEMMA': 'эндокринный'}, {'LEMMA': 'система'}]]),\n Symptom(id_name='опухоль головной мозг', patterns=[[{'LEMMA': 'опухоль'}, {'LEMMA': 'головной'}, {'LEMMA': 'мозг'}]]),\n Symptom(id_name='спазм сосуд', patterns=[[{'LEMMA': 'спазм'}, {'LEMMA': 'сосуд'}]]),\n Symptom(id_name='атеросклероз', patterns=[[{'LEMMA': 'атеросклероз'}]]),\n Symptom(id_name='порок сердце', patterns=[[{'LEMMA': 'порок'}, {'LEMMA': 'сердце'}]]),\n Symptom(id_name='сахарный диабет', patterns=[[{'LEMMA': 'сахарный'}, {'LEMMA': 'диабет'}]]),\n Symptom(id_name='нарушение мозговой кровообращение', patterns=[[{'LEMMA': 'нарушение'}, {'LEMMA': 'мозговой'}, {'LEMMA': 'кровообращение'}]]),\n Symptom(id_name='энцефалит', patterns=[[{'LEMMA': 'энцефалит'}]]),\n Symptom(id_name='стенокардия', patterns=[[{'LEMMA': 'стенокардия'}]]),\n Symptom(id_name='покалывание в палец', patterns=[[{'LEMMA': 'покалывание'}, {'LEMMA': 'в'}, {'LEMMA': 'палец'}]]),\n Symptom(id_name='фарингит', patterns=[[{'LEMMA': 'фарингит'}]]),\n Symptom(id_name='образование твёрдый шанкр', patterns=[[{'LEMMA': 'образование'}, {'LEMMA': 'твёрдый'}, {'LEMMA': 'шанкр'}]]),\n Symptom(id_name='пустулезные высыпание', patterns=[[{'LEMMA': 'пустулезные'}, {'LEMMA': 'высыпание'}]]),\n Symptom(id_name='бородавка', patterns=[[{'LEMMA': 'бородавка'}]]),\n Symptom(id_name='поражение внутренний орган', patterns=[[{'LEMMA': 'поражение'}, {'LEMMA': 'внутренний'}, {'LEMMA': 'орган'}]]),\n Symptom(id_name='поражение мозговой оболочка', patterns=[[{'LEMMA': 'поражение'}, {'LEMMA': 'мозговой'}, {'LEMMA': 'оболочка'}]]),\n Symptom(id_name='нарушение психика', patterns=[[{'LEMMA': 'нарушение'}, {'LEMMA': 'психика'}]]),\n Symptom(id_name='гриппоподобные заболевание', patterns=[[{'LEMMA': 'гриппоподобные'}, {'LEMMA': 'заболевание'}]]),\n Symptom(id_name='ломота', patterns=[[{'LEMMA': 'ломота'}]]),\n Symptom(id_name='хронический усталость', patterns=[[{'LEMMA': 'хронический'}, {'LEMMA': 'усталость'}]]),\n Symptom(id_name='красный опухолевидные образование', patterns=[[{'LEMMA': 'красный'}, {'LEMMA': 'опухолевидные'}, {'LEMMA': 'образование'}]]),\n Symptom(id_name='боль в ухо', patterns=[[{'LEMMA': 'боль'}, {'LEMMA': 'в'}, {'LEMMA': 'ухо'}]]),\n Symptom(id_name='разрыв барабанный перенонки', patterns=[[{'LEMMA': 'разрыв'}, {'LEMMA': 'барабанный'}, {'LEMMA': 'перенонки'}]]),\n Symptom(id_name='временной потеря слух', patterns=[[{'LEMMA': 'временной'}, {'LEMMA': 'потеря'}, {'LEMMA': 'слух'}]]),\n Symptom(id_name='повышение аппетит', patterns=[[{'LEMMA': 'повышение'}, {'LEMMA': 'аппетит'}]]),\n Symptom(id_name='повысить либидо', patterns=[[{'LEMMA': 'повысить'}, {'LEMMA': 'либидо'}]]),\n Symptom(id_name='эпилепсия', patterns=[[{'LEMMA': 'эпилепсия'}]]),\n Symptom(id_name='синдром патологический накопительство', patterns=[[{'LEMMA': 'синдром'}, {'LEMMA': 'патологический'}, {'LEMMA': 'накопительство'}]]),\n Symptom(id_name='спазм жевательный мыщц', patterns=[[{'LEMMA': 'спазм'}, {'LEMMA': 'жевательный'}, {'LEMMA': 'мыщц'}]]),\n Symptom(id_name='неподвижность челюсть', patterns=[[{'LEMMA': 'неподвижность'}, {'LEMMA': 'челюсть'}]]),\n Symptom(id_name='напряжённость мыщц брюшной пресс', patterns=[[{'LEMMA': 'напряжённость'}, {'LEMMA': 'мыщц'}, {'LEMMA': 'брюшной'}, {'LEMMA': 'пресс'}]]),\n Symptom(id_name='потемнение в глаз', patterns=[[{'LEMMA': 'потемнение'}, {'LEMMA': 'в'}, {'LEMMA': 'глаз'}]]),\n Symptom(id_name='фырканье', patterns=[[{'LEMMA': 'фырканье'}]]),\n Symptom(id_name='девиация глаз', patterns=[[{'LEMMA': 'девиация'}, {'LEMMA': 'глаз'}]]),\n Symptom(id_name='недержание при дефекация', patterns=[[{'LEMMA': 'недержание'}, {'LEMMA': 'при'}, {'LEMMA': 'дефекация'}]]),\n Symptom(id_name='пеноотделение', patterns=[[{'LEMMA': 'пеноотделение'}]]),\n Symptom(id_name='мышечный спазм', patterns=[[{'LEMMA': 'мышечный'}, {'LEMMA': 'спазм'}]]),\n Symptom(id_name='утомлённость', patterns=[[{'LEMMA': 'утомлённость'}]]),\n Symptom(id_name='тревога', patterns=[[{'LEMMA': 'тревога'}]]),\n Symptom(id_name='участить пульс', patterns=[[{'LEMMA': 'участить'}, {'LEMMA': 'пульс'}]]),\n Symptom(id_name='ушиб', patterns=[[{'LEMMA': 'ушиб'}]]),\n Symptom(id_name='гематома', patterns=[[{'LEMMA': 'гематома'}]]),\n Symptom(id_name='прозрачный жидкость из нос', patterns=[[{'LEMMA': 'прозрачный'}, {'LEMMA': 'жидкость'}, {'LEMMA': 'из'}, {'LEMMA': 'нос'}]]),\n Symptom(id_name='анизокория', patterns=[[{'LEMMA': 'анизокория'}]]),\n Symptom(id_name='цианоз', patterns=[[{'LEMMA': 'цианоз'}]]),\n Symptom(id_name='выделение из уретра', patterns=[[{'LEMMA': 'выделение'}, {'LEMMA': 'из'}, {'LEMMA': 'уретра'}]]),\n Symptom(id_name='выделение из влагалище', patterns=[[{'LEMMA': 'выделение'}, {'LEMMA': 'из'}, {'LEMMA': 'влагалище'}]]),\n Symptom(id_name='боль при мочеиспускание', patterns=[[{'LEMMA': 'боль'}, {'LEMMA': 'при'}, {'LEMMA': 'мочеиспускание'}]]),\n Symptom(id_name='боль при половой акт', patterns=[[{'LEMMA': 'боль'}, {'LEMMA': 'при'}, {'LEMMA': 'половой'}, {'LEMMA': 'акт'}]]),\n Symptom(id_name='боль в область промежность', patterns=[[{'LEMMA': 'боль'}, {'LEMMA': 'в'}, {'LEMMA': 'область'}, {'LEMMA': 'промежность'}]]),\n Symptom(id_name='боль в область мошонка', patterns=[[{'LEMMA': 'боль'}, {'LEMMA': 'в'}, {'LEMMA': 'область'}, {'LEMMA': 'мошонка'}]]),\n Symptom(id_name='боль в область поясница', patterns=[[{'LEMMA': 'боль'}, {'LEMMA': 'в'}, {'LEMMA': 'область'}, {'LEMMA': 'поясница'}]]),\n Symptom(id_name='увеличить нёбный миндалина', patterns=[[{'LEMMA': 'увеличить'}, {'LEMMA': 'нёбный'}, {'LEMMA': 'миндалина'}]]),\n Symptom(id_name='ринит', patterns=[[{'LEMMA': 'ринит'}]]),\n Symptom(id_name='бронхит', patterns=[[{'LEMMA': 'бронхит'}]]),\n Symptom(id_name='судорога в нога', patterns=[[{'LEMMA': 'судорога'}, {'LEMMA': 'в'}, {'LEMMA': 'нога'}]]),\n Symptom(id_name='куриный слепота', patterns=[[{'LEMMA': 'куриный'}, {'LEMMA': 'слепота'}]]),\n Symptom(id_name='мушка', patterns=[[{'LEMMA': 'мушка'}]]),\n Symptom(id_name='быстрый смена настроение', patterns=[[{'LEMMA': 'быстрый'}, {'LEMMA': 'смена'}, {'LEMMA': 'настроение'}]]),\n Symptom(id_name='плохой усвояемость информация', patterns=[[{'LEMMA': 'плохой'}, {'LEMMA': 'усвояемость'}, {'LEMMA': 'информация'}]]),\n Symptom(id_name='шаткий походка', patterns=[[{'LEMMA': 'шаткий'}, {'LEMMA': 'походка'}]]),\n Symptom(id_name='тремор рука', patterns=[[{'LEMMA': 'тремор'}, {'LEMMA': 'рука'}]]),\n Symptom(id_name='слабоумие', patterns=[[{'LEMMA': 'слабоумие'}]]),\n Symptom(id_name='боль в левый подреберье', patterns=[[{'LEMMA': 'боль'}, {'LEMMA': 'в'}, {'LEMMA': 'левый'}, {'LEMMA': 'подреберье'}]]),\n Symptom(id_name='поражение сеткачки глаз', patterns=[[{'LEMMA': 'поражение'}, {'LEMMA': 'сеткачки'}, {'LEMMA': 'глаз'}]]),\n Symptom(id_name='поражение поджелудочный железа', patterns=[[{'LEMMA': 'поражение'}, {'LEMMA': 'поджелудочный'}, {'LEMMA': 'железа'}]]),\n Symptom(id_name='поражение нервный система', patterns=[[{'LEMMA': 'поражение'}, {'LEMMA': 'нервный'}, {'LEMMA': 'система'}]]),\n Symptom(id_name='наружение координация движение', patterns=[[{'LEMMA': 'наружение'}, {'LEMMA': 'координация'}, {'LEMMA': 'движение'}]]),\n Symptom(id_name='свищи', patterns=[[{'LEMMA': 'свищи'}]]),\n Symptom(id_name='загноение бубон', patterns=[[{'LEMMA': 'загноение'}, {'LEMMA': 'бубон'}]]),\n Symptom(id_name='чувство страх', patterns=[[{'LEMMA': 'чувство'}, {'LEMMA': 'страх'}]]),\n Symptom(id_name='чувство возбуждение', patterns=[[{'LEMMA': 'чувство'}, {'LEMMA': 'возбуждение'}]]),\n Symptom(id_name='сокращение мочеиспускание', patterns=[[{'LEMMA': 'сокращение'}, {'LEMMA': 'мочеиспускание'}]]),\n Symptom(id_name='боль в мышца', patterns=[[{'LEMMA': 'боль'}, {'LEMMA': 'в'}, {'LEMMA': 'мышца'}]]),\n Symptom(id_name='шум в сердце', patterns=[[{'LEMMA': 'шум'}, {'LEMMA': 'в'}, {'LEMMA': 'сердце'}]]),\n Symptom(id_name='синдром барабанный палочка', patterns=[[{'LEMMA': 'синдром'}, {'LEMMA': 'барабанный'}, {'LEMMA': 'палочка'}]]),\n Symptom(id_name='зуд в область анальный отверстие', patterns=[[{'LEMMA': 'зуд'}, {'LEMMA': 'в'}, {'LEMMA': 'область'}, {'LEMMA': 'анальный'}, {'LEMMA': 'отверстие'}]]),\n Symptom(id_name='скрежет зуб', patterns=[[{'LEMMA': 'скрежет'}, {'LEMMA': 'зуб'}]]),\n Symptom(id_name='боль в правый подреберье', patterns=[[{'LEMMA': 'боль'}, {'LEMMA': 'в'}, {'LEMMA': 'правый'}, {'LEMMA': 'подреберье'}]]),\n Symptom(id_name='аллергический реакция', patterns=[[{'LEMMA': 'аллергический'}, {'LEMMA': 'реакция'}]]),\n Symptom(id_name='желтуха', patterns=[[{'LEMMA': 'желтуха'}]]),\n Symptom(id_name='отдышка', patterns=[[{'LEMMA': 'отдышка'}]]),\n Symptom(id_name='дискомфорт', patterns=[[{'LEMMA': 'дискомфорт'}]])]"
     },
     "execution_count": 232,
     "metadata": {},
     "output_type": "execute_result"
    }
   ],
   "source": [
    "existed_symptoms = SymptomCollection.get_symptoms()\n",
    "len(existed_symptoms)\n",
    "existed_symptoms"
   ],
   "metadata": {
    "collapsed": false,
    "ExecuteTime": {
     "start_time": "2023-04-28T22:21:10.665115Z",
     "end_time": "2023-04-28T22:21:10.812843Z"
    }
   }
  },
  {
   "cell_type": "code",
   "execution_count": 233,
   "outputs": [
    {
     "data": {
      "text/plain": "['боль в горло',\n 'температура',\n 'вялость',\n 'головной боль',\n 'увеличить лимфатический узел',\n 'снижение аппетит',\n 'повышенный слюнотечение',\n 'боль в ушах',\n 'увеличить миндалина',\n 'белый налёт на миндалинах',\n 'боль в грудь',\n 'нарушение прохождение пища',\n 'дискомфорт в время еда',\n 'кашель',\n 'осиплость голос',\n 'боль в спина',\n 'боль в нога',\n 'боль вокруг пупок',\n 'тахикардия',\n 'головокружение',\n 'одышка',\n 'учащённый дыхание',\n 'обморок',\n 'потеря сознание',\n 'инфаркт',\n 'рассеянность внимание',\n 'снижение работоспособность',\n 'нарушение память',\n 'утомляемость',\n 'нарушение сон',\n 'снижение интеллект',\n 'наружение мозговой кровообращение',\n 'инсульт',\n 'тромбоз',\n 'хромота',\n 'похолодание конечность',\n 'слабый пульс',\n 'синюшность',\n 'поверхностный сон',\n 'малый длительность сон',\n 'сонливость',\n 'эмоциональный расстройство',\n 'зуд в глаз',\n 'ощущение тяжесть веко',\n 'переутомление глаз',\n 'светобоязнь',\n 'отёчность веко',\n 'чешуйка на кожа веко',\n 'выпадение ресница',\n 'неправильный рост ресница',\n 'боль в печень',\n 'боль в сердце',\n 'отёк нога',\n 'депрессия',\n 'беспокойство',\n 'дезориентация',\n 'апатия',\n 'галлюцинация',\n 'бредовый расстройство',\n 'прозопагнозия',\n 'нарушение координация движение',\n 'шаркать походка',\n 'судорога',\n 'повысить тонус мышца',\n 'дрожь',\n 'потеря равновесие',\n 'нарушение осанка',\n 'запор',\n 'бессоница',\n 'нарушение обоняние',\n 'пониженный артериальный давление',\n 'дирузия',\n 'снижение либидо',\n 'деменция',\n 'нарушение слух',\n 'шум в ушах',\n 'нарушение зрение',\n 'нарушение кооржинации движение',\n 'раздражительность',\n 'двоение зрение',\n 'тяжёлый голова',\n 'тошнота',\n 'рвота',\n 'учащённый сердцебиение',\n 'повысить потливость',\n 'расширить вена под глаз',\n 'недоношенность',\n 'увеличить печень',\n 'увеличить селезёнка',\n 'хориоретинит',\n 'пневмония',\n 'задержка психомоторный развитие',\n 'тугоухость',\n 'наружение зрение',\n 'аномании зуб',\n 'слизисто - водянистый выделение из нос',\n 'желто - зелёный выделение из нос',\n 'боль в область пазух',\n 'влажный кашель',\n 'зубной боль',\n 'боль в глаз',\n 'покраснение вокруг глаз',\n 'затуманенность зрение',\n 'гало',\n 'боль в надбровный область',\n 'повышенный давление в глаз',\n 'боль в височный область',\n 'иллюзия движение',\n 'звон в ушах',\n 'иллюзия верчение',\n 'поражение бронх',\n 'поражение лёгкое',\n 'поражение почка',\n 'сухость слизистый нос',\n 'заложенность нос',\n 'носовой кровотечение',\n 'сухость в горло',\n 'сухой кашель',\n 'гнойный отит',\n 'лихорадка',\n 'недомогание',\n 'боль в коленный сустав',\n 'артрит',\n 'шишка',\n 'боль в голеностопный сустав',\n 'кровотечение',\n 'диарея',\n 'боль в живот',\n 'непереносимость холод',\n 'зябкость',\n 'онемение',\n 'ощущение покалывание',\n 'перемежаться хромота',\n 'трофический нарушение ткань нога',\n 'язва',\n 'сухость кожа',\n 'изчезновение волос с нога',\n 'изчезновение подкожный жир в нога',\n 'утолщение ногтей',\n 'некроз',\n 'боль в наружный ухо',\n 'снижение слух',\n 'выделение жидкость из ухо',\n 'покраснение и опухание наружный ухо',\n 'персеверация',\n 'возникновение гримаса',\n 'нервный тик',\n 'сильный волнение',\n 'напряжённость',\n 'протягивание определённый звук',\n 'паралич',\n 'нарушение речь',\n 'ишемический приступ',\n 'нарушение походка',\n 'боль в область сердце',\n 'бледность кожа',\n 'затрудненное дыхание',\n 'расплывчатость изображение',\n 'близорукость',\n 'вспышка в глаз',\n 'обильный слезотечение',\n 'покраснение глаз',\n 'гнойный истечение',\n 'отёк коньюнктивы',\n 'зуд',\n 'отёк век',\n 'смещение глазной яблоко от нормальный ось',\n 'диплопия',\n 'расфокусировка зрение',\n 'холодный пот',\n 'спутанность сознание',\n 'вздутие живот',\n 'кровь при дефекация',\n 'кровь в моча',\n 'вагинальный кровотечение',\n 'кровь в рвотный масса',\n 'боль при глотание',\n 'затруденное дыхание',\n 'першение в горло',\n 'снижение вес',\n 'боль в молочный железах',\n 'новообразование молочный железа',\n 'новообразование на кожа',\n 'ассиметричная форма новообразование',\n 'боль в кость',\n 'снижение чувствительность кожа',\n 'вегетативный расстройство',\n 'синюшность кожа',\n 'отёк',\n 'боль за ухом',\n 'нарушение подвижность сустав',\n 'боль в шея',\n 'напряжённость мыщц шея',\n 'ограниченный движение шея',\n 'воспаление ткань плечевой сустав',\n 'боль в плечо',\n 'нарушение кровообращение',\n 'боль в затылке',\n 'боль между лопаток',\n 'боль в поясница',\n 'парез',\n 'изгибание поясница',\n 'боль в подзатылочной область',\n 'тенденция к образование синяк',\n 'красный пятно на кожа',\n 'боль в сустав',\n 'увеличить голеностопный сустав',\n 'подкожный узелки',\n 'сыпь',\n 'мышечный судорога',\n 'озноб',\n 'повысить слюноотделение',\n 'оцепенение',\n 'двоение в глаз',\n 'деформация кость',\n 'боль при движение',\n 'ограниченность движение',\n 'боль при наклон вперёд',\n 'напряжённость мыщц спина',\n 'обморочный состояние',\n 'сердечный недостаточность',\n 'чувство нехватка воздух',\n 'чувство частый сердцебиение',\n 'чувство редкий сердцебиение',\n 'боль в мыщцах',\n 'насморк',\n 'кровотечение из нос',\n 'кровотечение из десна',\n 'покалывание',\n 'напряжённость мыщц поясница',\n 'снижение тонус мыщц нога',\n 'атрофия мыщц',\n 'напряжение мыщц шея',\n 'снижение тонус мыщц',\n 'боль в рука',\n 'частый мочеиспускание',\n 'боль в промежность',\n 'обль в кость',\n 'интоксикация',\n 'снижение масса тело',\n 'кровь в сперма',\n 'отрыжка',\n 'поверхностный эрозия',\n 'бляшка',\n 'кровохаркание',\n 'узел в молочный железа',\n 'изменение форма молочный железа',\n 'сморщивание кожа молочный железа',\n 'ощущение боль в молочный железа',\n 'припухность на соска',\n 'втяжение сосок',\n 'кровянистый выделение из сосок',\n 'раздражение мучевого пузырь',\n 'ложный позыв к мочеиспускание',\n 'боль в малый таз',\n 'боль в боковой отдел живот',\n 'варикоцеле',\n 'припухлость в поясничный область',\n 'анемия',\n 'кровотечение из прямой кишка',\n 'метеоризм',\n 'тенезм',\n 'боль в область прямой кишка',\n 'кишечный непроходимость',\n 'кровянистый выделение из половой путь',\n 'обильный влагалищный выделение',\n 'боль в нижний часть живот',\n 'боль внизу живот',\n 'нерегулярность менструация',\n 'потеря способность двигаться',\n 'замедленность речь',\n 'снижение зрение',\n 'опухоль на место растяжение',\n 'появление шрам',\n 'потеря эластичность мышца',\n 'припухлость кожа',\n 'деформация сустав',\n 'покраснение кожа',\n 'обложить язык',\n 'обезвоживание',\n 'синяк под глаз',\n 'заострить черта лицо',\n 'недержание при мочеиспускание',\n 'боль под правый ребром',\n 'боль в область желудок',\n 'волдырь',\n 'чихание',\n 'повысить артериальный давление',\n 'нарушение эндокринный система',\n 'опухоль головной мозг',\n 'спазм сосуд',\n 'атеросклероз',\n 'порок сердце',\n 'сахарный диабет',\n 'нарушение мозговой кровообращение',\n 'энцефалит',\n 'стенокардия',\n 'покалывание в палец',\n 'фарингит',\n 'образование твёрдый шанкр',\n 'пустулезные высыпание',\n 'бородавка',\n 'поражение внутренний орган',\n 'поражение мозговой оболочка',\n 'нарушение психика',\n 'гриппоподобные заболевание',\n 'ломота',\n 'хронический усталость',\n 'красный опухолевидные образование',\n 'боль в ухо',\n 'разрыв барабанный перенонки',\n 'временной потеря слух',\n 'повышение аппетит',\n 'повысить либидо',\n 'эпилепсия',\n 'синдром патологический накопительство',\n 'спазм жевательный мыщц',\n 'неподвижность челюсть',\n 'напряжённость мыщц брюшной пресс',\n 'потемнение в глаз',\n 'фырканье',\n 'девиация глаз',\n 'недержание при дефекация',\n 'пеноотделение',\n 'мышечный спазм',\n 'утомлённость',\n 'тревога',\n 'участить пульс',\n 'ушиб',\n 'гематома',\n 'прозрачный жидкость из нос',\n 'анизокория',\n 'цианоз',\n 'выделение из уретра',\n 'выделение из влагалище',\n 'боль при мочеиспускание',\n 'боль при половой акт',\n 'боль в область промежность',\n 'боль в область мошонка',\n 'боль в область поясница',\n 'увеличить нёбный миндалина',\n 'ринит',\n 'бронхит',\n 'судорога в нога',\n 'куриный слепота',\n 'мушка',\n 'быстрый смена настроение',\n 'плохой усвояемость информация',\n 'шаткий походка',\n 'тремор рука',\n 'слабоумие',\n 'боль в левый подреберье',\n 'поражение сеткачки глаз',\n 'поражение поджелудочный железа',\n 'поражение нервный система',\n 'наружение координация движение',\n 'свищи',\n 'загноение бубон',\n 'чувство страх',\n 'чувство возбуждение',\n 'сокращение мочеиспускание',\n 'боль в мышца',\n 'шум в сердце',\n 'синдром барабанный палочка',\n 'зуд в область анальный отверстие',\n 'скрежет зуб',\n 'боль в правый подреберье',\n 'аллергический реакция',\n 'желтуха',\n 'отдышка',\n 'дискомфорт']"
     },
     "execution_count": 233,
     "metadata": {},
     "output_type": "execute_result"
    }
   ],
   "source": [
    "existed_symptoms_id = list(map(lambda x: x.id_name, existed_symptoms))\n",
    "existed_symptoms_id"
   ],
   "metadata": {
    "collapsed": false,
    "ExecuteTime": {
     "start_time": "2023-04-28T22:21:10.672738Z",
     "end_time": "2023-04-28T22:21:10.813408Z"
    }
   }
  },
  {
   "cell_type": "code",
   "execution_count": 234,
   "outputs": [
    {
     "name": "stdout",
     "output_type": "stream",
     "text": [
      "{'диарея', 'аллергические реакции', 'потеря сознания', 'зевота', 'повышенное артериальное давление', 'онемение', 'учащенный пульс', 'учащенное сердцебиение', 'атеросклероз', 'похолодание конечностей', 'отеки', 'повышенный холестерин', 'сухой кашель', 'ком в горле', 'хроническая усталость', 'лишний вес', 'гипотериоз', 'боль в печени', 'слабость', 'увеличенные лимфатические узлы', 'утомляемость', 'слабый пульс', 'грыжи позвоночника', 'повышение аппетита', 'поверхностный сон', 'звон в ушах', 'чувство нехватки воздуха', 'боль в груди', 'увеличенная печень', 'синяки под глазами', 'интоксикация', 'панические атаки', 'боль в глазах', 'боль в горле', 'стоматит', 'головная боль', 'сухость кожи', 'боль в суставах', 'одышка', 'чувство страха', 'боль в сердце', 'температура', 'снижение аппетита', 'головокружение', 'геморрой', 'повышенная потливость', 'расслаивание ногтей', 'бледность кожи', 'пониженное артериальное давление'}\n"
     ]
    }
   ],
   "source": [
    "marked_symptoms = set()\n",
    "for row_tuple in marked_df.itertuples(index=False, name=None):\n",
    "    filtered_row = list(filter(lambda x: not pd.isna(x) and isinstance(x, str), row_tuple))\n",
    "    marked_symptoms.update(filtered_row)\n",
    "\n",
    "print(marked_symptoms)"
   ],
   "metadata": {
    "collapsed": false,
    "ExecuteTime": {
     "start_time": "2023-04-28T22:21:10.698963Z",
     "end_time": "2023-04-28T22:21:10.813539Z"
    }
   }
  },
  {
   "cell_type": "code",
   "execution_count": 235,
   "outputs": [
    {
     "name": "stdout",
     "output_type": "stream",
     "text": [
      "49\n",
      "{'диарея', 'зевота', 'расслаивание ноготь', 'потеря сознание', 'учащённый пульс', 'боль в печень', 'онемение', 'панический атака', 'учащённый сердцебиение', 'грыжа позвоночник', 'чувство страх', 'атеросклероз', 'похолодание конечность', 'повышенный потливость', 'аллергический реакция', 'бледность кожа', 'повышенный холестерин', 'сухой кашель', 'лишний вес', 'увеличить лимфатический узел', 'слабость', 'боль в грудь', 'снижение аппетит', 'повышенный артериальный давление', 'утомляемость', 'слабый пульс', 'боль в горло', 'поверхностный сон', 'синяк под глаз', 'отечь', 'чувство нехватка воздух', 'интоксикация', 'стоматит', 'сухость кожа', 'боль в сустав', 'хронический усталость', 'повышение аппетит', 'одышка', 'понизить артериальный давление', 'боль в сердце', 'головной боль', 'температура', 'звон в ухо', 'головокружение', 'боль в глаз', 'кто в горло', 'геморрой', 'увеличить печень', 'гипотериоз'}\n"
     ]
    }
   ],
   "source": [
    "marked_symptom_ids = set()\n",
    "for marked_symptom in marked_symptoms:\n",
    "    marked_symptom_ids.add(try_to_transform_symptom_to_id(marked_symptom))\n",
    "print(len(marked_symptom_ids))\n",
    "print(marked_symptom_ids)"
   ],
   "metadata": {
    "collapsed": false,
    "ExecuteTime": {
     "start_time": "2023-04-28T22:21:10.708342Z",
     "end_time": "2023-04-28T22:21:10.813676Z"
    }
   }
  },
  {
   "cell_type": "code",
   "execution_count": 236,
   "outputs": [
    {
     "name": "stdout",
     "output_type": "stream",
     "text": [
      "17\n"
     ]
    },
    {
     "data": {
      "text/plain": "{'геморрой',\n 'гипотериоз',\n 'грыжа позвоночник',\n 'звон в ухо',\n 'зевота',\n 'кто в горло',\n 'лишний вес',\n 'отечь',\n 'панический атака',\n 'повышенный артериальный давление',\n 'повышенный потливость',\n 'повышенный холестерин',\n 'понизить артериальный давление',\n 'расслаивание ноготь',\n 'слабость',\n 'стоматит',\n 'учащённый пульс'}"
     },
     "execution_count": 236,
     "metadata": {},
     "output_type": "execute_result"
    }
   ],
   "source": [
    "print(len(marked_symptom_ids.difference(existed_symptoms_id)))\n",
    "marked_symptom_ids.difference(existed_symptoms_id)"
   ],
   "metadata": {
    "collapsed": false,
    "ExecuteTime": {
     "start_time": "2023-04-28T22:21:10.750187Z",
     "end_time": "2023-04-28T22:21:10.813878Z"
    }
   }
  },
  {
   "cell_type": "markdown",
   "source": [
    "# Perform converting dataframe\n",
    "Need to convert marked dataset to format:\n",
    "`ID - <list of marked symptom column> - <list of extractor symptom column>`"
   ],
   "metadata": {
    "collapsed": false
   }
  },
  {
   "cell_type": "code",
   "execution_count": 237,
   "outputs": [
    {
     "data": {
      "text/plain": "                            case_id\n0  b13c995673fb409fb66b5f81c180642b\n1  29ceffdca8bf494f9d21b55b4bc2995c\n2  2c75d3c2b87c400098f12aa710b3dde9\n3  d1129e9686df442b9dee566985735dba\n4  091ae4f1b0d14c82885ccdcdd81af6e3",
      "text/html": "<div>\n<style scoped>\n    .dataframe tbody tr th:only-of-type {\n        vertical-align: middle;\n    }\n\n    .dataframe tbody tr th {\n        vertical-align: top;\n    }\n\n    .dataframe thead th {\n        text-align: right;\n    }\n</style>\n<table border=\"1\" class=\"dataframe\">\n  <thead>\n    <tr style=\"text-align: right;\">\n      <th></th>\n      <th>case_id</th>\n    </tr>\n  </thead>\n  <tbody>\n    <tr>\n      <th>0</th>\n      <td>b13c995673fb409fb66b5f81c180642b</td>\n    </tr>\n    <tr>\n      <th>1</th>\n      <td>29ceffdca8bf494f9d21b55b4bc2995c</td>\n    </tr>\n    <tr>\n      <th>2</th>\n      <td>2c75d3c2b87c400098f12aa710b3dde9</td>\n    </tr>\n    <tr>\n      <th>3</th>\n      <td>d1129e9686df442b9dee566985735dba</td>\n    </tr>\n    <tr>\n      <th>4</th>\n      <td>091ae4f1b0d14c82885ccdcdd81af6e3</td>\n    </tr>\n  </tbody>\n</table>\n</div>"
     },
     "execution_count": 237,
     "metadata": {},
     "output_type": "execute_result"
    }
   ],
   "source": [
    "df_showcase = pd.DataFrame(list(marked_df.index), columns=[\"case_id\"])\n",
    "df_showcase.head()"
   ],
   "metadata": {
    "collapsed": false,
    "ExecuteTime": {
     "start_time": "2023-04-28T22:21:10.794112Z",
     "end_time": "2023-04-28T22:21:10.814047Z"
    }
   }
  },
  {
   "cell_type": "code",
   "execution_count": 238,
   "outputs": [
    {
     "data": {
      "text/plain": "                            case_id                            name  \\\n0  53b49cb2f8f841e894058b023f0c215a  Акушерство - Беременность-Роды   \n1  2a8a4ae843ed470bbc5cc4b16300417a  Акушерство - Беременность-Роды   \n2  fe560282eee14778bceaf3533a028d4f  Акушерство - Беременность-Роды   \n3  80743a55b8a5493ebfcf48053e45e955  Акушерство - Беременность-Роды   \n4  01a62e5678b4410593c206b0c25d71c4  Акушерство - Беременность-Роды   \n\n                                                case  \\\n0  <div class=\"postcolor\" id=\"post-40777\">\\n\\t\\t\\...   \n1  <div class=\"postcolor\" id=\"post-40637\">\\n\\t\\t\\...   \n2  <div class=\"postcolor\" id=\"post-40361\">\\n\\t\\t\\...   \n3  <div class=\"postcolor\" id=\"post-40309\">\\n\\t\\t\\...   \n4  <div class=\"postcolor\" id=\"post-24901\">\\n\\t\\t\\...   \n\n                                                 url  \n0  https://meduniver.com/forum/index.php?s=63007a...  \n1  https://meduniver.com/forum/index.php?s=63007a...  \n2  https://meduniver.com/forum/index.php?s=63007a...  \n3  https://meduniver.com/forum/index.php?s=63007a...  \n4  https://meduniver.com/forum/index.php?s=63007a...  ",
      "text/html": "<div>\n<style scoped>\n    .dataframe tbody tr th:only-of-type {\n        vertical-align: middle;\n    }\n\n    .dataframe tbody tr th {\n        vertical-align: top;\n    }\n\n    .dataframe thead th {\n        text-align: right;\n    }\n</style>\n<table border=\"1\" class=\"dataframe\">\n  <thead>\n    <tr style=\"text-align: right;\">\n      <th></th>\n      <th>case_id</th>\n      <th>name</th>\n      <th>case</th>\n      <th>url</th>\n    </tr>\n  </thead>\n  <tbody>\n    <tr>\n      <th>0</th>\n      <td>53b49cb2f8f841e894058b023f0c215a</td>\n      <td>Акушерство - Беременность-Роды</td>\n      <td>&lt;div class=\"postcolor\" id=\"post-40777\"&gt;\\n\\t\\t\\...</td>\n      <td>https://meduniver.com/forum/index.php?s=63007a...</td>\n    </tr>\n    <tr>\n      <th>1</th>\n      <td>2a8a4ae843ed470bbc5cc4b16300417a</td>\n      <td>Акушерство - Беременность-Роды</td>\n      <td>&lt;div class=\"postcolor\" id=\"post-40637\"&gt;\\n\\t\\t\\...</td>\n      <td>https://meduniver.com/forum/index.php?s=63007a...</td>\n    </tr>\n    <tr>\n      <th>2</th>\n      <td>fe560282eee14778bceaf3533a028d4f</td>\n      <td>Акушерство - Беременность-Роды</td>\n      <td>&lt;div class=\"postcolor\" id=\"post-40361\"&gt;\\n\\t\\t\\...</td>\n      <td>https://meduniver.com/forum/index.php?s=63007a...</td>\n    </tr>\n    <tr>\n      <th>3</th>\n      <td>80743a55b8a5493ebfcf48053e45e955</td>\n      <td>Акушерство - Беременность-Роды</td>\n      <td>&lt;div class=\"postcolor\" id=\"post-40309\"&gt;\\n\\t\\t\\...</td>\n      <td>https://meduniver.com/forum/index.php?s=63007a...</td>\n    </tr>\n    <tr>\n      <th>4</th>\n      <td>01a62e5678b4410593c206b0c25d71c4</td>\n      <td>Акушерство - Беременность-Роды</td>\n      <td>&lt;div class=\"postcolor\" id=\"post-24901\"&gt;\\n\\t\\t\\...</td>\n      <td>https://meduniver.com/forum/index.php?s=63007a...</td>\n    </tr>\n  </tbody>\n</table>\n</div>"
     },
     "execution_count": 238,
     "metadata": {},
     "output_type": "execute_result"
    }
   ],
   "source": [
    "# Add case column\n",
    "patient_df = pd.read_csv(\"../data/patient_case.csv\").dropna()\n",
    "patient_df.rename(columns={\"id\": \"case_id\"}, inplace=True)\n",
    "patient_df.head()"
   ],
   "metadata": {
    "collapsed": false,
    "ExecuteTime": {
     "start_time": "2023-04-28T22:21:10.794280Z",
     "end_time": "2023-04-28T22:21:10.997774Z"
    }
   }
  },
  {
   "cell_type": "code",
   "execution_count": 239,
   "outputs": [],
   "source": [
    "def preprocess_case(df):\n",
    "    df.case = df.case.str.lower()\n",
    "    df.case = df.case.apply(lambda x: re.sub(r'(\\<(/?[^>]+)>)', ' ', x).strip())\n",
    "    df.case = df.case.str.replace('[^\\w\\s]',' ')\n",
    "    df.case = df.case.apply(lambda x: re.sub(r'\\d+', ' ', x))\n",
    "    df.case = df.case.apply(lambda x: lemmatize(x))\n",
    "    df.case = df.case.apply(lambda x: ' '.join(x))"
   ],
   "metadata": {
    "collapsed": false,
    "ExecuteTime": {
     "start_time": "2023-04-28T22:21:10.920424Z",
     "end_time": "2023-04-28T22:21:11.023808Z"
    }
   }
  },
  {
   "cell_type": "code",
   "execution_count": 240,
   "outputs": [
    {
     "name": "stderr",
     "output_type": "stream",
     "text": [
      "/tmp/ipykernel_25450/4129127589.py:4: FutureWarning: The default value of regex will change from True to False in a future version.\n",
      "  df.case = df.case.str.replace('[^\\w\\s]',' ')\n"
     ]
    }
   ],
   "source": [
    "preprocess_case(patient_df)"
   ],
   "metadata": {
    "collapsed": false,
    "ExecuteTime": {
     "start_time": "2023-04-28T22:21:10.962156Z",
     "end_time": "2023-04-28T22:23:08.989366Z"
    }
   }
  },
  {
   "cell_type": "code",
   "execution_count": 241,
   "outputs": [
    {
     "data": {
      "text/plain": "                            case_id                            name  \\\n0  53b49cb2f8f841e894058b023f0c215a  Акушерство - Беременность-Роды   \n1  2a8a4ae843ed470bbc5cc4b16300417a  Акушерство - Беременность-Роды   \n2  fe560282eee14778bceaf3533a028d4f  Акушерство - Беременность-Роды   \n3  80743a55b8a5493ebfcf48053e45e955  Акушерство - Беременность-Роды   \n4  01a62e5678b4410593c206b0c25d71c4  Акушерство - Беременность-Роды   \n\n                                                case  \\\n0  здравствуйте на день цикл появиться бледно роз...   \n1  по узи поставить диагноз хронический двухсторо...   \n2  беременность неделя беременность первый ребёно...   \n3  здравствуйте пойти на приём к гинеколог из за ...   \n4  здравствуйте задержка день но при это тест отр...   \n\n                                                 url  \n0  https://meduniver.com/forum/index.php?s=63007a...  \n1  https://meduniver.com/forum/index.php?s=63007a...  \n2  https://meduniver.com/forum/index.php?s=63007a...  \n3  https://meduniver.com/forum/index.php?s=63007a...  \n4  https://meduniver.com/forum/index.php?s=63007a...  ",
      "text/html": "<div>\n<style scoped>\n    .dataframe tbody tr th:only-of-type {\n        vertical-align: middle;\n    }\n\n    .dataframe tbody tr th {\n        vertical-align: top;\n    }\n\n    .dataframe thead th {\n        text-align: right;\n    }\n</style>\n<table border=\"1\" class=\"dataframe\">\n  <thead>\n    <tr style=\"text-align: right;\">\n      <th></th>\n      <th>case_id</th>\n      <th>name</th>\n      <th>case</th>\n      <th>url</th>\n    </tr>\n  </thead>\n  <tbody>\n    <tr>\n      <th>0</th>\n      <td>53b49cb2f8f841e894058b023f0c215a</td>\n      <td>Акушерство - Беременность-Роды</td>\n      <td>здравствуйте на день цикл появиться бледно роз...</td>\n      <td>https://meduniver.com/forum/index.php?s=63007a...</td>\n    </tr>\n    <tr>\n      <th>1</th>\n      <td>2a8a4ae843ed470bbc5cc4b16300417a</td>\n      <td>Акушерство - Беременность-Роды</td>\n      <td>по узи поставить диагноз хронический двухсторо...</td>\n      <td>https://meduniver.com/forum/index.php?s=63007a...</td>\n    </tr>\n    <tr>\n      <th>2</th>\n      <td>fe560282eee14778bceaf3533a028d4f</td>\n      <td>Акушерство - Беременность-Роды</td>\n      <td>беременность неделя беременность первый ребёно...</td>\n      <td>https://meduniver.com/forum/index.php?s=63007a...</td>\n    </tr>\n    <tr>\n      <th>3</th>\n      <td>80743a55b8a5493ebfcf48053e45e955</td>\n      <td>Акушерство - Беременность-Роды</td>\n      <td>здравствуйте пойти на приём к гинеколог из за ...</td>\n      <td>https://meduniver.com/forum/index.php?s=63007a...</td>\n    </tr>\n    <tr>\n      <th>4</th>\n      <td>01a62e5678b4410593c206b0c25d71c4</td>\n      <td>Акушерство - Беременность-Роды</td>\n      <td>здравствуйте задержка день но при это тест отр...</td>\n      <td>https://meduniver.com/forum/index.php?s=63007a...</td>\n    </tr>\n  </tbody>\n</table>\n</div>"
     },
     "execution_count": 241,
     "metadata": {},
     "output_type": "execute_result"
    }
   ],
   "source": [
    "patient_df.head()"
   ],
   "metadata": {
    "collapsed": false,
    "ExecuteTime": {
     "start_time": "2023-04-28T22:23:09.030094Z",
     "end_time": "2023-04-28T22:23:09.030567Z"
    }
   }
  },
  {
   "cell_type": "code",
   "execution_count": 242,
   "outputs": [],
   "source": [
    "patient_df = patient_df.drop(columns=[\"name\", \"url\"])"
   ],
   "metadata": {
    "collapsed": false,
    "ExecuteTime": {
     "start_time": "2023-04-28T22:23:09.030319Z",
     "end_time": "2023-04-28T22:23:09.030735Z"
    }
   }
  },
  {
   "cell_type": "code",
   "execution_count": 243,
   "outputs": [],
   "source": [
    "df_showcase = df_showcase.join(patient_df.set_index(\"case_id\"), on=\"case_id\")"
   ],
   "metadata": {
    "collapsed": false,
    "ExecuteTime": {
     "start_time": "2023-04-28T22:23:09.030447Z",
     "end_time": "2023-04-28T22:23:09.030805Z"
    }
   }
  },
  {
   "cell_type": "code",
   "execution_count": 244,
   "outputs": [
    {
     "data": {
      "text/plain": "                            case_id  \\\n0  b13c995673fb409fb66b5f81c180642b   \n1  29ceffdca8bf494f9d21b55b4bc2995c   \n2  2c75d3c2b87c400098f12aa710b3dde9   \n3  d1129e9686df442b9dee566985735dba   \n4  091ae4f1b0d14c82885ccdcdd81af6e3   \n\n                                                case  \n0  добрый день интересный и запутать ситуация с м...  \n1  добрый день подсказать пожалуйста муж стать бе...  \n2  уважаемый доктор по результам описание наш док...  \n3  приветствовать вообщий несколько месяц назад м...  \n4  здравствуйте расшифровать пожалуйста исследова...  ",
      "text/html": "<div>\n<style scoped>\n    .dataframe tbody tr th:only-of-type {\n        vertical-align: middle;\n    }\n\n    .dataframe tbody tr th {\n        vertical-align: top;\n    }\n\n    .dataframe thead th {\n        text-align: right;\n    }\n</style>\n<table border=\"1\" class=\"dataframe\">\n  <thead>\n    <tr style=\"text-align: right;\">\n      <th></th>\n      <th>case_id</th>\n      <th>case</th>\n    </tr>\n  </thead>\n  <tbody>\n    <tr>\n      <th>0</th>\n      <td>b13c995673fb409fb66b5f81c180642b</td>\n      <td>добрый день интересный и запутать ситуация с м...</td>\n    </tr>\n    <tr>\n      <th>1</th>\n      <td>29ceffdca8bf494f9d21b55b4bc2995c</td>\n      <td>добрый день подсказать пожалуйста муж стать бе...</td>\n    </tr>\n    <tr>\n      <th>2</th>\n      <td>2c75d3c2b87c400098f12aa710b3dde9</td>\n      <td>уважаемый доктор по результам описание наш док...</td>\n    </tr>\n    <tr>\n      <th>3</th>\n      <td>d1129e9686df442b9dee566985735dba</td>\n      <td>приветствовать вообщий несколько месяц назад м...</td>\n    </tr>\n    <tr>\n      <th>4</th>\n      <td>091ae4f1b0d14c82885ccdcdd81af6e3</td>\n      <td>здравствуйте расшифровать пожалуйста исследова...</td>\n    </tr>\n  </tbody>\n</table>\n</div>"
     },
     "execution_count": 244,
     "metadata": {},
     "output_type": "execute_result"
    }
   ],
   "source": [
    "df_showcase.head()"
   ],
   "metadata": {
    "collapsed": false,
    "ExecuteTime": {
     "start_time": "2023-04-28T22:23:09.030630Z",
     "end_time": "2023-04-28T22:23:09.046482Z"
    }
   }
  },
  {
   "cell_type": "markdown",
   "source": [
    "# Fill columns with marked symptoms\n"
   ],
   "metadata": {
    "collapsed": false
   }
  },
  {
   "cell_type": "code",
   "execution_count": 245,
   "outputs": [],
   "source": [
    "def symptom_id_to_marked_column_name(id):\n",
    "    return \"marked_\" + id.replace(' ', '_')"
   ],
   "metadata": {
    "collapsed": false,
    "ExecuteTime": {
     "start_time": "2023-04-28T22:23:09.048226Z",
     "end_time": "2023-04-28T22:23:09.115779Z"
    }
   }
  },
  {
   "cell_type": "code",
   "execution_count": 246,
   "outputs": [],
   "source": [
    "# Create columns for existed symptom ids\n",
    "marked_column_existed_symptoms_id = []\n",
    "for id in existed_symptoms_id:\n",
    "    column_id = symptom_id_to_marked_column_name(id)\n",
    "    marked_column_existed_symptoms_id.append(column_id)"
   ],
   "metadata": {
    "collapsed": false,
    "ExecuteTime": {
     "start_time": "2023-04-28T22:23:09.065340Z",
     "end_time": "2023-04-28T22:23:09.164388Z"
    }
   }
  },
  {
   "cell_type": "code",
   "execution_count": 274,
   "outputs": [
    {
     "data": {
      "text/plain": "['marked_боль_в_горло',\n 'marked_температура',\n 'marked_вялость',\n 'marked_головной_боль',\n 'marked_увеличить_лимфатический_узел',\n 'marked_снижение_аппетит',\n 'marked_повышенный_слюнотечение',\n 'marked_боль_в_ушах',\n 'marked_увеличить_миндалина',\n 'marked_белый_налёт_на_миндалинах',\n 'marked_боль_в_грудь',\n 'marked_нарушение_прохождение_пища',\n 'marked_дискомфорт_в_время_еда',\n 'marked_кашель',\n 'marked_осиплость_голос',\n 'marked_боль_в_спина',\n 'marked_боль_в_нога',\n 'marked_боль_вокруг_пупок',\n 'marked_тахикардия',\n 'marked_головокружение',\n 'marked_одышка',\n 'marked_учащённый_дыхание',\n 'marked_обморок',\n 'marked_потеря_сознание',\n 'marked_инфаркт',\n 'marked_рассеянность_внимание',\n 'marked_снижение_работоспособность',\n 'marked_нарушение_память',\n 'marked_утомляемость',\n 'marked_нарушение_сон',\n 'marked_снижение_интеллект',\n 'marked_наружение_мозговой_кровообращение',\n 'marked_инсульт',\n 'marked_тромбоз',\n 'marked_хромота',\n 'marked_похолодание_конечность',\n 'marked_слабый_пульс',\n 'marked_синюшность',\n 'marked_поверхностный_сон',\n 'marked_малый_длительность_сон',\n 'marked_сонливость',\n 'marked_эмоциональный_расстройство',\n 'marked_зуд_в_глаз',\n 'marked_ощущение_тяжесть_веко',\n 'marked_переутомление_глаз',\n 'marked_светобоязнь',\n 'marked_отёчность_веко',\n 'marked_чешуйка_на_кожа_веко',\n 'marked_выпадение_ресница',\n 'marked_неправильный_рост_ресница',\n 'marked_боль_в_печень',\n 'marked_боль_в_сердце',\n 'marked_отёк_нога',\n 'marked_депрессия',\n 'marked_беспокойство',\n 'marked_дезориентация',\n 'marked_апатия',\n 'marked_галлюцинация',\n 'marked_бредовый_расстройство',\n 'marked_прозопагнозия',\n 'marked_нарушение_координация_движение',\n 'marked_шаркать_походка',\n 'marked_судорога',\n 'marked_повысить_тонус_мышца',\n 'marked_дрожь',\n 'marked_потеря_равновесие',\n 'marked_нарушение_осанка',\n 'marked_запор',\n 'marked_бессоница',\n 'marked_нарушение_обоняние',\n 'marked_пониженный_артериальный_давление',\n 'marked_дирузия',\n 'marked_снижение_либидо',\n 'marked_деменция',\n 'marked_нарушение_слух',\n 'marked_шум_в_ушах',\n 'marked_нарушение_зрение',\n 'marked_нарушение_кооржинации_движение',\n 'marked_раздражительность',\n 'marked_двоение_зрение',\n 'marked_тяжёлый_голова',\n 'marked_тошнота',\n 'marked_рвота',\n 'marked_учащённый_сердцебиение',\n 'marked_повысить_потливость',\n 'marked_расширить_вена_под_глаз',\n 'marked_недоношенность',\n 'marked_увеличить_печень',\n 'marked_увеличить_селезёнка',\n 'marked_хориоретинит',\n 'marked_пневмония',\n 'marked_задержка_психомоторный_развитие',\n 'marked_тугоухость',\n 'marked_наружение_зрение',\n 'marked_аномании_зуб',\n 'marked_слизисто_-_водянистый_выделение_из_нос',\n 'marked_желто_-_зелёный_выделение_из_нос',\n 'marked_боль_в_область_пазух',\n 'marked_влажный_кашель',\n 'marked_зубной_боль',\n 'marked_боль_в_глаз',\n 'marked_покраснение_вокруг_глаз',\n 'marked_затуманенность_зрение',\n 'marked_гало',\n 'marked_боль_в_надбровный_область',\n 'marked_повышенный_давление_в_глаз',\n 'marked_боль_в_височный_область',\n 'marked_иллюзия_движение',\n 'marked_звон_в_ушах',\n 'marked_иллюзия_верчение',\n 'marked_поражение_бронх',\n 'marked_поражение_лёгкое',\n 'marked_поражение_почка',\n 'marked_сухость_слизистый_нос',\n 'marked_заложенность_нос',\n 'marked_носовой_кровотечение',\n 'marked_сухость_в_горло',\n 'marked_сухой_кашель',\n 'marked_гнойный_отит',\n 'marked_лихорадка',\n 'marked_недомогание',\n 'marked_боль_в_коленный_сустав',\n 'marked_артрит',\n 'marked_шишка',\n 'marked_боль_в_голеностопный_сустав',\n 'marked_кровотечение',\n 'marked_диарея',\n 'marked_боль_в_живот',\n 'marked_непереносимость_холод',\n 'marked_зябкость',\n 'marked_онемение',\n 'marked_ощущение_покалывание',\n 'marked_перемежаться_хромота',\n 'marked_трофический_нарушение_ткань_нога',\n 'marked_язва',\n 'marked_сухость_кожа',\n 'marked_изчезновение_волос_с_нога',\n 'marked_изчезновение_подкожный_жир_в_нога',\n 'marked_утолщение_ногтей',\n 'marked_некроз',\n 'marked_боль_в_наружный_ухо',\n 'marked_снижение_слух',\n 'marked_выделение_жидкость_из_ухо',\n 'marked_покраснение_и_опухание_наружный_ухо',\n 'marked_персеверация',\n 'marked_возникновение_гримаса',\n 'marked_нервный_тик',\n 'marked_сильный_волнение',\n 'marked_напряжённость',\n 'marked_протягивание_определённый_звук',\n 'marked_паралич',\n 'marked_нарушение_речь',\n 'marked_ишемический_приступ',\n 'marked_нарушение_походка',\n 'marked_боль_в_область_сердце',\n 'marked_бледность_кожа',\n 'marked_затрудненное_дыхание',\n 'marked_расплывчатость_изображение',\n 'marked_близорукость',\n 'marked_вспышка_в_глаз',\n 'marked_обильный_слезотечение',\n 'marked_покраснение_глаз',\n 'marked_гнойный_истечение',\n 'marked_отёк_коньюнктивы',\n 'marked_зуд',\n 'marked_отёк_век',\n 'marked_смещение_глазной_яблоко_от_нормальный_ось',\n 'marked_диплопия',\n 'marked_расфокусировка_зрение',\n 'marked_холодный_пот',\n 'marked_спутанность_сознание',\n 'marked_вздутие_живот',\n 'marked_кровь_при_дефекация',\n 'marked_кровь_в_моча',\n 'marked_вагинальный_кровотечение',\n 'marked_кровь_в_рвотный_масса',\n 'marked_боль_при_глотание',\n 'marked_затруденное_дыхание',\n 'marked_першение_в_горло',\n 'marked_снижение_вес',\n 'marked_боль_в_молочный_железах',\n 'marked_новообразование_молочный_железа',\n 'marked_новообразование_на_кожа',\n 'marked_ассиметричная_форма_новообразование',\n 'marked_боль_в_кость',\n 'marked_снижение_чувствительность_кожа',\n 'marked_вегетативный_расстройство',\n 'marked_синюшность_кожа',\n 'marked_отёк',\n 'marked_боль_за_ухом',\n 'marked_нарушение_подвижность_сустав',\n 'marked_боль_в_шея',\n 'marked_напряжённость_мыщц_шея',\n 'marked_ограниченный_движение_шея',\n 'marked_воспаление_ткань_плечевой_сустав',\n 'marked_боль_в_плечо',\n 'marked_нарушение_кровообращение',\n 'marked_боль_в_затылке',\n 'marked_боль_между_лопаток',\n 'marked_боль_в_поясница',\n 'marked_парез',\n 'marked_изгибание_поясница',\n 'marked_боль_в_подзатылочной_область',\n 'marked_тенденция_к_образование_синяк',\n 'marked_красный_пятно_на_кожа',\n 'marked_боль_в_сустав',\n 'marked_увеличить_голеностопный_сустав',\n 'marked_подкожный_узелки',\n 'marked_сыпь',\n 'marked_мышечный_судорога',\n 'marked_озноб',\n 'marked_повысить_слюноотделение',\n 'marked_оцепенение',\n 'marked_двоение_в_глаз',\n 'marked_деформация_кость',\n 'marked_боль_при_движение',\n 'marked_ограниченность_движение',\n 'marked_боль_при_наклон_вперёд',\n 'marked_напряжённость_мыщц_спина',\n 'marked_обморочный_состояние',\n 'marked_сердечный_недостаточность',\n 'marked_чувство_нехватка_воздух',\n 'marked_чувство_частый_сердцебиение',\n 'marked_чувство_редкий_сердцебиение',\n 'marked_боль_в_мыщцах',\n 'marked_насморк',\n 'marked_кровотечение_из_нос',\n 'marked_кровотечение_из_десна',\n 'marked_покалывание',\n 'marked_напряжённость_мыщц_поясница',\n 'marked_снижение_тонус_мыщц_нога',\n 'marked_атрофия_мыщц',\n 'marked_напряжение_мыщц_шея',\n 'marked_снижение_тонус_мыщц',\n 'marked_боль_в_рука',\n 'marked_частый_мочеиспускание',\n 'marked_боль_в_промежность',\n 'marked_обль_в_кость',\n 'marked_интоксикация',\n 'marked_снижение_масса_тело',\n 'marked_кровь_в_сперма',\n 'marked_отрыжка',\n 'marked_поверхностный_эрозия',\n 'marked_бляшка',\n 'marked_кровохаркание',\n 'marked_узел_в_молочный_железа',\n 'marked_изменение_форма_молочный_железа',\n 'marked_сморщивание_кожа_молочный_железа',\n 'marked_ощущение_боль_в_молочный_железа',\n 'marked_припухность_на_соска',\n 'marked_втяжение_сосок',\n 'marked_кровянистый_выделение_из_сосок',\n 'marked_раздражение_мучевого_пузырь',\n 'marked_ложный_позыв_к_мочеиспускание',\n 'marked_боль_в_малый_таз',\n 'marked_боль_в_боковой_отдел_живот',\n 'marked_варикоцеле',\n 'marked_припухлость_в_поясничный_область',\n 'marked_анемия',\n 'marked_кровотечение_из_прямой_кишка',\n 'marked_метеоризм',\n 'marked_тенезм',\n 'marked_боль_в_область_прямой_кишка',\n 'marked_кишечный_непроходимость',\n 'marked_кровянистый_выделение_из_половой_путь',\n 'marked_обильный_влагалищный_выделение',\n 'marked_боль_в_нижний_часть_живот',\n 'marked_боль_внизу_живот',\n 'marked_нерегулярность_менструация',\n 'marked_потеря_способность_двигаться',\n 'marked_замедленность_речь',\n 'marked_снижение_зрение',\n 'marked_опухоль_на_место_растяжение',\n 'marked_появление_шрам',\n 'marked_потеря_эластичность_мышца',\n 'marked_припухлость_кожа',\n 'marked_деформация_сустав',\n 'marked_покраснение_кожа',\n 'marked_обложить_язык',\n 'marked_обезвоживание',\n 'marked_синяк_под_глаз',\n 'marked_заострить_черта_лицо',\n 'marked_недержание_при_мочеиспускание',\n 'marked_боль_под_правый_ребром',\n 'marked_боль_в_область_желудок',\n 'marked_волдырь',\n 'marked_чихание',\n 'marked_повысить_артериальный_давление',\n 'marked_нарушение_эндокринный_система',\n 'marked_опухоль_головной_мозг',\n 'marked_спазм_сосуд',\n 'marked_атеросклероз',\n 'marked_порок_сердце',\n 'marked_сахарный_диабет',\n 'marked_нарушение_мозговой_кровообращение',\n 'marked_энцефалит',\n 'marked_стенокардия',\n 'marked_покалывание_в_палец',\n 'marked_фарингит',\n 'marked_образование_твёрдый_шанкр',\n 'marked_пустулезные_высыпание',\n 'marked_бородавка',\n 'marked_поражение_внутренний_орган',\n 'marked_поражение_мозговой_оболочка',\n 'marked_нарушение_психика',\n 'marked_гриппоподобные_заболевание',\n 'marked_ломота',\n 'marked_хронический_усталость',\n 'marked_красный_опухолевидные_образование',\n 'marked_боль_в_ухо',\n 'marked_разрыв_барабанный_перенонки',\n 'marked_временной_потеря_слух',\n 'marked_повышение_аппетит',\n 'marked_повысить_либидо',\n 'marked_эпилепсия',\n 'marked_синдром_патологический_накопительство',\n 'marked_спазм_жевательный_мыщц',\n 'marked_неподвижность_челюсть',\n 'marked_напряжённость_мыщц_брюшной_пресс',\n 'marked_потемнение_в_глаз',\n 'marked_фырканье',\n 'marked_девиация_глаз',\n 'marked_недержание_при_дефекация',\n 'marked_пеноотделение',\n 'marked_мышечный_спазм',\n 'marked_утомлённость',\n 'marked_тревога',\n 'marked_участить_пульс',\n 'marked_ушиб',\n 'marked_гематома',\n 'marked_прозрачный_жидкость_из_нос',\n 'marked_анизокория',\n 'marked_цианоз',\n 'marked_выделение_из_уретра',\n 'marked_выделение_из_влагалище',\n 'marked_боль_при_мочеиспускание',\n 'marked_боль_при_половой_акт',\n 'marked_боль_в_область_промежность',\n 'marked_боль_в_область_мошонка',\n 'marked_боль_в_область_поясница',\n 'marked_увеличить_нёбный_миндалина',\n 'marked_ринит',\n 'marked_бронхит',\n 'marked_судорога_в_нога',\n 'marked_куриный_слепота',\n 'marked_мушка',\n 'marked_быстрый_смена_настроение',\n 'marked_плохой_усвояемость_информация',\n 'marked_шаткий_походка',\n 'marked_тремор_рука',\n 'marked_слабоумие',\n 'marked_боль_в_левый_подреберье',\n 'marked_поражение_сеткачки_глаз',\n 'marked_поражение_поджелудочный_железа',\n 'marked_поражение_нервный_система',\n 'marked_наружение_координация_движение',\n 'marked_свищи',\n 'marked_загноение_бубон',\n 'marked_чувство_страх',\n 'marked_чувство_возбуждение',\n 'marked_сокращение_мочеиспускание',\n 'marked_боль_в_мышца',\n 'marked_шум_в_сердце',\n 'marked_синдром_барабанный_палочка',\n 'marked_зуд_в_область_анальный_отверстие',\n 'marked_скрежет_зуб',\n 'marked_боль_в_правый_подреберье',\n 'marked_аллергический_реакция',\n 'marked_желтуха',\n 'marked_отдышка',\n 'marked_дискомфорт']"
     },
     "execution_count": 274,
     "metadata": {},
     "output_type": "execute_result"
    }
   ],
   "source": [
    "marked_column_existed_symptoms_id"
   ],
   "metadata": {
    "collapsed": false,
    "ExecuteTime": {
     "start_time": "2023-04-28T22:27:43.667888Z",
     "end_time": "2023-04-28T22:27:43.712620Z"
    }
   }
  },
  {
   "cell_type": "code",
   "execution_count": 247,
   "outputs": [
    {
     "name": "stdout",
     "output_type": "stream",
     "text": [
      "[[('слабость', 1), ('повышенное артериальное давление', 1.0), ('бледность кожи', 1.0), ('повышение аппетита', 1.0), ('снижение аппетита', 1.0), ('увеличенная печень', 1.0), ('геморрой', -1.0), ('повышенный холестерин', 1.0)], [('боль в груди', 1)], [('повышенное артериальное давление', 1)], [('учащенное сердцебиение', 1), ('интоксикация', 1.0), ('боль в груди', 1.0), ('слабый пульс', 1.0)], [('хроническая усталость', 1), ('боль в груди', 1.0), ('отеки', 1.0), ('поверхностный сон', 1.0), ('повышенное артериальное давление', 1.0)], [('учащенное сердцебиение', 1), ('панические атаки', 1.0), ('ком в горле', 1.0)], [('лишний вес', -1), ('повышенное артериальное давление', -1.0), ('атеросклероз', 1.0), ('боль в груди', 1.0), ('ком в горле', 1.0), ('диарея', 1.0), ('аллергические реакции', 1.0)], [('учащенное сердцебиение', 1), ('боль в груди', 1.0), ('утомляемость', 1.0), ('синяки под глазами', 1.0)], [('боль в груди', 1), ('головокружение', 1.0), ('одышка', 1.0), ('похолодание конечностей', 1.0), ('поверхностный сон', 1.0), ('звон в ушах', 1.0)], [('боль в сердце', 1), ('боль в груди', 1.0), ('головокружение', 1.0), ('звон в ушах', 1.0), ('похолодание конечностей', 1.0), ('учащенное сердцебиение', 1.0), ('онемение', 1.0), ('повышенная потливость', 1.0)], [('гипотериоз', 1), ('грыжи позвоночника', 1.0), ('повышенное артериальное давление', 1.0), ('пониженное артериальное давление', 1.0), ('боль в сердце', 1.0)], [('боль в сердце', 1), ('учащенное сердцебиение', 1.0), ('диарея', 1.0), ('температура', -1.0), ('боль в глазах', -1.0), ('боль в горле', -1.0), ('чувство нехватки воздуха', 1.0), ('боль в суставах', 1.0), ('увеличенные лимфатические узлы', 1.0), ('стоматит', 1.0), ('расслаивание ногтей', 1.0), ('сухость кожи', 1.0), ('боль в печени', 1.0)], [('повышенное артериальное давление', 1), ('учащенное сердцебиение', 1.0), ('сухой кашель', 1.0)], [('повышенное артериальное давление', 1), ('головная боль', 1.0), ('одышка', 1.0), ('боль в груди', 1.0), ('зевота', 1.0)], [('учащенный пульс', 1), ('панические атаки', 1.0), ('повышенное артериальное давление', 1.0), ('чувство страха', 1.0)], [('боль в груди', 1), ('чувство нехватки воздуха', 1.0), ('повышенное артериальное давление', 1.0), ('панические атаки', 1.0), ('боль в груди', 1.0)], [('потеря сознания', 1), ('головокружение', 1.0)]]\n"
     ]
    }
   ],
   "source": [
    "zipped_rows = []\n",
    "for row_tuple in marked_df.itertuples(index=False, name=None):\n",
    "    filtered_row = list(filter(lambda x: not pd.isna(x), row_tuple))\n",
    "    row_iter = iter(filtered_row)\n",
    "    zipped_row = list(zip(row_iter, row_iter))\n",
    "    zipped_rows.append(zipped_row)\n",
    "print(zipped_rows)"
   ],
   "metadata": {
    "collapsed": false,
    "ExecuteTime": {
     "start_time": "2023-04-28T22:23:09.080157Z",
     "end_time": "2023-04-28T22:23:09.262766Z"
    }
   }
  },
  {
   "cell_type": "code",
   "execution_count": 260,
   "outputs": [
    {
     "name": "stdout",
     "output_type": "stream",
     "text": [
      "marked_слабость\n",
      "marked_повышенное_артериальное_давление\n",
      "marked_бледность_кожи\n",
      "marked_повышение_аппетита\n",
      "marked_снижение_аппетита\n",
      "marked_увеличенная_печень\n",
      "marked_геморрой\n",
      "marked_повышенный_холестерин\n",
      "marked_боль_в_груди\n",
      "marked_повышенное_артериальное_давление\n",
      "marked_учащенное_сердцебиение\n",
      "marked_интоксикация\n",
      "1.0\n",
      "marked_боль_в_груди\n",
      "marked_слабый_пульс\n",
      "1.0\n",
      "marked_хроническая_усталость\n",
      "marked_боль_в_груди\n",
      "marked_отеки\n",
      "marked_поверхностный_сон\n",
      "1.0\n",
      "marked_повышенное_артериальное_давление\n",
      "marked_учащенное_сердцебиение\n",
      "marked_панические_атаки\n",
      "marked_ком_в_горле\n",
      "marked_лишний_вес\n",
      "marked_повышенное_артериальное_давление\n",
      "marked_атеросклероз\n",
      "1.0\n",
      "marked_боль_в_груди\n",
      "marked_ком_в_горле\n",
      "marked_диарея\n",
      "1.0\n",
      "marked_аллергические_реакции\n",
      "marked_учащенное_сердцебиение\n",
      "marked_боль_в_груди\n",
      "marked_утомляемость\n",
      "1.0\n",
      "marked_синяки_под_глазами\n",
      "marked_боль_в_груди\n",
      "marked_головокружение\n",
      "1.0\n",
      "marked_одышка\n",
      "1.0\n",
      "marked_похолодание_конечностей\n",
      "marked_поверхностный_сон\n",
      "1.0\n",
      "marked_звон_в_ушах\n",
      "1.0\n",
      "marked_боль_в_сердце\n",
      "1\n",
      "marked_боль_в_груди\n",
      "marked_головокружение\n",
      "1.0\n",
      "marked_звон_в_ушах\n",
      "1.0\n",
      "marked_похолодание_конечностей\n",
      "marked_учащенное_сердцебиение\n",
      "marked_онемение\n",
      "1.0\n",
      "marked_повышенная_потливость\n",
      "marked_гипотериоз\n",
      "marked_грыжи_позвоночника\n",
      "marked_повышенное_артериальное_давление\n",
      "marked_пониженное_артериальное_давление\n",
      "marked_боль_в_сердце\n",
      "1.0\n",
      "marked_боль_в_сердце\n",
      "1\n",
      "marked_учащенное_сердцебиение\n",
      "marked_диарея\n",
      "1.0\n",
      "marked_температура\n",
      "-1.0\n",
      "marked_боль_в_глазах\n",
      "marked_боль_в_горле\n",
      "marked_чувство_нехватки_воздуха\n",
      "marked_боль_в_суставах\n",
      "marked_увеличенные_лимфатические_узлы\n",
      "marked_стоматит\n",
      "marked_расслаивание_ногтей\n",
      "marked_сухость_кожи\n",
      "marked_боль_в_печени\n",
      "marked_повышенное_артериальное_давление\n",
      "marked_учащенное_сердцебиение\n",
      "marked_сухой_кашель\n",
      "1.0\n",
      "marked_повышенное_артериальное_давление\n",
      "marked_головная_боль\n",
      "marked_одышка\n",
      "1.0\n",
      "marked_боль_в_груди\n",
      "marked_зевота\n",
      "marked_учащенный_пульс\n",
      "marked_панические_атаки\n",
      "marked_повышенное_артериальное_давление\n",
      "marked_чувство_страха\n",
      "marked_боль_в_груди\n",
      "marked_чувство_нехватки_воздуха\n",
      "marked_повышенное_артериальное_давление\n",
      "marked_панические_атаки\n",
      "marked_боль_в_груди\n",
      "marked_потеря_сознания\n",
      "marked_головокружение\n",
      "1.0\n"
     ]
    }
   ],
   "source": [
    "column_symptoms_marks = []\n",
    "for zipped_row in zipped_rows:\n",
    "    column_symptoms_marks_row = [SymptomStatus.NO_INFO.value for i in marked_column_existed_symptoms_id] # 3 - No Info status\n",
    "    for (id, mark) in zipped_row:\n",
    "        marked_column_name = symptom_id_to_marked_column_name(id)\n",
    "        print(marked_column_name)\n",
    "        if marked_column_name in marked_column_existed_symptoms_id:\n",
    "            print(mark)\n",
    "            if int(mark) == 1:\n",
    "               column_symptoms_marks_row[marked_column_existed_symptoms_id.index(marked_column_name)] = SymptomStatus.YES.value\n",
    "            elif int(mark) == -1:\n",
    "               column_symptoms_marks_row[marked_column_existed_symptoms_id.index(marked_column_name)] = SymptomStatus.NO.value\n",
    "    column_symptoms_marks.append(column_symptoms_marks_row)"
   ],
   "metadata": {
    "collapsed": false,
    "ExecuteTime": {
     "start_time": "2023-04-28T22:26:24.492907Z",
     "end_time": "2023-04-28T22:26:24.535846Z"
    }
   }
  },
  {
   "cell_type": "markdown",
   "source": [
    "!!! Need to check that we didn't mess marks with ids"
   ],
   "metadata": {
    "collapsed": false
   }
  },
  {
   "cell_type": "code",
   "execution_count": 261,
   "outputs": [
    {
     "name": "stderr",
     "output_type": "stream",
     "text": [
      "/tmp/ipykernel_25450/842095127.py:1: DeprecationWarning: In a future version, `df.iloc[:, i] = newvals` will attempt to set the values inplace instead of always setting a new array. To retain the old behavior, use either `df[df.columns[i]] = newvals` or, if columns are non-unique, `df.isetitem(i, newvals)`\n",
      "  df_showcase.loc[:, marked_column_existed_symptoms_id] = column_symptoms_marks\n"
     ]
    },
    {
     "data": {
      "text/plain": "                             case_id  \\\n0   b13c995673fb409fb66b5f81c180642b   \n1   29ceffdca8bf494f9d21b55b4bc2995c   \n2   2c75d3c2b87c400098f12aa710b3dde9   \n3   d1129e9686df442b9dee566985735dba   \n4   091ae4f1b0d14c82885ccdcdd81af6e3   \n5   d1129e9686df442b9dee566985735dba   \n6   a612ac9ef20747cfa9dc76f5f8cf8283   \n7   e3a29b06768e41059a03a364b1e7f9bd   \n8   85ad093778194cdfb3a1b238c5a0c184   \n9   cbbf4976d04f4647997764e6a5f8658b   \n10  88412102c8c54d9eb44c1ccf132888c7   \n11  263b247d02ef4da5b4940bc537b7017f   \n12  05ace5316cbc454498ef01c8f3e8fcb1   \n13  265a06a099a84c549df7065ce6b31d47   \n14  05ace5316cbc454498ef01c8f3e8fcb1   \n15  9a6211169c244eb3b410d038fa151e3e   \n16  17dbab227e7442e6b529c81c6547da75   \n\n                                                 case  marked_боль_в_горло  \\\n0   добрый день интересный и запутать ситуация с м...                    3   \n1   добрый день подсказать пожалуйста муж стать бе...                    3   \n2   уважаемый доктор по результам описание наш док...                    3   \n3   приветствовать вообщий несколько месяц назад м...                    3   \n4   здравствуйте расшифровать пожалуйста исследова...                    3   \n5   приветствовать вообщий несколько месяц назад м...                    3   \n6   добрый день помочь пожалуйста разобраться запу...                    3   \n7   я год переболеть ковид в январь в февраль резк...                    3   \n8   здравствуйте такой проблема пациент молодой го...                    3   \n9   помочь пожалуйста разобраться я год в детский ...                    3   \n10  приветствовать с прошлое декабрь у мама участи...                    3   \n11  здравствуйте я мужчина год мес назад появиться...                    3   \n12  гипертонический болезнь ст принимать вальсакор...                    3   \n13  здравствуйте врач не мочь найти причина головн...                    3   \n14  гипертонический болезнь ст принимать вальсакор...                    3   \n15  здравствуйте начало проверять сердце с январь ...                    3   \n16  здравствуйте год шесть назад упасть голова вни...                    3   \n\n    marked_температура  marked_вялость  marked_головной_боль  \\\n0                    3               3                     3   \n1                    3               3                     3   \n2                    3               3                     3   \n3                    3               3                     3   \n4                    3               3                     3   \n5                    3               3                     3   \n6                    3               3                     3   \n7                    3               3                     3   \n8                    3               3                     3   \n9                    3               3                     3   \n10                   3               3                     3   \n11                   2               3                     3   \n12                   3               3                     3   \n13                   3               3                     3   \n14                   3               3                     3   \n15                   3               3                     3   \n16                   3               3                     3   \n\n    marked_увеличить_лимфатический_узел  marked_снижение_аппетит  \\\n0                                     3                        3   \n1                                     3                        3   \n2                                     3                        3   \n3                                     3                        3   \n4                                     3                        3   \n5                                     3                        3   \n6                                     3                        3   \n7                                     3                        3   \n8                                     3                        3   \n9                                     3                        3   \n10                                    3                        3   \n11                                    3                        3   \n12                                    3                        3   \n13                                    3                        3   \n14                                    3                        3   \n15                                    3                        3   \n16                                    3                        3   \n\n    marked_повышенный_слюнотечение  marked_боль_в_ушах  ...  \\\n0                                3                   3  ...   \n1                                3                   3  ...   \n2                                3                   3  ...   \n3                                3                   3  ...   \n4                                3                   3  ...   \n5                                3                   3  ...   \n6                                3                   3  ...   \n7                                3                   3  ...   \n8                                3                   3  ...   \n9                                3                   3  ...   \n10                               3                   3  ...   \n11                               3                   3  ...   \n12                               3                   3  ...   \n13                               3                   3  ...   \n14                               3                   3  ...   \n15                               3                   3  ...   \n16                               3                   3  ...   \n\n    marked_боль_в_мышца  marked_шум_в_сердце  \\\n0                     3                    3   \n1                     3                    3   \n2                     3                    3   \n3                     3                    3   \n4                     3                    3   \n5                     3                    3   \n6                     3                    3   \n7                     3                    3   \n8                     3                    3   \n9                     3                    3   \n10                    3                    3   \n11                    3                    3   \n12                    3                    3   \n13                    3                    3   \n14                    3                    3   \n15                    3                    3   \n16                    3                    3   \n\n    marked_синдром_барабанный_палочка  \\\n0                                   3   \n1                                   3   \n2                                   3   \n3                                   3   \n4                                   3   \n5                                   3   \n6                                   3   \n7                                   3   \n8                                   3   \n9                                   3   \n10                                  3   \n11                                  3   \n12                                  3   \n13                                  3   \n14                                  3   \n15                                  3   \n16                                  3   \n\n    marked_зуд_в_область_анальный_отверстие  marked_скрежет_зуб  \\\n0                                         3                   3   \n1                                         3                   3   \n2                                         3                   3   \n3                                         3                   3   \n4                                         3                   3   \n5                                         3                   3   \n6                                         3                   3   \n7                                         3                   3   \n8                                         3                   3   \n9                                         3                   3   \n10                                        3                   3   \n11                                        3                   3   \n12                                        3                   3   \n13                                        3                   3   \n14                                        3                   3   \n15                                        3                   3   \n16                                        3                   3   \n\n    marked_боль_в_правый_подреберье  marked_аллергический_реакция  \\\n0                                 3                             3   \n1                                 3                             3   \n2                                 3                             3   \n3                                 3                             3   \n4                                 3                             3   \n5                                 3                             3   \n6                                 3                             3   \n7                                 3                             3   \n8                                 3                             3   \n9                                 3                             3   \n10                                3                             3   \n11                                3                             3   \n12                                3                             3   \n13                                3                             3   \n14                                3                             3   \n15                                3                             3   \n16                                3                             3   \n\n    marked_желтуха  marked_отдышка  marked_дискомфорт  \n0                3               3                  3  \n1                3               3                  3  \n2                3               3                  3  \n3                3               3                  3  \n4                3               3                  3  \n5                3               3                  3  \n6                3               3                  3  \n7                3               3                  3  \n8                3               3                  3  \n9                3               3                  3  \n10               3               3                  3  \n11               3               3                  3  \n12               3               3                  3  \n13               3               3                  3  \n14               3               3                  3  \n15               3               3                  3  \n16               3               3                  3  \n\n[17 rows x 373 columns]",
      "text/html": "<div>\n<style scoped>\n    .dataframe tbody tr th:only-of-type {\n        vertical-align: middle;\n    }\n\n    .dataframe tbody tr th {\n        vertical-align: top;\n    }\n\n    .dataframe thead th {\n        text-align: right;\n    }\n</style>\n<table border=\"1\" class=\"dataframe\">\n  <thead>\n    <tr style=\"text-align: right;\">\n      <th></th>\n      <th>case_id</th>\n      <th>case</th>\n      <th>marked_боль_в_горло</th>\n      <th>marked_температура</th>\n      <th>marked_вялость</th>\n      <th>marked_головной_боль</th>\n      <th>marked_увеличить_лимфатический_узел</th>\n      <th>marked_снижение_аппетит</th>\n      <th>marked_повышенный_слюнотечение</th>\n      <th>marked_боль_в_ушах</th>\n      <th>...</th>\n      <th>marked_боль_в_мышца</th>\n      <th>marked_шум_в_сердце</th>\n      <th>marked_синдром_барабанный_палочка</th>\n      <th>marked_зуд_в_область_анальный_отверстие</th>\n      <th>marked_скрежет_зуб</th>\n      <th>marked_боль_в_правый_подреберье</th>\n      <th>marked_аллергический_реакция</th>\n      <th>marked_желтуха</th>\n      <th>marked_отдышка</th>\n      <th>marked_дискомфорт</th>\n    </tr>\n  </thead>\n  <tbody>\n    <tr>\n      <th>0</th>\n      <td>b13c995673fb409fb66b5f81c180642b</td>\n      <td>добрый день интересный и запутать ситуация с м...</td>\n      <td>3</td>\n      <td>3</td>\n      <td>3</td>\n      <td>3</td>\n      <td>3</td>\n      <td>3</td>\n      <td>3</td>\n      <td>3</td>\n      <td>...</td>\n      <td>3</td>\n      <td>3</td>\n      <td>3</td>\n      <td>3</td>\n      <td>3</td>\n      <td>3</td>\n      <td>3</td>\n      <td>3</td>\n      <td>3</td>\n      <td>3</td>\n    </tr>\n    <tr>\n      <th>1</th>\n      <td>29ceffdca8bf494f9d21b55b4bc2995c</td>\n      <td>добрый день подсказать пожалуйста муж стать бе...</td>\n      <td>3</td>\n      <td>3</td>\n      <td>3</td>\n      <td>3</td>\n      <td>3</td>\n      <td>3</td>\n      <td>3</td>\n      <td>3</td>\n      <td>...</td>\n      <td>3</td>\n      <td>3</td>\n      <td>3</td>\n      <td>3</td>\n      <td>3</td>\n      <td>3</td>\n      <td>3</td>\n      <td>3</td>\n      <td>3</td>\n      <td>3</td>\n    </tr>\n    <tr>\n      <th>2</th>\n      <td>2c75d3c2b87c400098f12aa710b3dde9</td>\n      <td>уважаемый доктор по результам описание наш док...</td>\n      <td>3</td>\n      <td>3</td>\n      <td>3</td>\n      <td>3</td>\n      <td>3</td>\n      <td>3</td>\n      <td>3</td>\n      <td>3</td>\n      <td>...</td>\n      <td>3</td>\n      <td>3</td>\n      <td>3</td>\n      <td>3</td>\n      <td>3</td>\n      <td>3</td>\n      <td>3</td>\n      <td>3</td>\n      <td>3</td>\n      <td>3</td>\n    </tr>\n    <tr>\n      <th>3</th>\n      <td>d1129e9686df442b9dee566985735dba</td>\n      <td>приветствовать вообщий несколько месяц назад м...</td>\n      <td>3</td>\n      <td>3</td>\n      <td>3</td>\n      <td>3</td>\n      <td>3</td>\n      <td>3</td>\n      <td>3</td>\n      <td>3</td>\n      <td>...</td>\n      <td>3</td>\n      <td>3</td>\n      <td>3</td>\n      <td>3</td>\n      <td>3</td>\n      <td>3</td>\n      <td>3</td>\n      <td>3</td>\n      <td>3</td>\n      <td>3</td>\n    </tr>\n    <tr>\n      <th>4</th>\n      <td>091ae4f1b0d14c82885ccdcdd81af6e3</td>\n      <td>здравствуйте расшифровать пожалуйста исследова...</td>\n      <td>3</td>\n      <td>3</td>\n      <td>3</td>\n      <td>3</td>\n      <td>3</td>\n      <td>3</td>\n      <td>3</td>\n      <td>3</td>\n      <td>...</td>\n      <td>3</td>\n      <td>3</td>\n      <td>3</td>\n      <td>3</td>\n      <td>3</td>\n      <td>3</td>\n      <td>3</td>\n      <td>3</td>\n      <td>3</td>\n      <td>3</td>\n    </tr>\n    <tr>\n      <th>5</th>\n      <td>d1129e9686df442b9dee566985735dba</td>\n      <td>приветствовать вообщий несколько месяц назад м...</td>\n      <td>3</td>\n      <td>3</td>\n      <td>3</td>\n      <td>3</td>\n      <td>3</td>\n      <td>3</td>\n      <td>3</td>\n      <td>3</td>\n      <td>...</td>\n      <td>3</td>\n      <td>3</td>\n      <td>3</td>\n      <td>3</td>\n      <td>3</td>\n      <td>3</td>\n      <td>3</td>\n      <td>3</td>\n      <td>3</td>\n      <td>3</td>\n    </tr>\n    <tr>\n      <th>6</th>\n      <td>a612ac9ef20747cfa9dc76f5f8cf8283</td>\n      <td>добрый день помочь пожалуйста разобраться запу...</td>\n      <td>3</td>\n      <td>3</td>\n      <td>3</td>\n      <td>3</td>\n      <td>3</td>\n      <td>3</td>\n      <td>3</td>\n      <td>3</td>\n      <td>...</td>\n      <td>3</td>\n      <td>3</td>\n      <td>3</td>\n      <td>3</td>\n      <td>3</td>\n      <td>3</td>\n      <td>3</td>\n      <td>3</td>\n      <td>3</td>\n      <td>3</td>\n    </tr>\n    <tr>\n      <th>7</th>\n      <td>e3a29b06768e41059a03a364b1e7f9bd</td>\n      <td>я год переболеть ковид в январь в февраль резк...</td>\n      <td>3</td>\n      <td>3</td>\n      <td>3</td>\n      <td>3</td>\n      <td>3</td>\n      <td>3</td>\n      <td>3</td>\n      <td>3</td>\n      <td>...</td>\n      <td>3</td>\n      <td>3</td>\n      <td>3</td>\n      <td>3</td>\n      <td>3</td>\n      <td>3</td>\n      <td>3</td>\n      <td>3</td>\n      <td>3</td>\n      <td>3</td>\n    </tr>\n    <tr>\n      <th>8</th>\n      <td>85ad093778194cdfb3a1b238c5a0c184</td>\n      <td>здравствуйте такой проблема пациент молодой го...</td>\n      <td>3</td>\n      <td>3</td>\n      <td>3</td>\n      <td>3</td>\n      <td>3</td>\n      <td>3</td>\n      <td>3</td>\n      <td>3</td>\n      <td>...</td>\n      <td>3</td>\n      <td>3</td>\n      <td>3</td>\n      <td>3</td>\n      <td>3</td>\n      <td>3</td>\n      <td>3</td>\n      <td>3</td>\n      <td>3</td>\n      <td>3</td>\n    </tr>\n    <tr>\n      <th>9</th>\n      <td>cbbf4976d04f4647997764e6a5f8658b</td>\n      <td>помочь пожалуйста разобраться я год в детский ...</td>\n      <td>3</td>\n      <td>3</td>\n      <td>3</td>\n      <td>3</td>\n      <td>3</td>\n      <td>3</td>\n      <td>3</td>\n      <td>3</td>\n      <td>...</td>\n      <td>3</td>\n      <td>3</td>\n      <td>3</td>\n      <td>3</td>\n      <td>3</td>\n      <td>3</td>\n      <td>3</td>\n      <td>3</td>\n      <td>3</td>\n      <td>3</td>\n    </tr>\n    <tr>\n      <th>10</th>\n      <td>88412102c8c54d9eb44c1ccf132888c7</td>\n      <td>приветствовать с прошлое декабрь у мама участи...</td>\n      <td>3</td>\n      <td>3</td>\n      <td>3</td>\n      <td>3</td>\n      <td>3</td>\n      <td>3</td>\n      <td>3</td>\n      <td>3</td>\n      <td>...</td>\n      <td>3</td>\n      <td>3</td>\n      <td>3</td>\n      <td>3</td>\n      <td>3</td>\n      <td>3</td>\n      <td>3</td>\n      <td>3</td>\n      <td>3</td>\n      <td>3</td>\n    </tr>\n    <tr>\n      <th>11</th>\n      <td>263b247d02ef4da5b4940bc537b7017f</td>\n      <td>здравствуйте я мужчина год мес назад появиться...</td>\n      <td>3</td>\n      <td>2</td>\n      <td>3</td>\n      <td>3</td>\n      <td>3</td>\n      <td>3</td>\n      <td>3</td>\n      <td>3</td>\n      <td>...</td>\n      <td>3</td>\n      <td>3</td>\n      <td>3</td>\n      <td>3</td>\n      <td>3</td>\n      <td>3</td>\n      <td>3</td>\n      <td>3</td>\n      <td>3</td>\n      <td>3</td>\n    </tr>\n    <tr>\n      <th>12</th>\n      <td>05ace5316cbc454498ef01c8f3e8fcb1</td>\n      <td>гипертонический болезнь ст принимать вальсакор...</td>\n      <td>3</td>\n      <td>3</td>\n      <td>3</td>\n      <td>3</td>\n      <td>3</td>\n      <td>3</td>\n      <td>3</td>\n      <td>3</td>\n      <td>...</td>\n      <td>3</td>\n      <td>3</td>\n      <td>3</td>\n      <td>3</td>\n      <td>3</td>\n      <td>3</td>\n      <td>3</td>\n      <td>3</td>\n      <td>3</td>\n      <td>3</td>\n    </tr>\n    <tr>\n      <th>13</th>\n      <td>265a06a099a84c549df7065ce6b31d47</td>\n      <td>здравствуйте врач не мочь найти причина головн...</td>\n      <td>3</td>\n      <td>3</td>\n      <td>3</td>\n      <td>3</td>\n      <td>3</td>\n      <td>3</td>\n      <td>3</td>\n      <td>3</td>\n      <td>...</td>\n      <td>3</td>\n      <td>3</td>\n      <td>3</td>\n      <td>3</td>\n      <td>3</td>\n      <td>3</td>\n      <td>3</td>\n      <td>3</td>\n      <td>3</td>\n      <td>3</td>\n    </tr>\n    <tr>\n      <th>14</th>\n      <td>05ace5316cbc454498ef01c8f3e8fcb1</td>\n      <td>гипертонический болезнь ст принимать вальсакор...</td>\n      <td>3</td>\n      <td>3</td>\n      <td>3</td>\n      <td>3</td>\n      <td>3</td>\n      <td>3</td>\n      <td>3</td>\n      <td>3</td>\n      <td>...</td>\n      <td>3</td>\n      <td>3</td>\n      <td>3</td>\n      <td>3</td>\n      <td>3</td>\n      <td>3</td>\n      <td>3</td>\n      <td>3</td>\n      <td>3</td>\n      <td>3</td>\n    </tr>\n    <tr>\n      <th>15</th>\n      <td>9a6211169c244eb3b410d038fa151e3e</td>\n      <td>здравствуйте начало проверять сердце с январь ...</td>\n      <td>3</td>\n      <td>3</td>\n      <td>3</td>\n      <td>3</td>\n      <td>3</td>\n      <td>3</td>\n      <td>3</td>\n      <td>3</td>\n      <td>...</td>\n      <td>3</td>\n      <td>3</td>\n      <td>3</td>\n      <td>3</td>\n      <td>3</td>\n      <td>3</td>\n      <td>3</td>\n      <td>3</td>\n      <td>3</td>\n      <td>3</td>\n    </tr>\n    <tr>\n      <th>16</th>\n      <td>17dbab227e7442e6b529c81c6547da75</td>\n      <td>здравствуйте год шесть назад упасть голова вни...</td>\n      <td>3</td>\n      <td>3</td>\n      <td>3</td>\n      <td>3</td>\n      <td>3</td>\n      <td>3</td>\n      <td>3</td>\n      <td>3</td>\n      <td>...</td>\n      <td>3</td>\n      <td>3</td>\n      <td>3</td>\n      <td>3</td>\n      <td>3</td>\n      <td>3</td>\n      <td>3</td>\n      <td>3</td>\n      <td>3</td>\n      <td>3</td>\n    </tr>\n  </tbody>\n</table>\n<p>17 rows × 373 columns</p>\n</div>"
     },
     "execution_count": 261,
     "metadata": {},
     "output_type": "execute_result"
    }
   ],
   "source": [
    "df_showcase.loc[:, marked_column_existed_symptoms_id] = column_symptoms_marks\n",
    "df_showcase.head(100)"
   ],
   "metadata": {
    "collapsed": false,
    "ExecuteTime": {
     "start_time": "2023-04-28T22:26:26.453221Z",
     "end_time": "2023-04-28T22:26:26.459270Z"
    }
   }
  },
  {
   "cell_type": "code",
   "execution_count": 262,
   "outputs": [
    {
     "data": {
      "text/plain": "                            case_id  \\\n0  b13c995673fb409fb66b5f81c180642b   \n1  29ceffdca8bf494f9d21b55b4bc2995c   \n2  2c75d3c2b87c400098f12aa710b3dde9   \n3  d1129e9686df442b9dee566985735dba   \n4  091ae4f1b0d14c82885ccdcdd81af6e3   \n\n                                                case  marked_боль_в_горло  \\\n0  добрый день интересный и запутать ситуация с м...                    3   \n1  добрый день подсказать пожалуйста муж стать бе...                    3   \n2  уважаемый доктор по результам описание наш док...                    3   \n3  приветствовать вообщий несколько месяц назад м...                    3   \n4  здравствуйте расшифровать пожалуйста исследова...                    3   \n\n   marked_температура  marked_вялость  marked_головной_боль  \\\n0                   3               3                     3   \n1                   3               3                     3   \n2                   3               3                     3   \n3                   3               3                     3   \n4                   3               3                     3   \n\n   marked_увеличить_лимфатический_узел  marked_снижение_аппетит  \\\n0                                    3                        3   \n1                                    3                        3   \n2                                    3                        3   \n3                                    3                        3   \n4                                    3                        3   \n\n   marked_повышенный_слюнотечение  marked_боль_в_ушах  ...  \\\n0                               3                   3  ...   \n1                               3                   3  ...   \n2                               3                   3  ...   \n3                               3                   3  ...   \n4                               3                   3  ...   \n\n   marked_боль_в_мышца  marked_шум_в_сердце  \\\n0                    3                    3   \n1                    3                    3   \n2                    3                    3   \n3                    3                    3   \n4                    3                    3   \n\n   marked_синдром_барабанный_палочка  marked_зуд_в_область_анальный_отверстие  \\\n0                                  3                                        3   \n1                                  3                                        3   \n2                                  3                                        3   \n3                                  3                                        3   \n4                                  3                                        3   \n\n   marked_скрежет_зуб  marked_боль_в_правый_подреберье  \\\n0                   3                                3   \n1                   3                                3   \n2                   3                                3   \n3                   3                                3   \n4                   3                                3   \n\n   marked_аллергический_реакция  marked_желтуха  marked_отдышка  \\\n0                             3               3               3   \n1                             3               3               3   \n2                             3               3               3   \n3                             3               3               3   \n4                             3               3               3   \n\n   marked_дискомфорт  \n0                  3  \n1                  3  \n2                  3  \n3                  3  \n4                  3  \n\n[5 rows x 373 columns]",
      "text/html": "<div>\n<style scoped>\n    .dataframe tbody tr th:only-of-type {\n        vertical-align: middle;\n    }\n\n    .dataframe tbody tr th {\n        vertical-align: top;\n    }\n\n    .dataframe thead th {\n        text-align: right;\n    }\n</style>\n<table border=\"1\" class=\"dataframe\">\n  <thead>\n    <tr style=\"text-align: right;\">\n      <th></th>\n      <th>case_id</th>\n      <th>case</th>\n      <th>marked_боль_в_горло</th>\n      <th>marked_температура</th>\n      <th>marked_вялость</th>\n      <th>marked_головной_боль</th>\n      <th>marked_увеличить_лимфатический_узел</th>\n      <th>marked_снижение_аппетит</th>\n      <th>marked_повышенный_слюнотечение</th>\n      <th>marked_боль_в_ушах</th>\n      <th>...</th>\n      <th>marked_боль_в_мышца</th>\n      <th>marked_шум_в_сердце</th>\n      <th>marked_синдром_барабанный_палочка</th>\n      <th>marked_зуд_в_область_анальный_отверстие</th>\n      <th>marked_скрежет_зуб</th>\n      <th>marked_боль_в_правый_подреберье</th>\n      <th>marked_аллергический_реакция</th>\n      <th>marked_желтуха</th>\n      <th>marked_отдышка</th>\n      <th>marked_дискомфорт</th>\n    </tr>\n  </thead>\n  <tbody>\n    <tr>\n      <th>0</th>\n      <td>b13c995673fb409fb66b5f81c180642b</td>\n      <td>добрый день интересный и запутать ситуация с м...</td>\n      <td>3</td>\n      <td>3</td>\n      <td>3</td>\n      <td>3</td>\n      <td>3</td>\n      <td>3</td>\n      <td>3</td>\n      <td>3</td>\n      <td>...</td>\n      <td>3</td>\n      <td>3</td>\n      <td>3</td>\n      <td>3</td>\n      <td>3</td>\n      <td>3</td>\n      <td>3</td>\n      <td>3</td>\n      <td>3</td>\n      <td>3</td>\n    </tr>\n    <tr>\n      <th>1</th>\n      <td>29ceffdca8bf494f9d21b55b4bc2995c</td>\n      <td>добрый день подсказать пожалуйста муж стать бе...</td>\n      <td>3</td>\n      <td>3</td>\n      <td>3</td>\n      <td>3</td>\n      <td>3</td>\n      <td>3</td>\n      <td>3</td>\n      <td>3</td>\n      <td>...</td>\n      <td>3</td>\n      <td>3</td>\n      <td>3</td>\n      <td>3</td>\n      <td>3</td>\n      <td>3</td>\n      <td>3</td>\n      <td>3</td>\n      <td>3</td>\n      <td>3</td>\n    </tr>\n    <tr>\n      <th>2</th>\n      <td>2c75d3c2b87c400098f12aa710b3dde9</td>\n      <td>уважаемый доктор по результам описание наш док...</td>\n      <td>3</td>\n      <td>3</td>\n      <td>3</td>\n      <td>3</td>\n      <td>3</td>\n      <td>3</td>\n      <td>3</td>\n      <td>3</td>\n      <td>...</td>\n      <td>3</td>\n      <td>3</td>\n      <td>3</td>\n      <td>3</td>\n      <td>3</td>\n      <td>3</td>\n      <td>3</td>\n      <td>3</td>\n      <td>3</td>\n      <td>3</td>\n    </tr>\n    <tr>\n      <th>3</th>\n      <td>d1129e9686df442b9dee566985735dba</td>\n      <td>приветствовать вообщий несколько месяц назад м...</td>\n      <td>3</td>\n      <td>3</td>\n      <td>3</td>\n      <td>3</td>\n      <td>3</td>\n      <td>3</td>\n      <td>3</td>\n      <td>3</td>\n      <td>...</td>\n      <td>3</td>\n      <td>3</td>\n      <td>3</td>\n      <td>3</td>\n      <td>3</td>\n      <td>3</td>\n      <td>3</td>\n      <td>3</td>\n      <td>3</td>\n      <td>3</td>\n    </tr>\n    <tr>\n      <th>4</th>\n      <td>091ae4f1b0d14c82885ccdcdd81af6e3</td>\n      <td>здравствуйте расшифровать пожалуйста исследова...</td>\n      <td>3</td>\n      <td>3</td>\n      <td>3</td>\n      <td>3</td>\n      <td>3</td>\n      <td>3</td>\n      <td>3</td>\n      <td>3</td>\n      <td>...</td>\n      <td>3</td>\n      <td>3</td>\n      <td>3</td>\n      <td>3</td>\n      <td>3</td>\n      <td>3</td>\n      <td>3</td>\n      <td>3</td>\n      <td>3</td>\n      <td>3</td>\n    </tr>\n  </tbody>\n</table>\n<p>5 rows × 373 columns</p>\n</div>"
     },
     "execution_count": 262,
     "metadata": {},
     "output_type": "execute_result"
    }
   ],
   "source": [
    "df_showcase.head()"
   ],
   "metadata": {
    "collapsed": false,
    "ExecuteTime": {
     "start_time": "2023-04-28T22:26:28.631787Z",
     "end_time": "2023-04-28T22:26:28.678647Z"
    }
   }
  },
  {
   "cell_type": "code",
   "execution_count": 263,
   "outputs": [
    {
     "data": {
      "text/plain": "case_id                            b13c995673fb409fb66b5f81c180642b29ceffdca8bf49...\ncase                               добрый день интересный и запутать ситуация с м...\nmarked_боль_в_горло                                                               51\nmarked_температура                                                                50\nmarked_вялость                                                                    51\n                                                         ...                        \nmarked_боль_в_правый_подреберье                                                   51\nmarked_аллергический_реакция                                                      51\nmarked_желтуха                                                                    51\nmarked_отдышка                                                                    51\nmarked_дискомфорт                                                                 51\nLength: 373, dtype: object"
     },
     "execution_count": 263,
     "metadata": {},
     "output_type": "execute_result"
    }
   ],
   "source": [
    "df_showcase.sum()"
   ],
   "metadata": {
    "collapsed": false,
    "ExecuteTime": {
     "start_time": "2023-04-28T22:26:31.180027Z",
     "end_time": "2023-04-28T22:26:31.241191Z"
    }
   }
  },
  {
   "cell_type": "markdown",
   "source": [
    "# Add marks from symptom extractor"
   ],
   "metadata": {
    "collapsed": false
   }
  },
  {
   "cell_type": "code",
   "execution_count": 264,
   "outputs": [],
   "source": [
    "def symptom_id_to_extractor_column_name(id):\n",
    "    return \"extractor_\" + id.replace(' ', '_')"
   ],
   "metadata": {
    "collapsed": false,
    "ExecuteTime": {
     "start_time": "2023-04-28T22:26:38.904527Z",
     "end_time": "2023-04-28T22:26:38.942992Z"
    }
   }
  },
  {
   "cell_type": "code",
   "execution_count": 265,
   "outputs": [],
   "source": [
    "extractor = SymptomExtractor()"
   ],
   "metadata": {
    "collapsed": false,
    "ExecuteTime": {
     "start_time": "2023-04-28T22:26:39.489527Z",
     "end_time": "2023-04-28T22:26:41.435815Z"
    }
   }
  },
  {
   "cell_type": "code",
   "execution_count": 266,
   "outputs": [],
   "source": [
    "transformed_symptoms = extractor.transform(df_showcase.case)"
   ],
   "metadata": {
    "collapsed": false,
    "ExecuteTime": {
     "start_time": "2023-04-28T22:26:41.452855Z",
     "end_time": "2023-04-28T22:26:42.690356Z"
    }
   }
  },
  {
   "cell_type": "code",
   "execution_count": 267,
   "outputs": [
    {
     "data": {
      "text/plain": "array([[3, 3, 3, ..., 3, 3, 3],\n       [3, 3, 3, ..., 3, 3, 3],\n       [3, 3, 3, ..., 3, 3, 3],\n       ...,\n       [3, 3, 3, ..., 3, 3, 3],\n       [3, 3, 3, ..., 3, 3, 3],\n       [3, 3, 3, ..., 3, 1, 3]])"
     },
     "execution_count": 267,
     "metadata": {},
     "output_type": "execute_result"
    }
   ],
   "source": [
    "transformed_symptoms"
   ],
   "metadata": {
    "collapsed": false,
    "ExecuteTime": {
     "start_time": "2023-04-28T22:26:42.690264Z",
     "end_time": "2023-04-28T22:26:42.690664Z"
    }
   }
  },
  {
   "cell_type": "code",
   "execution_count": 268,
   "outputs": [
    {
     "data": {
      "text/plain": "371"
     },
     "execution_count": 268,
     "metadata": {},
     "output_type": "execute_result"
    }
   ],
   "source": [
    "len(transformed_symptoms[0])"
   ],
   "metadata": {
    "collapsed": false,
    "ExecuteTime": {
     "start_time": "2023-04-28T22:26:42.690414Z",
     "end_time": "2023-04-28T22:26:42.690890Z"
    }
   }
  },
  {
   "cell_type": "code",
   "execution_count": 269,
   "outputs": [],
   "source": [
    "# Create columns for extractor symptom ids\n",
    "extractor_column_existed_symptoms_id = []\n",
    "for id in existed_symptoms_id:\n",
    "    column_id = symptom_id_to_extractor_column_name(id)\n",
    "    extractor_column_existed_symptoms_id.append(column_id)"
   ],
   "metadata": {
    "collapsed": false,
    "ExecuteTime": {
     "start_time": "2023-04-28T22:26:43.109915Z",
     "end_time": "2023-04-28T22:26:43.125748Z"
    }
   }
  },
  {
   "cell_type": "code",
   "execution_count": 270,
   "outputs": [
    {
     "data": {
      "text/plain": "['extractor_боль_в_горло',\n 'extractor_температура',\n 'extractor_вялость',\n 'extractor_головной_боль',\n 'extractor_увеличить_лимфатический_узел',\n 'extractor_снижение_аппетит',\n 'extractor_повышенный_слюнотечение',\n 'extractor_боль_в_ушах',\n 'extractor_увеличить_миндалина',\n 'extractor_белый_налёт_на_миндалинах',\n 'extractor_боль_в_грудь',\n 'extractor_нарушение_прохождение_пища',\n 'extractor_дискомфорт_в_время_еда',\n 'extractor_кашель',\n 'extractor_осиплость_голос',\n 'extractor_боль_в_спина',\n 'extractor_боль_в_нога',\n 'extractor_боль_вокруг_пупок',\n 'extractor_тахикардия',\n 'extractor_головокружение',\n 'extractor_одышка',\n 'extractor_учащённый_дыхание',\n 'extractor_обморок',\n 'extractor_потеря_сознание',\n 'extractor_инфаркт',\n 'extractor_рассеянность_внимание',\n 'extractor_снижение_работоспособность',\n 'extractor_нарушение_память',\n 'extractor_утомляемость',\n 'extractor_нарушение_сон',\n 'extractor_снижение_интеллект',\n 'extractor_наружение_мозговой_кровообращение',\n 'extractor_инсульт',\n 'extractor_тромбоз',\n 'extractor_хромота',\n 'extractor_похолодание_конечность',\n 'extractor_слабый_пульс',\n 'extractor_синюшность',\n 'extractor_поверхностный_сон',\n 'extractor_малый_длительность_сон',\n 'extractor_сонливость',\n 'extractor_эмоциональный_расстройство',\n 'extractor_зуд_в_глаз',\n 'extractor_ощущение_тяжесть_веко',\n 'extractor_переутомление_глаз',\n 'extractor_светобоязнь',\n 'extractor_отёчность_веко',\n 'extractor_чешуйка_на_кожа_веко',\n 'extractor_выпадение_ресница',\n 'extractor_неправильный_рост_ресница',\n 'extractor_боль_в_печень',\n 'extractor_боль_в_сердце',\n 'extractor_отёк_нога',\n 'extractor_депрессия',\n 'extractor_беспокойство',\n 'extractor_дезориентация',\n 'extractor_апатия',\n 'extractor_галлюцинация',\n 'extractor_бредовый_расстройство',\n 'extractor_прозопагнозия',\n 'extractor_нарушение_координация_движение',\n 'extractor_шаркать_походка',\n 'extractor_судорога',\n 'extractor_повысить_тонус_мышца',\n 'extractor_дрожь',\n 'extractor_потеря_равновесие',\n 'extractor_нарушение_осанка',\n 'extractor_запор',\n 'extractor_бессоница',\n 'extractor_нарушение_обоняние',\n 'extractor_пониженный_артериальный_давление',\n 'extractor_дирузия',\n 'extractor_снижение_либидо',\n 'extractor_деменция',\n 'extractor_нарушение_слух',\n 'extractor_шум_в_ушах',\n 'extractor_нарушение_зрение',\n 'extractor_нарушение_кооржинации_движение',\n 'extractor_раздражительность',\n 'extractor_двоение_зрение',\n 'extractor_тяжёлый_голова',\n 'extractor_тошнота',\n 'extractor_рвота',\n 'extractor_учащённый_сердцебиение',\n 'extractor_повысить_потливость',\n 'extractor_расширить_вена_под_глаз',\n 'extractor_недоношенность',\n 'extractor_увеличить_печень',\n 'extractor_увеличить_селезёнка',\n 'extractor_хориоретинит',\n 'extractor_пневмония',\n 'extractor_задержка_психомоторный_развитие',\n 'extractor_тугоухость',\n 'extractor_наружение_зрение',\n 'extractor_аномании_зуб',\n 'extractor_слизисто_-_водянистый_выделение_из_нос',\n 'extractor_желто_-_зелёный_выделение_из_нос',\n 'extractor_боль_в_область_пазух',\n 'extractor_влажный_кашель',\n 'extractor_зубной_боль',\n 'extractor_боль_в_глаз',\n 'extractor_покраснение_вокруг_глаз',\n 'extractor_затуманенность_зрение',\n 'extractor_гало',\n 'extractor_боль_в_надбровный_область',\n 'extractor_повышенный_давление_в_глаз',\n 'extractor_боль_в_височный_область',\n 'extractor_иллюзия_движение',\n 'extractor_звон_в_ушах',\n 'extractor_иллюзия_верчение',\n 'extractor_поражение_бронх',\n 'extractor_поражение_лёгкое',\n 'extractor_поражение_почка',\n 'extractor_сухость_слизистый_нос',\n 'extractor_заложенность_нос',\n 'extractor_носовой_кровотечение',\n 'extractor_сухость_в_горло',\n 'extractor_сухой_кашель',\n 'extractor_гнойный_отит',\n 'extractor_лихорадка',\n 'extractor_недомогание',\n 'extractor_боль_в_коленный_сустав',\n 'extractor_артрит',\n 'extractor_шишка',\n 'extractor_боль_в_голеностопный_сустав',\n 'extractor_кровотечение',\n 'extractor_диарея',\n 'extractor_боль_в_живот',\n 'extractor_непереносимость_холод',\n 'extractor_зябкость',\n 'extractor_онемение',\n 'extractor_ощущение_покалывание',\n 'extractor_перемежаться_хромота',\n 'extractor_трофический_нарушение_ткань_нога',\n 'extractor_язва',\n 'extractor_сухость_кожа',\n 'extractor_изчезновение_волос_с_нога',\n 'extractor_изчезновение_подкожный_жир_в_нога',\n 'extractor_утолщение_ногтей',\n 'extractor_некроз',\n 'extractor_боль_в_наружный_ухо',\n 'extractor_снижение_слух',\n 'extractor_выделение_жидкость_из_ухо',\n 'extractor_покраснение_и_опухание_наружный_ухо',\n 'extractor_персеверация',\n 'extractor_возникновение_гримаса',\n 'extractor_нервный_тик',\n 'extractor_сильный_волнение',\n 'extractor_напряжённость',\n 'extractor_протягивание_определённый_звук',\n 'extractor_паралич',\n 'extractor_нарушение_речь',\n 'extractor_ишемический_приступ',\n 'extractor_нарушение_походка',\n 'extractor_боль_в_область_сердце',\n 'extractor_бледность_кожа',\n 'extractor_затрудненное_дыхание',\n 'extractor_расплывчатость_изображение',\n 'extractor_близорукость',\n 'extractor_вспышка_в_глаз',\n 'extractor_обильный_слезотечение',\n 'extractor_покраснение_глаз',\n 'extractor_гнойный_истечение',\n 'extractor_отёк_коньюнктивы',\n 'extractor_зуд',\n 'extractor_отёк_век',\n 'extractor_смещение_глазной_яблоко_от_нормальный_ось',\n 'extractor_диплопия',\n 'extractor_расфокусировка_зрение',\n 'extractor_холодный_пот',\n 'extractor_спутанность_сознание',\n 'extractor_вздутие_живот',\n 'extractor_кровь_при_дефекация',\n 'extractor_кровь_в_моча',\n 'extractor_вагинальный_кровотечение',\n 'extractor_кровь_в_рвотный_масса',\n 'extractor_боль_при_глотание',\n 'extractor_затруденное_дыхание',\n 'extractor_першение_в_горло',\n 'extractor_снижение_вес',\n 'extractor_боль_в_молочный_железах',\n 'extractor_новообразование_молочный_железа',\n 'extractor_новообразование_на_кожа',\n 'extractor_ассиметричная_форма_новообразование',\n 'extractor_боль_в_кость',\n 'extractor_снижение_чувствительность_кожа',\n 'extractor_вегетативный_расстройство',\n 'extractor_синюшность_кожа',\n 'extractor_отёк',\n 'extractor_боль_за_ухом',\n 'extractor_нарушение_подвижность_сустав',\n 'extractor_боль_в_шея',\n 'extractor_напряжённость_мыщц_шея',\n 'extractor_ограниченный_движение_шея',\n 'extractor_воспаление_ткань_плечевой_сустав',\n 'extractor_боль_в_плечо',\n 'extractor_нарушение_кровообращение',\n 'extractor_боль_в_затылке',\n 'extractor_боль_между_лопаток',\n 'extractor_боль_в_поясница',\n 'extractor_парез',\n 'extractor_изгибание_поясница',\n 'extractor_боль_в_подзатылочной_область',\n 'extractor_тенденция_к_образование_синяк',\n 'extractor_красный_пятно_на_кожа',\n 'extractor_боль_в_сустав',\n 'extractor_увеличить_голеностопный_сустав',\n 'extractor_подкожный_узелки',\n 'extractor_сыпь',\n 'extractor_мышечный_судорога',\n 'extractor_озноб',\n 'extractor_повысить_слюноотделение',\n 'extractor_оцепенение',\n 'extractor_двоение_в_глаз',\n 'extractor_деформация_кость',\n 'extractor_боль_при_движение',\n 'extractor_ограниченность_движение',\n 'extractor_боль_при_наклон_вперёд',\n 'extractor_напряжённость_мыщц_спина',\n 'extractor_обморочный_состояние',\n 'extractor_сердечный_недостаточность',\n 'extractor_чувство_нехватка_воздух',\n 'extractor_чувство_частый_сердцебиение',\n 'extractor_чувство_редкий_сердцебиение',\n 'extractor_боль_в_мыщцах',\n 'extractor_насморк',\n 'extractor_кровотечение_из_нос',\n 'extractor_кровотечение_из_десна',\n 'extractor_покалывание',\n 'extractor_напряжённость_мыщц_поясница',\n 'extractor_снижение_тонус_мыщц_нога',\n 'extractor_атрофия_мыщц',\n 'extractor_напряжение_мыщц_шея',\n 'extractor_снижение_тонус_мыщц',\n 'extractor_боль_в_рука',\n 'extractor_частый_мочеиспускание',\n 'extractor_боль_в_промежность',\n 'extractor_обль_в_кость',\n 'extractor_интоксикация',\n 'extractor_снижение_масса_тело',\n 'extractor_кровь_в_сперма',\n 'extractor_отрыжка',\n 'extractor_поверхностный_эрозия',\n 'extractor_бляшка',\n 'extractor_кровохаркание',\n 'extractor_узел_в_молочный_железа',\n 'extractor_изменение_форма_молочный_железа',\n 'extractor_сморщивание_кожа_молочный_железа',\n 'extractor_ощущение_боль_в_молочный_железа',\n 'extractor_припухность_на_соска',\n 'extractor_втяжение_сосок',\n 'extractor_кровянистый_выделение_из_сосок',\n 'extractor_раздражение_мучевого_пузырь',\n 'extractor_ложный_позыв_к_мочеиспускание',\n 'extractor_боль_в_малый_таз',\n 'extractor_боль_в_боковой_отдел_живот',\n 'extractor_варикоцеле',\n 'extractor_припухлость_в_поясничный_область',\n 'extractor_анемия',\n 'extractor_кровотечение_из_прямой_кишка',\n 'extractor_метеоризм',\n 'extractor_тенезм',\n 'extractor_боль_в_область_прямой_кишка',\n 'extractor_кишечный_непроходимость',\n 'extractor_кровянистый_выделение_из_половой_путь',\n 'extractor_обильный_влагалищный_выделение',\n 'extractor_боль_в_нижний_часть_живот',\n 'extractor_боль_внизу_живот',\n 'extractor_нерегулярность_менструация',\n 'extractor_потеря_способность_двигаться',\n 'extractor_замедленность_речь',\n 'extractor_снижение_зрение',\n 'extractor_опухоль_на_место_растяжение',\n 'extractor_появление_шрам',\n 'extractor_потеря_эластичность_мышца',\n 'extractor_припухлость_кожа',\n 'extractor_деформация_сустав',\n 'extractor_покраснение_кожа',\n 'extractor_обложить_язык',\n 'extractor_обезвоживание',\n 'extractor_синяк_под_глаз',\n 'extractor_заострить_черта_лицо',\n 'extractor_недержание_при_мочеиспускание',\n 'extractor_боль_под_правый_ребром',\n 'extractor_боль_в_область_желудок',\n 'extractor_волдырь',\n 'extractor_чихание',\n 'extractor_повысить_артериальный_давление',\n 'extractor_нарушение_эндокринный_система',\n 'extractor_опухоль_головной_мозг',\n 'extractor_спазм_сосуд',\n 'extractor_атеросклероз',\n 'extractor_порок_сердце',\n 'extractor_сахарный_диабет',\n 'extractor_нарушение_мозговой_кровообращение',\n 'extractor_энцефалит',\n 'extractor_стенокардия',\n 'extractor_покалывание_в_палец',\n 'extractor_фарингит',\n 'extractor_образование_твёрдый_шанкр',\n 'extractor_пустулезные_высыпание',\n 'extractor_бородавка',\n 'extractor_поражение_внутренний_орган',\n 'extractor_поражение_мозговой_оболочка',\n 'extractor_нарушение_психика',\n 'extractor_гриппоподобные_заболевание',\n 'extractor_ломота',\n 'extractor_хронический_усталость',\n 'extractor_красный_опухолевидные_образование',\n 'extractor_боль_в_ухо',\n 'extractor_разрыв_барабанный_перенонки',\n 'extractor_временной_потеря_слух',\n 'extractor_повышение_аппетит',\n 'extractor_повысить_либидо',\n 'extractor_эпилепсия',\n 'extractor_синдром_патологический_накопительство',\n 'extractor_спазм_жевательный_мыщц',\n 'extractor_неподвижность_челюсть',\n 'extractor_напряжённость_мыщц_брюшной_пресс',\n 'extractor_потемнение_в_глаз',\n 'extractor_фырканье',\n 'extractor_девиация_глаз',\n 'extractor_недержание_при_дефекация',\n 'extractor_пеноотделение',\n 'extractor_мышечный_спазм',\n 'extractor_утомлённость',\n 'extractor_тревога',\n 'extractor_участить_пульс',\n 'extractor_ушиб',\n 'extractor_гематома',\n 'extractor_прозрачный_жидкость_из_нос',\n 'extractor_анизокория',\n 'extractor_цианоз',\n 'extractor_выделение_из_уретра',\n 'extractor_выделение_из_влагалище',\n 'extractor_боль_при_мочеиспускание',\n 'extractor_боль_при_половой_акт',\n 'extractor_боль_в_область_промежность',\n 'extractor_боль_в_область_мошонка',\n 'extractor_боль_в_область_поясница',\n 'extractor_увеличить_нёбный_миндалина',\n 'extractor_ринит',\n 'extractor_бронхит',\n 'extractor_судорога_в_нога',\n 'extractor_куриный_слепота',\n 'extractor_мушка',\n 'extractor_быстрый_смена_настроение',\n 'extractor_плохой_усвояемость_информация',\n 'extractor_шаткий_походка',\n 'extractor_тремор_рука',\n 'extractor_слабоумие',\n 'extractor_боль_в_левый_подреберье',\n 'extractor_поражение_сеткачки_глаз',\n 'extractor_поражение_поджелудочный_железа',\n 'extractor_поражение_нервный_система',\n 'extractor_наружение_координация_движение',\n 'extractor_свищи',\n 'extractor_загноение_бубон',\n 'extractor_чувство_страх',\n 'extractor_чувство_возбуждение',\n 'extractor_сокращение_мочеиспускание',\n 'extractor_боль_в_мышца',\n 'extractor_шум_в_сердце',\n 'extractor_синдром_барабанный_палочка',\n 'extractor_зуд_в_область_анальный_отверстие',\n 'extractor_скрежет_зуб',\n 'extractor_боль_в_правый_подреберье',\n 'extractor_аллергический_реакция',\n 'extractor_желтуха',\n 'extractor_отдышка',\n 'extractor_дискомфорт']"
     },
     "execution_count": 270,
     "metadata": {},
     "output_type": "execute_result"
    }
   ],
   "source": [
    "extractor_column_existed_symptoms_id"
   ],
   "metadata": {
    "collapsed": false,
    "ExecuteTime": {
     "start_time": "2023-04-28T22:26:43.360886Z",
     "end_time": "2023-04-28T22:26:43.381768Z"
    }
   }
  },
  {
   "cell_type": "code",
   "execution_count": 271,
   "outputs": [
    {
     "data": {
      "text/plain": "                             case_id  \\\n0   b13c995673fb409fb66b5f81c180642b   \n1   29ceffdca8bf494f9d21b55b4bc2995c   \n2   2c75d3c2b87c400098f12aa710b3dde9   \n3   d1129e9686df442b9dee566985735dba   \n4   091ae4f1b0d14c82885ccdcdd81af6e3   \n5   d1129e9686df442b9dee566985735dba   \n6   a612ac9ef20747cfa9dc76f5f8cf8283   \n7   e3a29b06768e41059a03a364b1e7f9bd   \n8   85ad093778194cdfb3a1b238c5a0c184   \n9   cbbf4976d04f4647997764e6a5f8658b   \n10  88412102c8c54d9eb44c1ccf132888c7   \n11  263b247d02ef4da5b4940bc537b7017f   \n12  05ace5316cbc454498ef01c8f3e8fcb1   \n13  265a06a099a84c549df7065ce6b31d47   \n14  05ace5316cbc454498ef01c8f3e8fcb1   \n15  9a6211169c244eb3b410d038fa151e3e   \n16  17dbab227e7442e6b529c81c6547da75   \n\n                                                 case  marked_боль_в_горло  \\\n0   добрый день интересный и запутать ситуация с м...                    3   \n1   добрый день подсказать пожалуйста муж стать бе...                    3   \n2   уважаемый доктор по результам описание наш док...                    3   \n3   приветствовать вообщий несколько месяц назад м...                    3   \n4   здравствуйте расшифровать пожалуйста исследова...                    3   \n5   приветствовать вообщий несколько месяц назад м...                    3   \n6   добрый день помочь пожалуйста разобраться запу...                    3   \n7   я год переболеть ковид в январь в февраль резк...                    3   \n8   здравствуйте такой проблема пациент молодой го...                    3   \n9   помочь пожалуйста разобраться я год в детский ...                    3   \n10  приветствовать с прошлое декабрь у мама участи...                    3   \n11  здравствуйте я мужчина год мес назад появиться...                    3   \n12  гипертонический болезнь ст принимать вальсакор...                    3   \n13  здравствуйте врач не мочь найти причина головн...                    3   \n14  гипертонический болезнь ст принимать вальсакор...                    3   \n15  здравствуйте начало проверять сердце с январь ...                    3   \n16  здравствуйте год шесть назад упасть голова вни...                    3   \n\n    marked_температура  marked_вялость  marked_головной_боль  \\\n0                    3               3                     3   \n1                    3               3                     3   \n2                    3               3                     3   \n3                    3               3                     3   \n4                    3               3                     3   \n5                    3               3                     3   \n6                    3               3                     3   \n7                    3               3                     3   \n8                    3               3                     3   \n9                    3               3                     3   \n10                   3               3                     3   \n11                   2               3                     3   \n12                   3               3                     3   \n13                   3               3                     3   \n14                   3               3                     3   \n15                   3               3                     3   \n16                   3               3                     3   \n\n    marked_увеличить_лимфатический_узел  marked_снижение_аппетит  \\\n0                                     3                        3   \n1                                     3                        3   \n2                                     3                        3   \n3                                     3                        3   \n4                                     3                        3   \n5                                     3                        3   \n6                                     3                        3   \n7                                     3                        3   \n8                                     3                        3   \n9                                     3                        3   \n10                                    3                        3   \n11                                    3                        3   \n12                                    3                        3   \n13                                    3                        3   \n14                                    3                        3   \n15                                    3                        3   \n16                                    3                        3   \n\n    marked_повышенный_слюнотечение  marked_боль_в_ушах  ...  \\\n0                                3                   3  ...   \n1                                3                   3  ...   \n2                                3                   3  ...   \n3                                3                   3  ...   \n4                                3                   3  ...   \n5                                3                   3  ...   \n6                                3                   3  ...   \n7                                3                   3  ...   \n8                                3                   3  ...   \n9                                3                   3  ...   \n10                               3                   3  ...   \n11                               3                   3  ...   \n12                               3                   3  ...   \n13                               3                   3  ...   \n14                               3                   3  ...   \n15                               3                   3  ...   \n16                               3                   3  ...   \n\n    marked_боль_в_мышца  marked_шум_в_сердце  \\\n0                     3                    3   \n1                     3                    3   \n2                     3                    3   \n3                     3                    3   \n4                     3                    3   \n5                     3                    3   \n6                     3                    3   \n7                     3                    3   \n8                     3                    3   \n9                     3                    3   \n10                    3                    3   \n11                    3                    3   \n12                    3                    3   \n13                    3                    3   \n14                    3                    3   \n15                    3                    3   \n16                    3                    3   \n\n    marked_синдром_барабанный_палочка  \\\n0                                   3   \n1                                   3   \n2                                   3   \n3                                   3   \n4                                   3   \n5                                   3   \n6                                   3   \n7                                   3   \n8                                   3   \n9                                   3   \n10                                  3   \n11                                  3   \n12                                  3   \n13                                  3   \n14                                  3   \n15                                  3   \n16                                  3   \n\n    marked_зуд_в_область_анальный_отверстие  marked_скрежет_зуб  \\\n0                                         3                   3   \n1                                         3                   3   \n2                                         3                   3   \n3                                         3                   3   \n4                                         3                   3   \n5                                         3                   3   \n6                                         3                   3   \n7                                         3                   3   \n8                                         3                   3   \n9                                         3                   3   \n10                                        3                   3   \n11                                        3                   3   \n12                                        3                   3   \n13                                        3                   3   \n14                                        3                   3   \n15                                        3                   3   \n16                                        3                   3   \n\n    marked_боль_в_правый_подреберье  marked_аллергический_реакция  \\\n0                                 3                             3   \n1                                 3                             3   \n2                                 3                             3   \n3                                 3                             3   \n4                                 3                             3   \n5                                 3                             3   \n6                                 3                             3   \n7                                 3                             3   \n8                                 3                             3   \n9                                 3                             3   \n10                                3                             3   \n11                                3                             3   \n12                                3                             3   \n13                                3                             3   \n14                                3                             3   \n15                                3                             3   \n16                                3                             3   \n\n    marked_желтуха  marked_отдышка  marked_дискомфорт  \n0                3               3                  3  \n1                3               3                  3  \n2                3               3                  3  \n3                3               3                  3  \n4                3               3                  3  \n5                3               3                  3  \n6                3               3                  3  \n7                3               3                  3  \n8                3               3                  3  \n9                3               3                  3  \n10               3               3                  3  \n11               3               3                  3  \n12               3               3                  3  \n13               3               3                  3  \n14               3               3                  3  \n15               3               3                  3  \n16               3               3                  3  \n\n[17 rows x 373 columns]",
      "text/html": "<div>\n<style scoped>\n    .dataframe tbody tr th:only-of-type {\n        vertical-align: middle;\n    }\n\n    .dataframe tbody tr th {\n        vertical-align: top;\n    }\n\n    .dataframe thead th {\n        text-align: right;\n    }\n</style>\n<table border=\"1\" class=\"dataframe\">\n  <thead>\n    <tr style=\"text-align: right;\">\n      <th></th>\n      <th>case_id</th>\n      <th>case</th>\n      <th>marked_боль_в_горло</th>\n      <th>marked_температура</th>\n      <th>marked_вялость</th>\n      <th>marked_головной_боль</th>\n      <th>marked_увеличить_лимфатический_узел</th>\n      <th>marked_снижение_аппетит</th>\n      <th>marked_повышенный_слюнотечение</th>\n      <th>marked_боль_в_ушах</th>\n      <th>...</th>\n      <th>marked_боль_в_мышца</th>\n      <th>marked_шум_в_сердце</th>\n      <th>marked_синдром_барабанный_палочка</th>\n      <th>marked_зуд_в_область_анальный_отверстие</th>\n      <th>marked_скрежет_зуб</th>\n      <th>marked_боль_в_правый_подреберье</th>\n      <th>marked_аллергический_реакция</th>\n      <th>marked_желтуха</th>\n      <th>marked_отдышка</th>\n      <th>marked_дискомфорт</th>\n    </tr>\n  </thead>\n  <tbody>\n    <tr>\n      <th>0</th>\n      <td>b13c995673fb409fb66b5f81c180642b</td>\n      <td>добрый день интересный и запутать ситуация с м...</td>\n      <td>3</td>\n      <td>3</td>\n      <td>3</td>\n      <td>3</td>\n      <td>3</td>\n      <td>3</td>\n      <td>3</td>\n      <td>3</td>\n      <td>...</td>\n      <td>3</td>\n      <td>3</td>\n      <td>3</td>\n      <td>3</td>\n      <td>3</td>\n      <td>3</td>\n      <td>3</td>\n      <td>3</td>\n      <td>3</td>\n      <td>3</td>\n    </tr>\n    <tr>\n      <th>1</th>\n      <td>29ceffdca8bf494f9d21b55b4bc2995c</td>\n      <td>добрый день подсказать пожалуйста муж стать бе...</td>\n      <td>3</td>\n      <td>3</td>\n      <td>3</td>\n      <td>3</td>\n      <td>3</td>\n      <td>3</td>\n      <td>3</td>\n      <td>3</td>\n      <td>...</td>\n      <td>3</td>\n      <td>3</td>\n      <td>3</td>\n      <td>3</td>\n      <td>3</td>\n      <td>3</td>\n      <td>3</td>\n      <td>3</td>\n      <td>3</td>\n      <td>3</td>\n    </tr>\n    <tr>\n      <th>2</th>\n      <td>2c75d3c2b87c400098f12aa710b3dde9</td>\n      <td>уважаемый доктор по результам описание наш док...</td>\n      <td>3</td>\n      <td>3</td>\n      <td>3</td>\n      <td>3</td>\n      <td>3</td>\n      <td>3</td>\n      <td>3</td>\n      <td>3</td>\n      <td>...</td>\n      <td>3</td>\n      <td>3</td>\n      <td>3</td>\n      <td>3</td>\n      <td>3</td>\n      <td>3</td>\n      <td>3</td>\n      <td>3</td>\n      <td>3</td>\n      <td>3</td>\n    </tr>\n    <tr>\n      <th>3</th>\n      <td>d1129e9686df442b9dee566985735dba</td>\n      <td>приветствовать вообщий несколько месяц назад м...</td>\n      <td>3</td>\n      <td>3</td>\n      <td>3</td>\n      <td>3</td>\n      <td>3</td>\n      <td>3</td>\n      <td>3</td>\n      <td>3</td>\n      <td>...</td>\n      <td>3</td>\n      <td>3</td>\n      <td>3</td>\n      <td>3</td>\n      <td>3</td>\n      <td>3</td>\n      <td>3</td>\n      <td>3</td>\n      <td>3</td>\n      <td>3</td>\n    </tr>\n    <tr>\n      <th>4</th>\n      <td>091ae4f1b0d14c82885ccdcdd81af6e3</td>\n      <td>здравствуйте расшифровать пожалуйста исследова...</td>\n      <td>3</td>\n      <td>3</td>\n      <td>3</td>\n      <td>3</td>\n      <td>3</td>\n      <td>3</td>\n      <td>3</td>\n      <td>3</td>\n      <td>...</td>\n      <td>3</td>\n      <td>3</td>\n      <td>3</td>\n      <td>3</td>\n      <td>3</td>\n      <td>3</td>\n      <td>3</td>\n      <td>3</td>\n      <td>3</td>\n      <td>3</td>\n    </tr>\n    <tr>\n      <th>5</th>\n      <td>d1129e9686df442b9dee566985735dba</td>\n      <td>приветствовать вообщий несколько месяц назад м...</td>\n      <td>3</td>\n      <td>3</td>\n      <td>3</td>\n      <td>3</td>\n      <td>3</td>\n      <td>3</td>\n      <td>3</td>\n      <td>3</td>\n      <td>...</td>\n      <td>3</td>\n      <td>3</td>\n      <td>3</td>\n      <td>3</td>\n      <td>3</td>\n      <td>3</td>\n      <td>3</td>\n      <td>3</td>\n      <td>3</td>\n      <td>3</td>\n    </tr>\n    <tr>\n      <th>6</th>\n      <td>a612ac9ef20747cfa9dc76f5f8cf8283</td>\n      <td>добрый день помочь пожалуйста разобраться запу...</td>\n      <td>3</td>\n      <td>3</td>\n      <td>3</td>\n      <td>3</td>\n      <td>3</td>\n      <td>3</td>\n      <td>3</td>\n      <td>3</td>\n      <td>...</td>\n      <td>3</td>\n      <td>3</td>\n      <td>3</td>\n      <td>3</td>\n      <td>3</td>\n      <td>3</td>\n      <td>3</td>\n      <td>3</td>\n      <td>3</td>\n      <td>3</td>\n    </tr>\n    <tr>\n      <th>7</th>\n      <td>e3a29b06768e41059a03a364b1e7f9bd</td>\n      <td>я год переболеть ковид в январь в февраль резк...</td>\n      <td>3</td>\n      <td>3</td>\n      <td>3</td>\n      <td>3</td>\n      <td>3</td>\n      <td>3</td>\n      <td>3</td>\n      <td>3</td>\n      <td>...</td>\n      <td>3</td>\n      <td>3</td>\n      <td>3</td>\n      <td>3</td>\n      <td>3</td>\n      <td>3</td>\n      <td>3</td>\n      <td>3</td>\n      <td>3</td>\n      <td>3</td>\n    </tr>\n    <tr>\n      <th>8</th>\n      <td>85ad093778194cdfb3a1b238c5a0c184</td>\n      <td>здравствуйте такой проблема пациент молодой го...</td>\n      <td>3</td>\n      <td>3</td>\n      <td>3</td>\n      <td>3</td>\n      <td>3</td>\n      <td>3</td>\n      <td>3</td>\n      <td>3</td>\n      <td>...</td>\n      <td>3</td>\n      <td>3</td>\n      <td>3</td>\n      <td>3</td>\n      <td>3</td>\n      <td>3</td>\n      <td>3</td>\n      <td>3</td>\n      <td>3</td>\n      <td>3</td>\n    </tr>\n    <tr>\n      <th>9</th>\n      <td>cbbf4976d04f4647997764e6a5f8658b</td>\n      <td>помочь пожалуйста разобраться я год в детский ...</td>\n      <td>3</td>\n      <td>3</td>\n      <td>3</td>\n      <td>3</td>\n      <td>3</td>\n      <td>3</td>\n      <td>3</td>\n      <td>3</td>\n      <td>...</td>\n      <td>3</td>\n      <td>3</td>\n      <td>3</td>\n      <td>3</td>\n      <td>3</td>\n      <td>3</td>\n      <td>3</td>\n      <td>3</td>\n      <td>3</td>\n      <td>3</td>\n    </tr>\n    <tr>\n      <th>10</th>\n      <td>88412102c8c54d9eb44c1ccf132888c7</td>\n      <td>приветствовать с прошлое декабрь у мама участи...</td>\n      <td>3</td>\n      <td>3</td>\n      <td>3</td>\n      <td>3</td>\n      <td>3</td>\n      <td>3</td>\n      <td>3</td>\n      <td>3</td>\n      <td>...</td>\n      <td>3</td>\n      <td>3</td>\n      <td>3</td>\n      <td>3</td>\n      <td>3</td>\n      <td>3</td>\n      <td>3</td>\n      <td>3</td>\n      <td>3</td>\n      <td>3</td>\n    </tr>\n    <tr>\n      <th>11</th>\n      <td>263b247d02ef4da5b4940bc537b7017f</td>\n      <td>здравствуйте я мужчина год мес назад появиться...</td>\n      <td>3</td>\n      <td>2</td>\n      <td>3</td>\n      <td>3</td>\n      <td>3</td>\n      <td>3</td>\n      <td>3</td>\n      <td>3</td>\n      <td>...</td>\n      <td>3</td>\n      <td>3</td>\n      <td>3</td>\n      <td>3</td>\n      <td>3</td>\n      <td>3</td>\n      <td>3</td>\n      <td>3</td>\n      <td>3</td>\n      <td>3</td>\n    </tr>\n    <tr>\n      <th>12</th>\n      <td>05ace5316cbc454498ef01c8f3e8fcb1</td>\n      <td>гипертонический болезнь ст принимать вальсакор...</td>\n      <td>3</td>\n      <td>3</td>\n      <td>3</td>\n      <td>3</td>\n      <td>3</td>\n      <td>3</td>\n      <td>3</td>\n      <td>3</td>\n      <td>...</td>\n      <td>3</td>\n      <td>3</td>\n      <td>3</td>\n      <td>3</td>\n      <td>3</td>\n      <td>3</td>\n      <td>3</td>\n      <td>3</td>\n      <td>3</td>\n      <td>3</td>\n    </tr>\n    <tr>\n      <th>13</th>\n      <td>265a06a099a84c549df7065ce6b31d47</td>\n      <td>здравствуйте врач не мочь найти причина головн...</td>\n      <td>3</td>\n      <td>3</td>\n      <td>3</td>\n      <td>3</td>\n      <td>3</td>\n      <td>3</td>\n      <td>3</td>\n      <td>3</td>\n      <td>...</td>\n      <td>3</td>\n      <td>3</td>\n      <td>3</td>\n      <td>3</td>\n      <td>3</td>\n      <td>3</td>\n      <td>3</td>\n      <td>3</td>\n      <td>3</td>\n      <td>3</td>\n    </tr>\n    <tr>\n      <th>14</th>\n      <td>05ace5316cbc454498ef01c8f3e8fcb1</td>\n      <td>гипертонический болезнь ст принимать вальсакор...</td>\n      <td>3</td>\n      <td>3</td>\n      <td>3</td>\n      <td>3</td>\n      <td>3</td>\n      <td>3</td>\n      <td>3</td>\n      <td>3</td>\n      <td>...</td>\n      <td>3</td>\n      <td>3</td>\n      <td>3</td>\n      <td>3</td>\n      <td>3</td>\n      <td>3</td>\n      <td>3</td>\n      <td>3</td>\n      <td>3</td>\n      <td>3</td>\n    </tr>\n    <tr>\n      <th>15</th>\n      <td>9a6211169c244eb3b410d038fa151e3e</td>\n      <td>здравствуйте начало проверять сердце с январь ...</td>\n      <td>3</td>\n      <td>3</td>\n      <td>3</td>\n      <td>3</td>\n      <td>3</td>\n      <td>3</td>\n      <td>3</td>\n      <td>3</td>\n      <td>...</td>\n      <td>3</td>\n      <td>3</td>\n      <td>3</td>\n      <td>3</td>\n      <td>3</td>\n      <td>3</td>\n      <td>3</td>\n      <td>3</td>\n      <td>3</td>\n      <td>3</td>\n    </tr>\n    <tr>\n      <th>16</th>\n      <td>17dbab227e7442e6b529c81c6547da75</td>\n      <td>здравствуйте год шесть назад упасть голова вни...</td>\n      <td>3</td>\n      <td>3</td>\n      <td>3</td>\n      <td>3</td>\n      <td>3</td>\n      <td>3</td>\n      <td>3</td>\n      <td>3</td>\n      <td>...</td>\n      <td>3</td>\n      <td>3</td>\n      <td>3</td>\n      <td>3</td>\n      <td>3</td>\n      <td>3</td>\n      <td>3</td>\n      <td>3</td>\n      <td>3</td>\n      <td>3</td>\n    </tr>\n  </tbody>\n</table>\n<p>17 rows × 373 columns</p>\n</div>"
     },
     "execution_count": 271,
     "metadata": {},
     "output_type": "execute_result"
    }
   ],
   "source": [
    "df_showcase"
   ],
   "metadata": {
    "collapsed": false,
    "ExecuteTime": {
     "start_time": "2023-04-28T22:26:44.595711Z",
     "end_time": "2023-04-28T22:26:44.603936Z"
    }
   }
  },
  {
   "cell_type": "code",
   "execution_count": 272,
   "outputs": [
    {
     "name": "stderr",
     "output_type": "stream",
     "text": [
      "/tmp/ipykernel_25450/2100000169.py:1: DeprecationWarning: In a future version, `df.iloc[:, i] = newvals` will attempt to set the values inplace instead of always setting a new array. To retain the old behavior, use either `df[df.columns[i]] = newvals` or, if columns are non-unique, `df.isetitem(i, newvals)`\n",
      "  df_showcase.loc[:, extractor_column_existed_symptoms_id] = transformed_symptoms\n"
     ]
    },
    {
     "data": {
      "text/plain": "                             case_id  \\\n0   b13c995673fb409fb66b5f81c180642b   \n1   29ceffdca8bf494f9d21b55b4bc2995c   \n2   2c75d3c2b87c400098f12aa710b3dde9   \n3   d1129e9686df442b9dee566985735dba   \n4   091ae4f1b0d14c82885ccdcdd81af6e3   \n5   d1129e9686df442b9dee566985735dba   \n6   a612ac9ef20747cfa9dc76f5f8cf8283   \n7   e3a29b06768e41059a03a364b1e7f9bd   \n8   85ad093778194cdfb3a1b238c5a0c184   \n9   cbbf4976d04f4647997764e6a5f8658b   \n10  88412102c8c54d9eb44c1ccf132888c7   \n11  263b247d02ef4da5b4940bc537b7017f   \n12  05ace5316cbc454498ef01c8f3e8fcb1   \n13  265a06a099a84c549df7065ce6b31d47   \n14  05ace5316cbc454498ef01c8f3e8fcb1   \n15  9a6211169c244eb3b410d038fa151e3e   \n16  17dbab227e7442e6b529c81c6547da75   \n\n                                                 case  marked_боль_в_горло  \\\n0   добрый день интересный и запутать ситуация с м...                    3   \n1   добрый день подсказать пожалуйста муж стать бе...                    3   \n2   уважаемый доктор по результам описание наш док...                    3   \n3   приветствовать вообщий несколько месяц назад м...                    3   \n4   здравствуйте расшифровать пожалуйста исследова...                    3   \n5   приветствовать вообщий несколько месяц назад м...                    3   \n6   добрый день помочь пожалуйста разобраться запу...                    3   \n7   я год переболеть ковид в январь в февраль резк...                    3   \n8   здравствуйте такой проблема пациент молодой го...                    3   \n9   помочь пожалуйста разобраться я год в детский ...                    3   \n10  приветствовать с прошлое декабрь у мама участи...                    3   \n11  здравствуйте я мужчина год мес назад появиться...                    3   \n12  гипертонический болезнь ст принимать вальсакор...                    3   \n13  здравствуйте врач не мочь найти причина головн...                    3   \n14  гипертонический болезнь ст принимать вальсакор...                    3   \n15  здравствуйте начало проверять сердце с январь ...                    3   \n16  здравствуйте год шесть назад упасть голова вни...                    3   \n\n    marked_температура  marked_вялость  marked_головной_боль  \\\n0                    3               3                     3   \n1                    3               3                     3   \n2                    3               3                     3   \n3                    3               3                     3   \n4                    3               3                     3   \n5                    3               3                     3   \n6                    3               3                     3   \n7                    3               3                     3   \n8                    3               3                     3   \n9                    3               3                     3   \n10                   3               3                     3   \n11                   2               3                     3   \n12                   3               3                     3   \n13                   3               3                     3   \n14                   3               3                     3   \n15                   3               3                     3   \n16                   3               3                     3   \n\n    marked_увеличить_лимфатический_узел  marked_снижение_аппетит  \\\n0                                     3                        3   \n1                                     3                        3   \n2                                     3                        3   \n3                                     3                        3   \n4                                     3                        3   \n5                                     3                        3   \n6                                     3                        3   \n7                                     3                        3   \n8                                     3                        3   \n9                                     3                        3   \n10                                    3                        3   \n11                                    3                        3   \n12                                    3                        3   \n13                                    3                        3   \n14                                    3                        3   \n15                                    3                        3   \n16                                    3                        3   \n\n    marked_повышенный_слюнотечение  marked_боль_в_ушах  ...  \\\n0                                3                   3  ...   \n1                                3                   3  ...   \n2                                3                   3  ...   \n3                                3                   3  ...   \n4                                3                   3  ...   \n5                                3                   3  ...   \n6                                3                   3  ...   \n7                                3                   3  ...   \n8                                3                   3  ...   \n9                                3                   3  ...   \n10                               3                   3  ...   \n11                               3                   3  ...   \n12                               3                   3  ...   \n13                               3                   3  ...   \n14                               3                   3  ...   \n15                               3                   3  ...   \n16                               3                   3  ...   \n\n    extractor_боль_в_мышца  extractor_шум_в_сердце  \\\n0                        3                       3   \n1                        3                       3   \n2                        3                       3   \n3                        3                       3   \n4                        3                       3   \n5                        3                       3   \n6                        3                       3   \n7                        3                       3   \n8                        3                       3   \n9                        3                       3   \n10                       3                       3   \n11                       3                       3   \n12                       3                       3   \n13                       3                       3   \n14                       3                       3   \n15                       3                       3   \n16                       3                       3   \n\n    extractor_синдром_барабанный_палочка  \\\n0                                      3   \n1                                      3   \n2                                      3   \n3                                      3   \n4                                      3   \n5                                      3   \n6                                      3   \n7                                      3   \n8                                      3   \n9                                      3   \n10                                     3   \n11                                     3   \n12                                     3   \n13                                     3   \n14                                     3   \n15                                     3   \n16                                     3   \n\n    extractor_зуд_в_область_анальный_отверстие  extractor_скрежет_зуб  \\\n0                                            3                      3   \n1                                            3                      3   \n2                                            3                      3   \n3                                            3                      3   \n4                                            3                      3   \n5                                            3                      3   \n6                                            3                      3   \n7                                            3                      3   \n8                                            3                      3   \n9                                            3                      3   \n10                                           3                      3   \n11                                           3                      3   \n12                                           3                      3   \n13                                           3                      3   \n14                                           3                      3   \n15                                           3                      3   \n16                                           3                      3   \n\n    extractor_боль_в_правый_подреберье  extractor_аллергический_реакция  \\\n0                                    3                                3   \n1                                    3                                3   \n2                                    3                                3   \n3                                    3                                3   \n4                                    3                                3   \n5                                    3                                3   \n6                                    3                                3   \n7                                    3                                3   \n8                                    3                                3   \n9                                    3                                3   \n10                                   3                                3   \n11                                   3                                3   \n12                                   3                                3   \n13                                   3                                3   \n14                                   3                                3   \n15                                   3                                3   \n16                                   3                                3   \n\n    extractor_желтуха  extractor_отдышка  extractor_дискомфорт  \n0                   3                  3                     3  \n1                   3                  3                     3  \n2                   3                  3                     3  \n3                   3                  3                     3  \n4                   3                  3                     3  \n5                   3                  3                     3  \n6                   3                  3                     2  \n7                   3                  3                     3  \n8                   3                  3                     3  \n9                   3                  3                     1  \n10                  3                  3                     3  \n11                  3                  3                     1  \n12                  3                  3                     3  \n13                  3                  2                     3  \n14                  3                  3                     3  \n15                  3                  3                     3  \n16                  3                  1                     3  \n\n[17 rows x 744 columns]",
      "text/html": "<div>\n<style scoped>\n    .dataframe tbody tr th:only-of-type {\n        vertical-align: middle;\n    }\n\n    .dataframe tbody tr th {\n        vertical-align: top;\n    }\n\n    .dataframe thead th {\n        text-align: right;\n    }\n</style>\n<table border=\"1\" class=\"dataframe\">\n  <thead>\n    <tr style=\"text-align: right;\">\n      <th></th>\n      <th>case_id</th>\n      <th>case</th>\n      <th>marked_боль_в_горло</th>\n      <th>marked_температура</th>\n      <th>marked_вялость</th>\n      <th>marked_головной_боль</th>\n      <th>marked_увеличить_лимфатический_узел</th>\n      <th>marked_снижение_аппетит</th>\n      <th>marked_повышенный_слюнотечение</th>\n      <th>marked_боль_в_ушах</th>\n      <th>...</th>\n      <th>extractor_боль_в_мышца</th>\n      <th>extractor_шум_в_сердце</th>\n      <th>extractor_синдром_барабанный_палочка</th>\n      <th>extractor_зуд_в_область_анальный_отверстие</th>\n      <th>extractor_скрежет_зуб</th>\n      <th>extractor_боль_в_правый_подреберье</th>\n      <th>extractor_аллергический_реакция</th>\n      <th>extractor_желтуха</th>\n      <th>extractor_отдышка</th>\n      <th>extractor_дискомфорт</th>\n    </tr>\n  </thead>\n  <tbody>\n    <tr>\n      <th>0</th>\n      <td>b13c995673fb409fb66b5f81c180642b</td>\n      <td>добрый день интересный и запутать ситуация с м...</td>\n      <td>3</td>\n      <td>3</td>\n      <td>3</td>\n      <td>3</td>\n      <td>3</td>\n      <td>3</td>\n      <td>3</td>\n      <td>3</td>\n      <td>...</td>\n      <td>3</td>\n      <td>3</td>\n      <td>3</td>\n      <td>3</td>\n      <td>3</td>\n      <td>3</td>\n      <td>3</td>\n      <td>3</td>\n      <td>3</td>\n      <td>3</td>\n    </tr>\n    <tr>\n      <th>1</th>\n      <td>29ceffdca8bf494f9d21b55b4bc2995c</td>\n      <td>добрый день подсказать пожалуйста муж стать бе...</td>\n      <td>3</td>\n      <td>3</td>\n      <td>3</td>\n      <td>3</td>\n      <td>3</td>\n      <td>3</td>\n      <td>3</td>\n      <td>3</td>\n      <td>...</td>\n      <td>3</td>\n      <td>3</td>\n      <td>3</td>\n      <td>3</td>\n      <td>3</td>\n      <td>3</td>\n      <td>3</td>\n      <td>3</td>\n      <td>3</td>\n      <td>3</td>\n    </tr>\n    <tr>\n      <th>2</th>\n      <td>2c75d3c2b87c400098f12aa710b3dde9</td>\n      <td>уважаемый доктор по результам описание наш док...</td>\n      <td>3</td>\n      <td>3</td>\n      <td>3</td>\n      <td>3</td>\n      <td>3</td>\n      <td>3</td>\n      <td>3</td>\n      <td>3</td>\n      <td>...</td>\n      <td>3</td>\n      <td>3</td>\n      <td>3</td>\n      <td>3</td>\n      <td>3</td>\n      <td>3</td>\n      <td>3</td>\n      <td>3</td>\n      <td>3</td>\n      <td>3</td>\n    </tr>\n    <tr>\n      <th>3</th>\n      <td>d1129e9686df442b9dee566985735dba</td>\n      <td>приветствовать вообщий несколько месяц назад м...</td>\n      <td>3</td>\n      <td>3</td>\n      <td>3</td>\n      <td>3</td>\n      <td>3</td>\n      <td>3</td>\n      <td>3</td>\n      <td>3</td>\n      <td>...</td>\n      <td>3</td>\n      <td>3</td>\n      <td>3</td>\n      <td>3</td>\n      <td>3</td>\n      <td>3</td>\n      <td>3</td>\n      <td>3</td>\n      <td>3</td>\n      <td>3</td>\n    </tr>\n    <tr>\n      <th>4</th>\n      <td>091ae4f1b0d14c82885ccdcdd81af6e3</td>\n      <td>здравствуйте расшифровать пожалуйста исследова...</td>\n      <td>3</td>\n      <td>3</td>\n      <td>3</td>\n      <td>3</td>\n      <td>3</td>\n      <td>3</td>\n      <td>3</td>\n      <td>3</td>\n      <td>...</td>\n      <td>3</td>\n      <td>3</td>\n      <td>3</td>\n      <td>3</td>\n      <td>3</td>\n      <td>3</td>\n      <td>3</td>\n      <td>3</td>\n      <td>3</td>\n      <td>3</td>\n    </tr>\n    <tr>\n      <th>5</th>\n      <td>d1129e9686df442b9dee566985735dba</td>\n      <td>приветствовать вообщий несколько месяц назад м...</td>\n      <td>3</td>\n      <td>3</td>\n      <td>3</td>\n      <td>3</td>\n      <td>3</td>\n      <td>3</td>\n      <td>3</td>\n      <td>3</td>\n      <td>...</td>\n      <td>3</td>\n      <td>3</td>\n      <td>3</td>\n      <td>3</td>\n      <td>3</td>\n      <td>3</td>\n      <td>3</td>\n      <td>3</td>\n      <td>3</td>\n      <td>3</td>\n    </tr>\n    <tr>\n      <th>6</th>\n      <td>a612ac9ef20747cfa9dc76f5f8cf8283</td>\n      <td>добрый день помочь пожалуйста разобраться запу...</td>\n      <td>3</td>\n      <td>3</td>\n      <td>3</td>\n      <td>3</td>\n      <td>3</td>\n      <td>3</td>\n      <td>3</td>\n      <td>3</td>\n      <td>...</td>\n      <td>3</td>\n      <td>3</td>\n      <td>3</td>\n      <td>3</td>\n      <td>3</td>\n      <td>3</td>\n      <td>3</td>\n      <td>3</td>\n      <td>3</td>\n      <td>2</td>\n    </tr>\n    <tr>\n      <th>7</th>\n      <td>e3a29b06768e41059a03a364b1e7f9bd</td>\n      <td>я год переболеть ковид в январь в февраль резк...</td>\n      <td>3</td>\n      <td>3</td>\n      <td>3</td>\n      <td>3</td>\n      <td>3</td>\n      <td>3</td>\n      <td>3</td>\n      <td>3</td>\n      <td>...</td>\n      <td>3</td>\n      <td>3</td>\n      <td>3</td>\n      <td>3</td>\n      <td>3</td>\n      <td>3</td>\n      <td>3</td>\n      <td>3</td>\n      <td>3</td>\n      <td>3</td>\n    </tr>\n    <tr>\n      <th>8</th>\n      <td>85ad093778194cdfb3a1b238c5a0c184</td>\n      <td>здравствуйте такой проблема пациент молодой го...</td>\n      <td>3</td>\n      <td>3</td>\n      <td>3</td>\n      <td>3</td>\n      <td>3</td>\n      <td>3</td>\n      <td>3</td>\n      <td>3</td>\n      <td>...</td>\n      <td>3</td>\n      <td>3</td>\n      <td>3</td>\n      <td>3</td>\n      <td>3</td>\n      <td>3</td>\n      <td>3</td>\n      <td>3</td>\n      <td>3</td>\n      <td>3</td>\n    </tr>\n    <tr>\n      <th>9</th>\n      <td>cbbf4976d04f4647997764e6a5f8658b</td>\n      <td>помочь пожалуйста разобраться я год в детский ...</td>\n      <td>3</td>\n      <td>3</td>\n      <td>3</td>\n      <td>3</td>\n      <td>3</td>\n      <td>3</td>\n      <td>3</td>\n      <td>3</td>\n      <td>...</td>\n      <td>3</td>\n      <td>3</td>\n      <td>3</td>\n      <td>3</td>\n      <td>3</td>\n      <td>3</td>\n      <td>3</td>\n      <td>3</td>\n      <td>3</td>\n      <td>1</td>\n    </tr>\n    <tr>\n      <th>10</th>\n      <td>88412102c8c54d9eb44c1ccf132888c7</td>\n      <td>приветствовать с прошлое декабрь у мама участи...</td>\n      <td>3</td>\n      <td>3</td>\n      <td>3</td>\n      <td>3</td>\n      <td>3</td>\n      <td>3</td>\n      <td>3</td>\n      <td>3</td>\n      <td>...</td>\n      <td>3</td>\n      <td>3</td>\n      <td>3</td>\n      <td>3</td>\n      <td>3</td>\n      <td>3</td>\n      <td>3</td>\n      <td>3</td>\n      <td>3</td>\n      <td>3</td>\n    </tr>\n    <tr>\n      <th>11</th>\n      <td>263b247d02ef4da5b4940bc537b7017f</td>\n      <td>здравствуйте я мужчина год мес назад появиться...</td>\n      <td>3</td>\n      <td>2</td>\n      <td>3</td>\n      <td>3</td>\n      <td>3</td>\n      <td>3</td>\n      <td>3</td>\n      <td>3</td>\n      <td>...</td>\n      <td>3</td>\n      <td>3</td>\n      <td>3</td>\n      <td>3</td>\n      <td>3</td>\n      <td>3</td>\n      <td>3</td>\n      <td>3</td>\n      <td>3</td>\n      <td>1</td>\n    </tr>\n    <tr>\n      <th>12</th>\n      <td>05ace5316cbc454498ef01c8f3e8fcb1</td>\n      <td>гипертонический болезнь ст принимать вальсакор...</td>\n      <td>3</td>\n      <td>3</td>\n      <td>3</td>\n      <td>3</td>\n      <td>3</td>\n      <td>3</td>\n      <td>3</td>\n      <td>3</td>\n      <td>...</td>\n      <td>3</td>\n      <td>3</td>\n      <td>3</td>\n      <td>3</td>\n      <td>3</td>\n      <td>3</td>\n      <td>3</td>\n      <td>3</td>\n      <td>3</td>\n      <td>3</td>\n    </tr>\n    <tr>\n      <th>13</th>\n      <td>265a06a099a84c549df7065ce6b31d47</td>\n      <td>здравствуйте врач не мочь найти причина головн...</td>\n      <td>3</td>\n      <td>3</td>\n      <td>3</td>\n      <td>3</td>\n      <td>3</td>\n      <td>3</td>\n      <td>3</td>\n      <td>3</td>\n      <td>...</td>\n      <td>3</td>\n      <td>3</td>\n      <td>3</td>\n      <td>3</td>\n      <td>3</td>\n      <td>3</td>\n      <td>3</td>\n      <td>3</td>\n      <td>2</td>\n      <td>3</td>\n    </tr>\n    <tr>\n      <th>14</th>\n      <td>05ace5316cbc454498ef01c8f3e8fcb1</td>\n      <td>гипертонический болезнь ст принимать вальсакор...</td>\n      <td>3</td>\n      <td>3</td>\n      <td>3</td>\n      <td>3</td>\n      <td>3</td>\n      <td>3</td>\n      <td>3</td>\n      <td>3</td>\n      <td>...</td>\n      <td>3</td>\n      <td>3</td>\n      <td>3</td>\n      <td>3</td>\n      <td>3</td>\n      <td>3</td>\n      <td>3</td>\n      <td>3</td>\n      <td>3</td>\n      <td>3</td>\n    </tr>\n    <tr>\n      <th>15</th>\n      <td>9a6211169c244eb3b410d038fa151e3e</td>\n      <td>здравствуйте начало проверять сердце с январь ...</td>\n      <td>3</td>\n      <td>3</td>\n      <td>3</td>\n      <td>3</td>\n      <td>3</td>\n      <td>3</td>\n      <td>3</td>\n      <td>3</td>\n      <td>...</td>\n      <td>3</td>\n      <td>3</td>\n      <td>3</td>\n      <td>3</td>\n      <td>3</td>\n      <td>3</td>\n      <td>3</td>\n      <td>3</td>\n      <td>3</td>\n      <td>3</td>\n    </tr>\n    <tr>\n      <th>16</th>\n      <td>17dbab227e7442e6b529c81c6547da75</td>\n      <td>здравствуйте год шесть назад упасть голова вни...</td>\n      <td>3</td>\n      <td>3</td>\n      <td>3</td>\n      <td>3</td>\n      <td>3</td>\n      <td>3</td>\n      <td>3</td>\n      <td>3</td>\n      <td>...</td>\n      <td>3</td>\n      <td>3</td>\n      <td>3</td>\n      <td>3</td>\n      <td>3</td>\n      <td>3</td>\n      <td>3</td>\n      <td>3</td>\n      <td>1</td>\n      <td>3</td>\n    </tr>\n  </tbody>\n</table>\n<p>17 rows × 744 columns</p>\n</div>"
     },
     "execution_count": 272,
     "metadata": {},
     "output_type": "execute_result"
    }
   ],
   "source": [
    "df_showcase.loc[:, extractor_column_existed_symptoms_id] = transformed_symptoms\n",
    "df_showcase.head(100)"
   ],
   "metadata": {
    "collapsed": false,
    "ExecuteTime": {
     "start_time": "2023-04-28T22:26:47.099823Z",
     "end_time": "2023-04-28T22:26:47.207642Z"
    }
   }
  },
  {
   "cell_type": "code",
   "execution_count": 273,
   "outputs": [
    {
     "data": {
      "text/plain": "case_id                               b13c995673fb409fb66b5f81c180642b29ceffdca8bf49...\ncase                                  добрый день интересный и запутать ситуация с м...\nmarked_боль_в_горло                                                                  51\nmarked_температура                                                                   50\nmarked_вялость                                                                       51\n                                                            ...                        \nextractor_боль_в_правый_подреберье                                                   51\nextractor_аллергический_реакция                                                      51\nextractor_желтуха                                                                    51\nextractor_отдышка                                                                    48\nextractor_дискомфорт                                                                 46\nLength: 744, dtype: object"
     },
     "execution_count": 273,
     "metadata": {},
     "output_type": "execute_result"
    }
   ],
   "source": [
    "df_showcase.sum()"
   ],
   "metadata": {
    "collapsed": false,
    "ExecuteTime": {
     "start_time": "2023-04-28T22:26:59.601137Z",
     "end_time": "2023-04-28T22:26:59.660961Z"
    }
   }
  },
  {
   "cell_type": "markdown",
   "source": [
    "# Here we have showcase and ready to compute any metrics"
   ],
   "metadata": {
    "collapsed": false
   }
  },
  {
   "cell_type": "code",
   "execution_count": null,
   "outputs": [],
   "source": [],
   "metadata": {
    "collapsed": false
   }
  }
 ],
 "metadata": {
  "kernelspec": {
   "display_name": "Python 3",
   "language": "python",
   "name": "python3"
  },
  "language_info": {
   "codemirror_mode": {
    "name": "ipython",
    "version": 2
   },
   "file_extension": ".py",
   "mimetype": "text/x-python",
   "name": "python",
   "nbconvert_exporter": "python",
   "pygments_lexer": "ipython2",
   "version": "2.7.6"
  }
 },
 "nbformat": 4,
 "nbformat_minor": 0
}
