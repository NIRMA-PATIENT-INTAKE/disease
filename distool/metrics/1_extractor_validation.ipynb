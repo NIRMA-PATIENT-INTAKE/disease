{
 "cells": [
  {
   "cell_type": "code",
   "execution_count": 1,
   "id": "cf3d1007-af24-4aac-858a-777d72c5dc3c",
   "metadata": {},
   "outputs": [],
   "source": [
    "import pandas as pd"
   ]
  },
  {
   "cell_type": "code",
   "execution_count": 2,
   "id": "fa88ff97-e146-420c-80d5-bbd2fd354563",
   "metadata": {},
   "outputs": [],
   "source": [
    "from extractor import compute"
   ]
  },
  {
   "cell_type": "code",
   "execution_count": 3,
   "id": "d77ee6d1-a3f0-4b73-b817-a0ddbcca36f5",
   "metadata": {},
   "outputs": [],
   "source": [
    "df_showcase = pd.read_csv(\"../data/showcase.csv\")"
   ]
  },
  {
   "cell_type": "code",
   "execution_count": 4,
   "id": "91d714f8-40f4-47b2-924b-223f0320b47e",
   "metadata": {},
   "outputs": [
    {
     "name": "stdout",
     "output_type": "stream",
     "text": [
      "VALIDATE_MARKER - 0.6\n",
      "VALIDATE_EXTRACTOR - 0.21\n",
      "INVALID - 0.1\n",
      "VALID - 0.08\n"
     ]
    }
   ],
   "source": [
    "df_in_symptoms = compute.compute_metrics(df_showcase)"
   ]
  },
  {
   "cell_type": "code",
   "execution_count": 7,
   "id": "96ae84e8-414b-46fd-b592-47fcc3089fa9",
   "metadata": {},
   "outputs": [
    {
     "data": {
      "text/html": [
       "<div>\n",
       "<style scoped>\n",
       "    .dataframe tbody tr th:only-of-type {\n",
       "        vertical-align: middle;\n",
       "    }\n",
       "\n",
       "    .dataframe tbody tr th {\n",
       "        vertical-align: top;\n",
       "    }\n",
       "\n",
       "    .dataframe thead th {\n",
       "        text-align: right;\n",
       "    }\n",
       "</style>\n",
       "<table border=\"1\" class=\"dataframe\">\n",
       "  <thead>\n",
       "    <tr style=\"text-align: right;\">\n",
       "      <th></th>\n",
       "      <th>VALID</th>\n",
       "      <th>INVALID</th>\n",
       "      <th>VALIDATE_EXTRACTOR</th>\n",
       "      <th>VALIDATE_MARKER</th>\n",
       "      <th>UNDEFINED</th>\n",
       "    </tr>\n",
       "  </thead>\n",
       "  <tbody>\n",
       "    <tr>\n",
       "      <th>боль_в_горло</th>\n",
       "      <td>0</td>\n",
       "      <td>0</td>\n",
       "      <td>0</td>\n",
       "      <td>1</td>\n",
       "      <td>16</td>\n",
       "    </tr>\n",
       "    <tr>\n",
       "      <th>вялость</th>\n",
       "      <td>0</td>\n",
       "      <td>0</td>\n",
       "      <td>0</td>\n",
       "      <td>0</td>\n",
       "      <td>17</td>\n",
       "    </tr>\n",
       "    <tr>\n",
       "      <th>головной_боль</th>\n",
       "      <td>0</td>\n",
       "      <td>0</td>\n",
       "      <td>0</td>\n",
       "      <td>1</td>\n",
       "      <td>16</td>\n",
       "    </tr>\n",
       "    <tr>\n",
       "      <th>увеличить_лимфатический_узел</th>\n",
       "      <td>0</td>\n",
       "      <td>0</td>\n",
       "      <td>0</td>\n",
       "      <td>0</td>\n",
       "      <td>17</td>\n",
       "    </tr>\n",
       "    <tr>\n",
       "      <th>снижение_аппетит</th>\n",
       "      <td>0</td>\n",
       "      <td>0</td>\n",
       "      <td>0</td>\n",
       "      <td>0</td>\n",
       "      <td>17</td>\n",
       "    </tr>\n",
       "    <tr>\n",
       "      <th>...</th>\n",
       "      <td>...</td>\n",
       "      <td>...</td>\n",
       "      <td>...</td>\n",
       "      <td>...</td>\n",
       "      <td>...</td>\n",
       "    </tr>\n",
       "    <tr>\n",
       "      <th>боль_в_сердце</th>\n",
       "      <td>1</td>\n",
       "      <td>1</td>\n",
       "      <td>1</td>\n",
       "      <td>0</td>\n",
       "      <td>14</td>\n",
       "    </tr>\n",
       "    <tr>\n",
       "      <th>диарея</th>\n",
       "      <td>1</td>\n",
       "      <td>1</td>\n",
       "      <td>0</td>\n",
       "      <td>0</td>\n",
       "      <td>15</td>\n",
       "    </tr>\n",
       "    <tr>\n",
       "      <th>атеросклероз</th>\n",
       "      <td>0</td>\n",
       "      <td>1</td>\n",
       "      <td>0</td>\n",
       "      <td>0</td>\n",
       "      <td>16</td>\n",
       "    </tr>\n",
       "    <tr>\n",
       "      <th>онемение</th>\n",
       "      <td>0</td>\n",
       "      <td>1</td>\n",
       "      <td>0</td>\n",
       "      <td>0</td>\n",
       "      <td>16</td>\n",
       "    </tr>\n",
       "    <tr>\n",
       "      <th>температура</th>\n",
       "      <td>0</td>\n",
       "      <td>1</td>\n",
       "      <td>0</td>\n",
       "      <td>0</td>\n",
       "      <td>16</td>\n",
       "    </tr>\n",
       "  </tbody>\n",
       "</table>\n",
       "<p>371 rows × 5 columns</p>\n",
       "</div>"
      ],
      "text/plain": [
       "                              VALID  INVALID  VALIDATE_EXTRACTOR  \\\n",
       "боль_в_горло                      0        0                   0   \n",
       "вялость                           0        0                   0   \n",
       "головной_боль                     0        0                   0   \n",
       "увеличить_лимфатический_узел      0        0                   0   \n",
       "снижение_аппетит                  0        0                   0   \n",
       "...                             ...      ...                 ...   \n",
       "боль_в_сердце                     1        1                   1   \n",
       "диарея                            1        1                   0   \n",
       "атеросклероз                      0        1                   0   \n",
       "онемение                          0        1                   0   \n",
       "температура                       0        1                   0   \n",
       "\n",
       "                              VALIDATE_MARKER  UNDEFINED  \n",
       "боль_в_горло                                1         16  \n",
       "вялость                                     0         17  \n",
       "головной_боль                               1         16  \n",
       "увеличить_лимфатический_узел                0         17  \n",
       "снижение_аппетит                            0         17  \n",
       "...                                       ...        ...  \n",
       "боль_в_сердце                               0         14  \n",
       "диарея                                      0         15  \n",
       "атеросклероз                                0         16  \n",
       "онемение                                    0         16  \n",
       "температура                                 0         16  \n",
       "\n",
       "[371 rows x 5 columns]"
      ]
     },
     "execution_count": 7,
     "metadata": {},
     "output_type": "execute_result"
    }
   ],
   "source": [
    "df_in_symptoms.sort_values(\"INVALID\")"
   ]
  },
  {
   "cell_type": "markdown",
   "id": "506c21fe-1232-4110-af55-c0704f714380",
   "metadata": {},
   "source": [
    "Видим, что invalid у температуры 1. Смотрим что за текст"
   ]
  },
  {
   "cell_type": "code",
   "execution_count": 14,
   "id": "9982f237-0c8c-4d17-9f89-f8485d6abbc3",
   "metadata": {},
   "outputs": [
    {
     "data": {
      "text/plain": [
       "'здравствуйте я мужчина год мес назад появиться боль в сердце сильный сердцебиение симптом уменьшаться от парацетамол и конкора до это быть воспаление носоглотка остаться на неделя после орви а до орви быть многомесячный рецидив хронический болезнь воспаление в грудь год назад заразиться венерический инфекция не лечить с тот пора иметь хронический инфекционный или реактивный болезнь с каждый год постоянно прибавляться новый симптом симптом который быть после заражение длительность по год но пройти температура боль и сильный дискофмфорт в глаз такой же дискомфорт и боль в горло симптом который есть сейчас боль и нехватка воздух в область бронх боль в многий сустав лигаментит тендинит выпот киста периодический воспаление шейный и паховой лимфоузел язвенный стоматит и расслаивание боль и вонь ноготь на нога сильный сухость ладонь участок точечный болячка на голова боль в область печень воспаление мпс орхит эпидидимит цистит простатит кальцинат обструкция диарея боль в живот иметься инфекция на данный момент гонококк хламидия клебсиел пневмония в мокрота золотистый стафилокок в глаз горло нос не исключить микоплазма сейчас самый сильный проблема сердце я уверенный на что это связать с инфекция в любой случай нужно проходить курс антибиотик но какой курс но возникать два вариант попадание бактерия в сердце гонококк стафилокок тогда антибиотик нужно принимать много месяц или у я реактивный артрит когда поражение сердце и весь остальной происходить вторично из за очаг инфекция в мочеполовой система тогда антибиотик достаточный обычный курс подсказать какой образ можно определить что с сердце из этот вариант'"
      ]
     },
     "execution_count": 14,
     "metadata": {},
     "output_type": "execute_result"
    }
   ],
   "source": [
    "df_showcase.case[df_showcase.marked_температура == 2].iloc[0]"
   ]
  },
  {
   "cell_type": "markdown",
   "id": "7d6c99e4-2dc7-4dc2-a65a-08a498c24ce3",
   "metadata": {},
   "source": [
    "Нужно поправить Extractor замечать такие моменты."
   ]
  }
 ],
 "metadata": {
  "kernelspec": {
   "display_name": "Python 3 (ipykernel)",
   "language": "python",
   "name": "python3"
  },
  "language_info": {
   "codemirror_mode": {
    "name": "ipython",
    "version": 3
   },
   "file_extension": ".py",
   "mimetype": "text/x-python",
   "name": "python",
   "nbconvert_exporter": "python",
   "pygments_lexer": "ipython3",
   "version": "3.10.8"
  }
 },
 "nbformat": 4,
 "nbformat_minor": 5
}
